{
 "cells": [
  {
   "cell_type": "markdown",
   "id": "147f189e-ebd4-4daa-bfc5-1c2e9f5b19d0",
   "metadata": {},
   "source": [
    "# Load and parse local dataset"
   ]
  },
  {
   "cell_type": "code",
   "execution_count": null,
   "id": "31ce2766-19aa-48fb-8a5f-8caf434b6c2b",
   "metadata": {},
   "outputs": [],
   "source": [
    "from datasets import load_dataset\n",
    "from transformers import AutoTokenizer, AutoModelForCausalLM"
   ]
  },
  {
   "cell_type": "code",
   "execution_count": null,
   "id": "26d9ed14-3bb1-47d1-9b78-dc9d19b62037",
   "metadata": {},
   "outputs": [],
   "source": [
    "prompt_style = \"\"\"下面是一个法律咨询问题，请提供一个回复来解决咨询问题，不需要提供思考过程。\n",
    "### 指令：\n",
    "你是一个法律咨询专家，请回答以下问题，不需要提供思考过程。\n",
    "\n",
    "### 问题：\n",
    "{}\n",
    "\n",
    "### 回复:\n",
    "{}\"\"\"\n",
    "\n",
    "train_prompt_style = \"\"\"下面是一个法律咨询问题，请提供一个回复来解决咨询问题，不需要提供思考过程。\n",
    "### 指令：\n",
    "你是一个法律咨询专家，请回答以下问题，不需要提供思考过程。\n",
    "\n",
    "### 问题：\n",
    "{}\n",
    "\n",
    "### 回复:\n",
    "{}\"\"\"\n",
    "\n",
    "local_sft_data_path = ''\n"
   ]
  },
  {
   "cell_type": "code",
   "execution_count": null,
   "id": "668932cd-6e5d-4cd5-b0d3-196a073f9587",
   "metadata": {},
   "outputs": [],
   "source": [
    "\n",
    "def formatting_prompts_func(examples, eos_token):\n",
    "    inputs = examples[\"question\"]\n",
    "    outputs = examples[\"answer\"]\n",
    "    texts = []\n",
    "    for inputs, outputs in zip(inputs, outputs):\n",
    "        text = train_prompt_style.format(inputs, outputs) + EOS_TOKEN\n",
    "        texts.append(text)\n",
    "    return {\n",
    "        \"text\": texts,\n",
    "    }"
   ]
  },
  {
   "cell_type": "code",
   "execution_count": null,
   "id": "20282eb5-282d-4826-a097-83e552e58abb",
   "metadata": {},
   "outputs": [],
   "source": [
    "%%time\n",
    "tokenizer = AutoTokenizer.from_pretrained(model_dir)\n",
    "\n",
    "model = AutoModelForCausalLM.from_pretrained(model_dir).to('cuda')\n",
    "  "
   ]
  },
  {
   "cell_type": "code",
   "execution_count": null,
   "id": "31ba2013-18ae-4555-bc92-369c37569f5c",
   "metadata": {},
   "outputs": [],
   "source": [
    "%%time\n",
    "\n",
    "dataset = load_dataset(\"json\", data_files=local_sft_data_path, split=\"train\")\n",
    "\n",
    "processed_dataset = dataset.map(\n",
    "    formatting_prompts_func,\n",
    "    batched=True,\n",
    "    fn_kwargs={'eos_token': tokenizer.eos_token},\n",
    ")\n",
    "\n",
    "print('dataset example')\n",
    "print(processed_dataset['text'][0])\n"
   ]
  }
 ],
 "metadata": {
  "kernelspec": {
   "display_name": "Python 3 (ipykernel)",
   "language": "python",
   "name": "python3"
  },
  "language_info": {
   "codemirror_mode": {
    "name": "ipython",
    "version": 3
   },
   "file_extension": ".py",
   "mimetype": "text/x-python",
   "name": "python",
   "nbconvert_exporter": "python",
   "pygments_lexer": "ipython3",
   "version": "3.12.8"
  }
 },
 "nbformat": 4,
 "nbformat_minor": 5
}
