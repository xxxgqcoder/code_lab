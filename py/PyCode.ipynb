{
 "cells": [
  {
   "cell_type": "markdown",
   "id": "7d3ceedb-77aa-4edd-8345-589e7b52987c",
   "metadata": {},
   "source": [
    "# Function running time measure"
   ]
  },
  {
   "cell_type": "code",
   "execution_count": 1,
   "id": "10db6dbe-3cb2-47c7-879c-5023df2556c0",
   "metadata": {},
   "outputs": [],
   "source": [
    "import time\n",
    "\n",
    "\n",
    "def time_it(func):\n",
    "\n",
    "    def wrapper(*kargs, **kwargs):\n",
    "        begin = time.time_ns()\n",
    "        func(*kargs, **kwargs)\n",
    "        elapse = (time.time_ns() - begin) // 1000\n",
    "        print(f\"func {func.__name__} took {elapse} ms to finish\")\n",
    "\n",
    "    return wrapper"
   ]
  },
  {
   "cell_type": "code",
   "execution_count": null,
   "id": "b4708f05-62cf-41a6-b924-48d4aae32078",
   "metadata": {},
   "outputs": [],
   "source": []
  }
 ],
 "metadata": {
  "kernelspec": {
   "display_name": "Python 3 (ipykernel)",
   "language": "python",
   "name": "python3"
  },
  "language_info": {
   "codemirror_mode": {
    "name": "ipython",
    "version": 3
   },
   "file_extension": ".py",
   "mimetype": "text/x-python",
   "name": "python",
   "nbconvert_exporter": "python",
   "pygments_lexer": "ipython3",
   "version": "3.12.8"
  }
 },
 "nbformat": 4,
 "nbformat_minor": 5
}
