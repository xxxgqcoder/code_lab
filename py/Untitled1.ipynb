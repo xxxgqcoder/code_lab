{
 "cells": [
  {
   "cell_type": "markdown",
   "id": "1bcc84fa-81aa-4a3e-bd77-6517397711cb",
   "metadata": {},
   "source": [
    "# Get accelerator device"
   ]
  },
  {
   "cell_type": "code",
   "execution_count": 2,
   "id": "d6abd397-1748-4d5b-82aa-88b08941453d",
   "metadata": {},
   "outputs": [
    {
     "name": "stdout",
     "output_type": "stream",
     "text": [
      "using device: mps\n"
     ]
    }
   ],
   "source": [
    "import torch\n",
    "\n",
    "device = torch.accelerator.current_accelerator(\n",
    ") if torch.accelerator.is_available() else 'cpu'\n",
    "print(f'using device: {device}')"
   ]
  },
  {
   "cell_type": "code",
   "execution_count": null,
   "id": "815cbbdc-c2e5-47c5-9de6-3d120d679945",
   "metadata": {},
   "outputs": [],
   "source": []
  },
  {
   "cell_type": "markdown",
   "id": "73b50490-073f-484b-8f80-bc0ffe3ebcf5",
   "metadata": {},
   "source": [
    "# PyTorch training loop"
   ]
  },
  {
   "cell_type": "code",
   "execution_count": null,
   "id": "05de167f-a8af-48db-a4b1-8c0b0c2b2b28",
   "metadata": {},
   "outputs": [],
   "source": [
    "import datetime\n",
    "\n",
    "import torch\n",
    "from torch import optim, nn\n",
    "epoch_num = 1\n",
    "train_loader = None  # torch dataset loader\n",
    "\n",
    "model = None\n",
    "learning_rate = 5e-6\n",
    "optimizer = optim.AdamW(model.parameters(), lr=learning_rate)\n",
    "loss_fn = nn.CrossEntropyLoss(reduction='none')\n",
    "\n",
    "model.train()\n",
    "for epoch in range(epoch_num):\n",
    "    print(f'running epoch: {epoch}')\n",
    "    for batch, (X, Y, loss_mask) in enumerate(train_loader):\n",
    "        # compute prediction and loss\n",
    "        X = X.to(device)\n",
    "        Y = Y.to(device)\n",
    "        loss_mask = loss_mask.to(device)\n",
    "        pred = model(X)\n",
    "        loss = loss_fn(pred.view(-1, pred.size(-1)), Y.view(-1)).view(Y.size())\n",
    "\n",
    "        loss = (loss * loss_mask).sum() / loss_mask.sum()\n",
    "\n",
    "        loss.backward()\n",
    "        optimizer.step()\n",
    "        optimizer.zero_grad()\n",
    "\n",
    "        loss = loss.item()\n",
    "        print(\n",
    "            f\"{datetime.datetime.now()}, epoch: {epoch}, step: {batch}, loss: {loss}\"\n",
    "        )"
   ]
  },
  {
   "cell_type": "code",
   "execution_count": null,
   "id": "303fa17e-b0b0-4394-ac7d-454fdcf9a4f5",
   "metadata": {},
   "outputs": [],
   "source": []
  },
  {
   "cell_type": "code",
   "execution_count": null,
   "id": "6fc64ffd-e5c9-4b27-a6ad-d72cd9a70b27",
   "metadata": {},
   "outputs": [],
   "source": []
  }
 ],
 "metadata": {
  "kernelspec": {
   "display_name": "Python 3 (ipykernel)",
   "language": "python",
   "name": "python3"
  },
  "language_info": {
   "codemirror_mode": {
    "name": "ipython",
    "version": 3
   },
   "file_extension": ".py",
   "mimetype": "text/x-python",
   "name": "python",
   "nbconvert_exporter": "python",
   "pygments_lexer": "ipython3",
   "version": "3.12.8"
  }
 },
 "nbformat": 4,
 "nbformat_minor": 5
}
