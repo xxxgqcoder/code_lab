{
 "cells": [
  {
   "cell_type": "markdown",
   "id": "5cc22a26-ed29-4adb-8c5a-d172f295ca0a",
   "metadata": {},
   "source": [
    "# My shebang"
   ]
  },
  {
   "cell_type": "code",
   "execution_count": null,
   "id": "0f629a64-5843-4df6-b425-c1e5943e83fe",
   "metadata": {},
   "outputs": [],
   "source": [
    "#!/usr/bin/env bash\n",
    "set -e\n",
    "cd $(dirname \"$0\")\n",
    "echo \"working directory $(pwd)\"\n"
   ]
  }
 ],
 "metadata": {
  "kernelspec": {
   "display_name": "Python 3 (ipykernel)",
   "language": "python",
   "name": "python3"
  },
  "language_info": {
   "codemirror_mode": {
    "name": "ipython",
    "version": 3
   },
   "file_extension": ".py",
   "mimetype": "text/x-python",
   "name": "python",
   "nbconvert_exporter": "python",
   "pygments_lexer": "ipython3",
   "version": "3.12.8"
  }
 },
 "nbformat": 4,
 "nbformat_minor": 5
}
