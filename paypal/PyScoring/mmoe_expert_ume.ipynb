{
 "cells": [
  {
   "cell_type": "markdown",
   "id": "32f6a309-3545-4e84-80b6-79f928de4105",
   "metadata": {},
   "source": [
    "# env config"
   ]
  },
  {
   "cell_type": "code",
   "execution_count": 4,
   "id": "f333ed1d-9771-44f9-b59d-3d9960f2d9bb",
   "metadata": {
    "execution": {
     "iopub.execute_input": "2023-07-02T12:06:25.031644Z",
     "iopub.status.busy": "2023-07-02T12:06:25.031406Z",
     "iopub.status.idle": "2023-07-02T12:06:25.040524Z",
     "shell.execute_reply": "2023-07-02T12:06:25.040058Z",
     "shell.execute_reply.started": "2023-07-02T12:06:25.031618Z"
    },
    "tags": []
   },
   "outputs": [
    {
     "name": "stdout",
     "output_type": "stream",
     "text": [
      "Initializing Google Cloud Authentication with your @paypalinc account.\n",
      "\t Please ensure that you have applied the following roles:\n",
      "\t PP_GCP_PROD_CONSOLE_SSO_ACCOUNT\n",
      "\t PP_GCP_PROD_CONSOLE_USER_ACCOUNT\n",
      "\t For new users, you may be redirected to a new URL to complete the authentication.\n"
     ]
    }
   ],
   "source": [
    "import os\n",
    "import sys\n",
    "import json\n",
    "import re\n",
    "from datetime import datetime\n",
    "\n",
    "username = 'guxia'\n",
    "repo_dir = f'/projects/gds-focus/data/{username}/UCC_LATAM23/'\n",
    "secret_path = f'/projects/{username}/secret'\n",
    "os.chdir(repo_dir)\n",
    "for p in [secret_path, f\"{repo_dir}/utils\"]:\n",
    "    if p not in sys.path:\n",
    "        sys.path.append(p)\n",
    "\n",
    "import pandas as pd\n",
    "import numpy as np\n",
    "import tensorflow as tf\n",
    "\n",
    "import aml.cloud_v1 as cloud\n",
    "cloud.notebook.authenticate_user()\n",
    "\n",
    "from automation_utils.common.file import read_by_line\n",
    "\n",
    "%reload_ext cloudmagics.bigquery\n",
    "%config PPMagics.domain=\"ccg24-hrzana-gds-focus\"\n",
    "%config PPMagics.autolimit=0\n",
    "%url -c horton\n"
   ]
  },
  {
   "cell_type": "markdown",
   "id": "548ac90c-d902-4ec2-8753-bcd816f5ba7e",
   "metadata": {
    "execution": {
     "iopub.execute_input": "2023-07-02T07:32:39.499175Z",
     "iopub.status.busy": "2023-07-02T07:32:39.498847Z",
     "iopub.status.idle": "2023-07-02T07:32:39.502275Z",
     "shell.execute_reply": "2023-07-02T07:32:39.501598Z",
     "shell.execute_reply.started": "2023-07-02T07:32:39.499146Z"
    },
    "tags": []
   },
   "source": [
    "# export shifu norm"
   ]
  },
  {
   "cell_type": "code",
   "execution_count": 5,
   "id": "e79baf0b-bdee-4f8d-b046-a35bd09f0207",
   "metadata": {
    "execution": {
     "iopub.execute_input": "2023-07-02T12:06:25.041827Z",
     "iopub.status.busy": "2023-07-02T12:06:25.041646Z",
     "iopub.status.idle": "2023-07-02T12:06:27.375055Z",
     "shell.execute_reply": "2023-07-02T12:06:27.374313Z",
     "shell.execute_reply.started": "2023-07-02T12:06:25.041804Z"
    },
    "tags": []
   },
   "outputs": [
    {
     "name": "stderr",
     "output_type": "stream",
     "text": [
      "Using jnius as backend.\n",
      "Loaded scoring jar from /opt/conda/jars/scoring-all-in-one-0.7.0.1-jar-with-dependencies.jar\n",
      "The installed tensorflow version is 2.x, the ModelCreator won't provided compatible for this version. Please use pyScoring.graph.Graph and pyScoring.tensorflow.TensorflowBuilder or pyScoring.keras.KerasTransformer to build your model"
     ]
    }
   ],
   "source": [
    "from automation_utils.zonkey import run_cmd\n",
    "\n",
    "from pyScoring.graph import Graph\n",
    "from pyScoring.shifu import ShifuTransformer\n",
    "from pyScoring.model.model import merge_model_specs\n",
    "from pyScoring.onnx.support.tf2.tf2_to_onnx import tf_model_to_onnx_as_spec\n",
    "from pyScoring import UMEModel, InputBuilder, NormalizeBuilder, ConstantBuilder, ReNameBuilder, ModeltoNodeBuilder\n",
    "\n"
   ]
  },
  {
   "cell_type": "code",
   "execution_count": 6,
   "id": "8d7aaebc-c8f1-4f42-8eb3-b0fc3dfced43",
   "metadata": {
    "execution": {
     "iopub.execute_input": "2023-07-02T12:06:27.376509Z",
     "iopub.status.busy": "2023-07-02T12:06:27.376324Z",
     "iopub.status.idle": "2023-07-02T12:06:27.384566Z",
     "shell.execute_reply": "2023-07-02T12:06:27.383967Z",
     "shell.execute_reply.started": "2023-07-02T12:06:27.376481Z"
    },
    "tags": []
   },
   "outputs": [],
   "source": [
    "def update_shifu_column_config(shifu_folder, features):\n",
    "    \"\"\"\n",
    "    update shifu column config, set finalSelect flag with respect to feature_list.\n",
    "    \"\"\"\n",
    "    # save a ColumnConfig backup cause we will change finalSelect column of it.\n",
    "    if not os.path.exists(os.path.join(shifu_folder, \"ColumnConfig_export_bkp.json\")):\n",
    "        src_file = os.path.join(shifu_folder, \"ColumnConfig.json\")\n",
    "        dst_file = os.path.join(shifu_folder, \"ColumnConfig_export_bkp.json\")\n",
    "        run_cmd(f\"cp {src_file} {dst_file}\")\n",
    "        print(f\"backup shifu column config for {shifu_folder}\")\n",
    "    \n",
    "    cc_path = os.path.join(shifu_folder, \"ColumnConfig.json\")\n",
    "\n",
    "    # modify column config json based on feature list\n",
    "    # columns with finalSelect being false will be ginored in followed norm expose step.\n",
    "    cc = json.load(open(cc_path, \"r\"))\n",
    "    features_set = set(features)\n",
    "    for elem in cc:\n",
    "        if elem[\"columnName\"] not in features_set:\n",
    "            elem[\"finalSelect\"] = False\n",
    "        else:\n",
    "            elem[\"finalSelect\"] = True\n",
    "    print(\"{} variables selected\".format(sum(i[\"finalSelect\"] for i in cc)))\n",
    "    \n",
    "    # store updated column config\n",
    "    with open(cc_path, \"w\") as f:\n",
    "        json.dump(cc, f)\n",
    "        "
   ]
  },
  {
   "cell_type": "code",
   "execution_count": 7,
   "id": "a87766dc-6be2-41e7-a99c-e15f2f47bf95",
   "metadata": {
    "execution": {
     "iopub.execute_input": "2023-07-02T12:06:27.385808Z",
     "iopub.status.busy": "2023-07-02T12:06:27.385613Z",
     "iopub.status.idle": "2023-07-02T12:06:27.401816Z",
     "shell.execute_reply": "2023-07-02T12:06:27.401078Z",
     "shell.execute_reply.started": "2023-07-02T12:06:27.385785Z"
    },
    "tags": []
   },
   "outputs": [],
   "source": [
    "def save_one_spec(tf_model_path,\n",
    "                  model_name,\n",
    "                  norm_nodes,\n",
    "                  tf_features,\n",
    "                  tf_output_names,\n",
    "                  model_spec_folder,\n",
    "                  score_scale=False,\n",
    "                  lower_bound=0,\n",
    "                  upper_bound=1000):\n",
    "    \"\"\"\n",
    "    Convert tf model as well as shifu norm layer into one UME.\n",
    "    \"\"\"\n",
    "    # load tensorflow model\n",
    "    print(\"tf mmoe model path: \", tf_model_path)\n",
    "    tf_model = tf.keras.models.load_model(tf_model_path)\n",
    "    \n",
    "    # convert to spec, rename covnerted spec output if necessary\n",
    "    tf_output_tmp_names = [src + \"_tmp\" for src in tf_output_names]\n",
    "    if score_scale:\n",
    "        tf_spec = tf_model_to_onnx_as_spec(tf_model=tf_model, \n",
    "                                           output_mappings=tf_output_tmp_names,\n",
    "                                           debug=False)\n",
    "    else:\n",
    "        tf_spec = tf_model_to_onnx_as_spec(tf_model=tf_model, \n",
    "                                           output_mappings=tf_output_names, \n",
    "                                           debug=False)\n",
    "        \n",
    "    # bridge of norm output and tf model input\n",
    "    # feature in tf_features should have suffix and must equal to shifu norm layer output.\n",
    "    input_nodes = InputBuilder(inputs=tf_features,\n",
    "                               output=tf_spec.inputs[0]).build()\n",
    "    \n",
    "    \n",
    "    # scale output of tf model\n",
    "    score_scale_nodes = []\n",
    "    if score_scale:\n",
    "        for src_tmp, src in zip(tf_output_tmp_names, tf_output_names):\n",
    "            score_scale_node = NormalizeBuilder(src + \"_norm\", src_tmp, src)\\\n",
    "                                .interval(0, 1)\\\n",
    "                                .map_to(lower_bound, upper_bound)\n",
    "            score_scale_nodes.append(score_scale_node.build())\n",
    "\n",
    "    # put all nodes together and output final model sepc\n",
    "    model_spec_file_name = f\"{model_name}_spec.m\"\n",
    "    merged_spec = merge_model_specs(specs=[tf_spec], \n",
    "                                    extra_nodes=[input_nodes] + score_scale_nodes + norm_nodes, \n",
    "                                    model_name=model_spec_file_name)\n",
    "\n",
    "    os.makedirs(model_spec_folder, exist_ok=True)\n",
    "    merged_spec.save(model_spec_folder)\n",
    "    \n",
    "    print(model_spec_file_name.lower())\n",
    "    \n",
    "    return merged_spec, model_spec_file_name.lower()"
   ]
  },
  {
   "cell_type": "code",
   "execution_count": null,
   "id": "ecaf38e8-73d4-4b63-b4af-9c206266eb35",
   "metadata": {
    "tags": []
   },
   "outputs": [],
   "source": []
  },
  {
   "cell_type": "code",
   "execution_count": null,
   "id": "b35696c6-27dc-46fe-9216-cd097b75b6cd",
   "metadata": {},
   "outputs": [],
   "source": []
  },
  {
   "cell_type": "markdown",
   "id": "d6db4bbe-ec95-425f-adbd-b965ff8e413e",
   "metadata": {},
   "source": [
    "Some context about MMoE:\n",
    "In MMoE we use shifu to run variable selection and variable normalization for each sub segment. But when it comes\n",
    "to deployment, we need concate the variable normalization layer togother with tensorflow layer for make one single\n",
    "UME. Thus we need to export shifu norm layer as UME, then concate it with tensorflow model UME."
   ]
  },
  {
   "cell_type": "code",
   "execution_count": 8,
   "id": "b59b2e8e-ecc4-46df-8779-63467385d4b2",
   "metadata": {
    "execution": {
     "iopub.execute_input": "2023-07-02T12:06:27.403287Z",
     "iopub.status.busy": "2023-07-02T12:06:27.403050Z",
     "iopub.status.idle": "2023-07-02T12:06:27.417044Z",
     "shell.execute_reply": "2023-07-02T12:06:27.416313Z",
     "shell.execute_reply.started": "2023-07-02T12:06:27.403264Z"
    },
    "tags": []
   },
   "outputs": [],
   "source": [
    "# parameters\n",
    "\n",
    "working_dir = os.getcwd()\n",
    "\n",
    "model_name = 'mmoe_debug'\n",
    "model_ck_num = 2\n",
    "# in this case, tf model produces two outputs\n",
    "tf_output_names = [f'{model_name}_is_cc_bad', f'{model_name}_loss_reg'] \n",
    "weight_columns = [\"driver_dol_wgt\"]\n",
    "target_columns = [\"driver_is_cc_bad\"]\n",
    "\n",
    "# tensorflow model checkpoint folder\n",
    "model_ckpt_dir = os.path.join(working_dir, \"model_ckpt\") \n",
    "# to load feature names used by tensorflow model. the features order should be the same with tensor feed into tf\n",
    "# model in training.\n",
    "model_asset_dir = os.path.join(working_dir, 'model_asset') \n",
    "# save exported tensorflow model spec\n",
    "model_spec_folder = os.path.join(working_dir, 'model_export', model_name) \n",
    "\n",
    "# segments and features\n",
    "# local shifu model root folder\n",
    "local_shifu_folder = 'shifu_model'\n",
    "\n",
    "shifu_models = [\n",
    "    \"varsel_ucc_latam_seg0\",    # overall\n",
    "    \"varsel_ucc_latam_seg1\",    # usdamt_500\n",
    "    \"varsel_ucc_latam_seg2\",    # usdamt_200\n",
    "    \"varsel_ucc_latam_seg3\",    # usdamt_100\n",
    "    \"varsel_ucc_latam_seg4\",    # cbp, without stc/cc\n",
    "    \"varsel_ucc_latam_seg5\",    # ucc21_400\n",
    "    \"varsel_ucc_latam_seg6\",    # ccbinbadrt_0.008\n",
    "    \"varsel_ucc_latam_seg7\",    # cbp, with stc/cc\n",
    "]\n",
    "\n",
    "\n",
    "# selected segment index\n",
    "seg_idx = [0,3,5,6,7]\n",
    "suffix = [f\"__seg{idx}\" for idx in range(len(shifu_models))]"
   ]
  },
  {
   "cell_type": "code",
   "execution_count": null,
   "id": "6ec27f81-9561-478f-bcd6-2ad6a3cd8c77",
   "metadata": {
    "tags": []
   },
   "outputs": [],
   "source": []
  },
  {
   "cell_type": "code",
   "execution_count": null,
   "id": "6f05c98e-903a-4fc4-a61b-eeadea0074c8",
   "metadata": {},
   "outputs": [],
   "source": []
  },
  {
   "cell_type": "code",
   "execution_count": null,
   "id": "2f647ff0-a44f-40e5-b49b-12dc5e3bdb91",
   "metadata": {},
   "outputs": [],
   "source": []
  },
  {
   "cell_type": "code",
   "execution_count": 9,
   "id": "ad6fe201-8d79-40f1-80f9-50cb464aa2a5",
   "metadata": {
    "execution": {
     "iopub.execute_input": "2023-07-02T12:06:27.419067Z",
     "iopub.status.busy": "2023-07-02T12:06:27.418845Z",
     "iopub.status.idle": "2023-07-02T12:06:39.664883Z",
     "shell.execute_reply": "2023-07-02T12:06:39.663963Z",
     "shell.execute_reply.started": "2023-07-02T12:06:27.419043Z"
    },
    "tags": []
   },
   "outputs": [
    {
     "name": "stdout",
     "output_type": "stream",
     "text": [
      "processing shifu model varsel_ucc_latam_seg0\n",
      "776 variables selected\n",
      "processing shifu model varsel_ucc_latam_seg3\n",
      "368 variables selected\n",
      "processing shifu model varsel_ucc_latam_seg5\n",
      "370 variables selected\n",
      "processing shifu model varsel_ucc_latam_seg6\n",
      "362 variables selected\n",
      "processing shifu model varsel_ucc_latam_seg7\n",
      "380 variables selected\n"
     ]
    },
    {
     "name": "stderr",
     "output_type": "stream",
     "text": [
      "/opt/conda/lib/python3.6/site-packages/pyScoring/graph/graph.py:300: UserWarning: optimization=False but set optimization=True is recommended. \n",
      "This will apply various optimizations to reduce model size or improve performance. You can also use following code to do the optimization later.\n",
      "\t>>> from pyScoring.model.optimizer import optimize \n",
      "\t>>> optimize(model)\n",
      "\n",
      "  warnings.warn(f'optimization=False but set optimization=True is recommended. \\nThis will apply various '\n"
     ]
    }
   ],
   "source": [
    "# get segment specific variables\n",
    "# in read features, features of seg 0 dont have `__seg0` suffix while other segment does.\n",
    "features = read_by_line(f\"{model_asset_dir}/{model_name}/features.txt\")\n",
    "feat_df = pd.DataFrame(features, columns=['name'])\n",
    "feat_df['seg_idx'] = feat_df['name'].map(lambda x: int(x.split('__seg')[-1]) if '__seg' in x else 0)\n",
    "\n",
    "seg_features = {}\n",
    "for idx in seg_idx:\n",
    "    seg_features[idx] = feat_df[feat_df['seg_idx'] == idx]['name']\\\n",
    "                            .map(lambda x: x.split('__seg')[0] if '__seg' in x else x)\\\n",
    "                            .to_list()\n",
    "    \n",
    "\n",
    "# modify shifu column config\n",
    "norm_nodes = []\n",
    "for idx in seg_idx:\n",
    "    shifu_model = shifu_models[idx]\n",
    "    shifu_model_folder = f\"{local_shifu_folder}/{shifu_model}\"\n",
    "    print(f'processing shifu model {shifu_model}')\n",
    "    update_shifu_column_config(shifu_model_folder, seg_features[idx])\n",
    "    \n",
    "    shifu_norm = ShifuTransformer(shifu_model_folder)\n",
    "    # with suffix parameter, outputs of shifu norm will be like xxx`{suffix}`\n",
    "    norm_nodes.extend(shifu_norm.create_shifu_transformation_nodes(postfix=suffix[idx]))\n",
    "    \n",
    "    \n",
    "# append seg0 suffix to features in overall segment (seg0)\n",
    "tf_features = []\n",
    "for f in features:\n",
    "    if '__seg' not in f:\n",
    "        f += '__seg0'\n",
    "    tf_features.append(f)\n",
    "    \n",
    "    \n",
    "# norm spec\n",
    "graph = Graph()\n",
    "graph.add_nodes(norm_nodes)\n",
    "norm_spec = graph.generate_model_by_graph(model_name=model_name+\"_norm_spec\", optimization=False)"
   ]
  },
  {
   "cell_type": "code",
   "execution_count": 10,
   "id": "b2758dd5-d702-4988-9e2f-246cf09e9b68",
   "metadata": {
    "execution": {
     "iopub.execute_input": "2023-07-02T12:06:39.667091Z",
     "iopub.status.busy": "2023-07-02T12:06:39.666851Z",
     "iopub.status.idle": "2023-07-02T12:06:47.875467Z",
     "shell.execute_reply": "2023-07-02T12:06:47.874782Z",
     "shell.execute_reply.started": "2023-07-02T12:06:39.667069Z"
    },
    "scrolled": true,
    "tags": []
   },
   "outputs": [
    {
     "name": "stdout",
     "output_type": "stream",
     "text": [
      "tf mmoe model path:  /projects/gds-focus/data/guxia/UCC_LATAM23/model_ckpt/mmoe_debug/model-02.ckpt\n",
      "checking onnx model spec...\n",
      "mmoe_debug_spec.m\n"
     ]
    }
   ],
   "source": [
    "tf_model_path = f\"{model_ckpt_dir}/{model_name}/model-\" + \"{:02d}.ckpt\".format(model_ck_num)\n",
    "\n",
    "model_spec, _ = save_one_spec(tf_model_path,\n",
    "                           model_name,\n",
    "                           norm_nodes,\n",
    "                           tf_features,\n",
    "                           tf_output_names,\n",
    "                           model_spec_folder, \n",
    "                           score_scale=False\n",
    "                          )\n"
   ]
  },
  {
   "cell_type": "code",
   "execution_count": null,
   "id": "4883195b-e6b4-46be-b9db-6cff28e03644",
   "metadata": {},
   "outputs": [],
   "source": []
  },
  {
   "cell_type": "code",
   "execution_count": null,
   "id": "d428ff01-6966-4f8e-96c0-1a7e63f79908",
   "metadata": {},
   "outputs": [],
   "source": []
  },
  {
   "cell_type": "markdown",
   "id": "c78da483-edad-4f1b-88c5-530385480de0",
   "metadata": {},
   "source": [
    "# validate "
   ]
  },
  {
   "cell_type": "markdown",
   "id": "ad30ed09-7025-4acc-870b-99e69d40a9e8",
   "metadata": {},
   "source": [
    "## validate norm layer"
   ]
  },
  {
   "cell_type": "code",
   "execution_count": null,
   "id": "b964fc87-65f3-4cb5-8463-622b87321368",
   "metadata": {
    "tags": []
   },
   "outputs": [],
   "source": []
  },
  {
   "cell_type": "code",
   "execution_count": 239,
   "id": "104d0a67-1002-491c-8101-2ca69a503e68",
   "metadata": {
    "execution": {
     "iopub.execute_input": "2023-07-02T09:34:27.487669Z",
     "iopub.status.busy": "2023-07-02T09:34:27.487434Z",
     "iopub.status.idle": "2023-07-02T09:34:31.234617Z",
     "shell.execute_reply": "2023-07-02T09:34:31.233718Z",
     "shell.execute_reply.started": "2023-07-02T09:34:27.487647Z"
    },
    "tags": []
   },
   "outputs": [],
   "source": [
    "# normed original data\n",
    "normed_sample_data_path = os.path.join(working_dir, 'model_export', 'norm_sample_rows.csv') \n",
    "\n",
    "# original raw data\n",
    "raw_sample_data_path = os.path.join(working_dir, 'model_export', 'validation_raw_data_500_stc_cc.csv')\n",
    "\n",
    "# orignal raw data\n",
    "raw_df = pd.read_csv(raw_sample_data_path, dtype=str)\n",
    "\n",
    "# normed original data\n",
    "norm_df = pd.read_csv(normed_sample_data_path, dtype=str)"
   ]
  },
  {
   "cell_type": "code",
   "execution_count": 240,
   "id": "f2593de9-b2f5-4801-a681-138bc3747919",
   "metadata": {
    "execution": {
     "iopub.execute_input": "2023-07-02T09:34:31.282156Z",
     "iopub.status.busy": "2023-07-02T09:34:31.281709Z",
     "iopub.status.idle": "2023-07-02T09:34:31.443005Z",
     "shell.execute_reply": "2023-07-02T09:34:31.442139Z",
     "shell.execute_reply.started": "2023-07-02T09:34:31.282109Z"
    },
    "tags": []
   },
   "outputs": [
    {
     "data": {
      "text/html": [
       "<div>\n",
       "<style scoped>\n",
       "    .dataframe tbody tr th:only-of-type {\n",
       "        vertical-align: middle;\n",
       "    }\n",
       "\n",
       "    .dataframe tbody tr th {\n",
       "        vertical-align: top;\n",
       "    }\n",
       "\n",
       "    .dataframe thead th {\n",
       "        text-align: right;\n",
       "    }\n",
       "</style>\n",
       "<table border=\"1\" class=\"dataframe\">\n",
       "  <thead>\n",
       "    <tr style=\"text-align: right;\">\n",
       "      <th></th>\n",
       "      <th>driver_trans_id</th>\n",
       "      <th>driver_pmt_start_date</th>\n",
       "      <th>driver_pmt_start_ts</th>\n",
       "      <th>driver_usd_amt</th>\n",
       "      <th>driver_cg_type_code</th>\n",
       "      <th>driver_cg_3pc_weight</th>\n",
       "      <th>driver_ucc_sf_static_rmr_score</th>\n",
       "      <th>driver_ucc21_model_score1</th>\n",
       "      <th>driver_ucc_latam_cbp_model_score1</th>\n",
       "      <th>driver_sndr_id</th>\n",
       "      <th>...</th>\n",
       "      <th>stc_pp_addr_city_match_score</th>\n",
       "      <th>stc_pp_addr_state_match_score</th>\n",
       "      <th>stc_pp_name_match_score</th>\n",
       "      <th>stc_pp_email_match_score</th>\n",
       "      <th>stc_pp_ip_match_score</th>\n",
       "      <th>stc_customer_dof</th>\n",
       "      <th>ucc_cc_engagement</th>\n",
       "      <th>ucc_trust_variable</th>\n",
       "      <th>ucc_trust_combine</th>\n",
       "      <th>ucc_cc_segment_crime</th>\n",
       "    </tr>\n",
       "  </thead>\n",
       "  <tbody>\n",
       "    <tr>\n",
       "      <th>0</th>\n",
       "      <td>21128560877329139.000000000000000000</td>\n",
       "      <td>2022-08-12</td>\n",
       "      <td>2022-08-12 13:29:10.0</td>\n",
       "      <td>2.500000000000000000</td>\n",
       "      <td>0</td>\n",
       "      <td>1.000000000000000000</td>\n",
       "      <td>216.804900000000000000</td>\n",
       "      <td>195.111700000000000000</td>\n",
       "      <td>NaN</td>\n",
       "      <td>5593627300869059724</td>\n",
       "      <td>...</td>\n",
       "      <td>NaN</td>\n",
       "      <td>NaN</td>\n",
       "      <td>NaN</td>\n",
       "      <td>NaN</td>\n",
       "      <td>NaN</td>\n",
       "      <td>NaN</td>\n",
       "      <td>NaN</td>\n",
       "      <td>NaN</td>\n",
       "      <td>NaN</td>\n",
       "      <td>NaN</td>\n",
       "    </tr>\n",
       "    <tr>\n",
       "      <th>1</th>\n",
       "      <td>21149250798954206.000000000000000000</td>\n",
       "      <td>2022-08-31</td>\n",
       "      <td>2022-08-31 15:13:47.0</td>\n",
       "      <td>7.470000000000000000</td>\n",
       "      <td>0</td>\n",
       "      <td>1.000000000000000000</td>\n",
       "      <td>859.388100000000000000</td>\n",
       "      <td>550.176600000000000000</td>\n",
       "      <td>NaN</td>\n",
       "      <td>1259348676648328678</td>\n",
       "      <td>...</td>\n",
       "      <td>NaN</td>\n",
       "      <td>NaN</td>\n",
       "      <td>NaN</td>\n",
       "      <td>NaN</td>\n",
       "      <td>NaN</td>\n",
       "      <td>NaN</td>\n",
       "      <td>NaN</td>\n",
       "      <td>NaN</td>\n",
       "      <td>NaN</td>\n",
       "      <td>NaN</td>\n",
       "    </tr>\n",
       "    <tr>\n",
       "      <th>2</th>\n",
       "      <td>21143950720309180.000000000000000000</td>\n",
       "      <td>2022-08-26</td>\n",
       "      <td>2022-08-26 06:20:44.0</td>\n",
       "      <td>0.500000000000000000</td>\n",
       "      <td>0</td>\n",
       "      <td>1.000000000000000000</td>\n",
       "      <td>317.939900000000000000</td>\n",
       "      <td>62.318600000000000000</td>\n",
       "      <td>NaN</td>\n",
       "      <td>5616219136527822036</td>\n",
       "      <td>...</td>\n",
       "      <td>NaN</td>\n",
       "      <td>NaN</td>\n",
       "      <td>NaN</td>\n",
       "      <td>NaN</td>\n",
       "      <td>NaN</td>\n",
       "      <td>NaN</td>\n",
       "      <td>NaN</td>\n",
       "      <td>NaN</td>\n",
       "      <td>NaN</td>\n",
       "      <td>NaN</td>\n",
       "    </tr>\n",
       "    <tr>\n",
       "      <th>3</th>\n",
       "      <td>21149252974351991.000000000000000000</td>\n",
       "      <td>2022-08-31</td>\n",
       "      <td>2022-08-31 18:56:32.0</td>\n",
       "      <td>2.480000000000000000</td>\n",
       "      <td>0</td>\n",
       "      <td>1.000000000000000000</td>\n",
       "      <td>359.095700000000000000</td>\n",
       "      <td>110.226900000000000000</td>\n",
       "      <td>NaN</td>\n",
       "      <td>1933795179558290733</td>\n",
       "      <td>...</td>\n",
       "      <td>NaN</td>\n",
       "      <td>NaN</td>\n",
       "      <td>NaN</td>\n",
       "      <td>NaN</td>\n",
       "      <td>NaN</td>\n",
       "      <td>NaN</td>\n",
       "      <td>NaN</td>\n",
       "      <td>NaN</td>\n",
       "      <td>NaN</td>\n",
       "      <td>NaN</td>\n",
       "    </tr>\n",
       "    <tr>\n",
       "      <th>4</th>\n",
       "      <td>21137367341078193.000000000000000000</td>\n",
       "      <td>2022-08-20</td>\n",
       "      <td>2022-08-20 11:12:32.0</td>\n",
       "      <td>44.030000000000000000</td>\n",
       "      <td>0</td>\n",
       "      <td>1.000000000000000000</td>\n",
       "      <td>700.712600000000000000</td>\n",
       "      <td>331.449100000000000000</td>\n",
       "      <td>NaN</td>\n",
       "      <td>6090514464929197745</td>\n",
       "      <td>...</td>\n",
       "      <td>NaN</td>\n",
       "      <td>NaN</td>\n",
       "      <td>NaN</td>\n",
       "      <td>NaN</td>\n",
       "      <td>NaN</td>\n",
       "      <td>NaN</td>\n",
       "      <td>NaN</td>\n",
       "      <td>NaN</td>\n",
       "      <td>NaN</td>\n",
       "      <td>NaN</td>\n",
       "    </tr>\n",
       "  </tbody>\n",
       "</table>\n",
       "<p>5 rows × 3390 columns</p>\n",
       "</div>"
      ],
      "text/plain": [
       "                        driver_trans_id driver_pmt_start_date  \\\n",
       "0  21128560877329139.000000000000000000            2022-08-12   \n",
       "1  21149250798954206.000000000000000000            2022-08-31   \n",
       "2  21143950720309180.000000000000000000            2022-08-26   \n",
       "3  21149252974351991.000000000000000000            2022-08-31   \n",
       "4  21137367341078193.000000000000000000            2022-08-20   \n",
       "\n",
       "     driver_pmt_start_ts         driver_usd_amt driver_cg_type_code  \\\n",
       "0  2022-08-12 13:29:10.0   2.500000000000000000                   0   \n",
       "1  2022-08-31 15:13:47.0   7.470000000000000000                   0   \n",
       "2  2022-08-26 06:20:44.0   0.500000000000000000                   0   \n",
       "3  2022-08-31 18:56:32.0   2.480000000000000000                   0   \n",
       "4  2022-08-20 11:12:32.0  44.030000000000000000                   0   \n",
       "\n",
       "   driver_cg_3pc_weight driver_ucc_sf_static_rmr_score  \\\n",
       "0  1.000000000000000000         216.804900000000000000   \n",
       "1  1.000000000000000000         859.388100000000000000   \n",
       "2  1.000000000000000000         317.939900000000000000   \n",
       "3  1.000000000000000000         359.095700000000000000   \n",
       "4  1.000000000000000000         700.712600000000000000   \n",
       "\n",
       "  driver_ucc21_model_score1 driver_ucc_latam_cbp_model_score1  \\\n",
       "0    195.111700000000000000                               NaN   \n",
       "1    550.176600000000000000                               NaN   \n",
       "2     62.318600000000000000                               NaN   \n",
       "3    110.226900000000000000                               NaN   \n",
       "4    331.449100000000000000                               NaN   \n",
       "\n",
       "        driver_sndr_id  ... stc_pp_addr_city_match_score  \\\n",
       "0  5593627300869059724  ...                          NaN   \n",
       "1  1259348676648328678  ...                          NaN   \n",
       "2  5616219136527822036  ...                          NaN   \n",
       "3  1933795179558290733  ...                          NaN   \n",
       "4  6090514464929197745  ...                          NaN   \n",
       "\n",
       "  stc_pp_addr_state_match_score stc_pp_name_match_score  \\\n",
       "0                           NaN                     NaN   \n",
       "1                           NaN                     NaN   \n",
       "2                           NaN                     NaN   \n",
       "3                           NaN                     NaN   \n",
       "4                           NaN                     NaN   \n",
       "\n",
       "  stc_pp_email_match_score stc_pp_ip_match_score stc_customer_dof  \\\n",
       "0                      NaN                   NaN              NaN   \n",
       "1                      NaN                   NaN              NaN   \n",
       "2                      NaN                   NaN              NaN   \n",
       "3                      NaN                   NaN              NaN   \n",
       "4                      NaN                   NaN              NaN   \n",
       "\n",
       "  ucc_cc_engagement ucc_trust_variable ucc_trust_combine ucc_cc_segment_crime  \n",
       "0               NaN                NaN               NaN                  NaN  \n",
       "1               NaN                NaN               NaN                  NaN  \n",
       "2               NaN                NaN               NaN                  NaN  \n",
       "3               NaN                NaN               NaN                  NaN  \n",
       "4               NaN                NaN               NaN                  NaN  \n",
       "\n",
       "[5 rows x 3390 columns]"
      ]
     },
     "execution_count": 240,
     "metadata": {},
     "output_type": "execute_result"
    }
   ],
   "source": [
    "raw_df.head()"
   ]
  },
  {
   "cell_type": "code",
   "execution_count": 232,
   "id": "68c0be82-ed61-4387-a8d7-c749e4c1c372",
   "metadata": {
    "execution": {
     "iopub.execute_input": "2023-07-02T09:32:42.557096Z",
     "iopub.status.busy": "2023-07-02T09:32:42.556935Z",
     "iopub.status.idle": "2023-07-02T09:32:42.869405Z",
     "shell.execute_reply": "2023-07-02T09:32:42.868730Z",
     "shell.execute_reply.started": "2023-07-02T09:32:42.557076Z"
    },
    "tags": []
   },
   "outputs": [
    {
     "data": {
      "text/html": [
       "<div>\n",
       "<style scoped>\n",
       "    .dataframe tbody tr th:only-of-type {\n",
       "        vertical-align: middle;\n",
       "    }\n",
       "\n",
       "    .dataframe tbody tr th {\n",
       "        vertical-align: top;\n",
       "    }\n",
       "\n",
       "    .dataframe thead th {\n",
       "        text-align: right;\n",
       "    }\n",
       "</style>\n",
       "<table border=\"1\" class=\"dataframe\">\n",
       "  <thead>\n",
       "    <tr style=\"text-align: right;\">\n",
       "      <th></th>\n",
       "      <th>driver_trans_id</th>\n",
       "      <th>driver_is_cc_bad</th>\n",
       "      <th>driver_dol_wgt</th>\n",
       "      <th>driver_pmt_start_date</th>\n",
       "      <th>driver_pmt_start_ts</th>\n",
       "      <th>driver_usd_amt</th>\n",
       "      <th>driver_cg_type_code</th>\n",
       "      <th>driver_cg_3pc_weight</th>\n",
       "      <th>driver_ucc_sf_static_rmr_score</th>\n",
       "      <th>driver_ucc21_model_score1</th>\n",
       "      <th>...</th>\n",
       "      <th>stc_pp_addr_city_match_score__seg7</th>\n",
       "      <th>stc_pp_addr_state_match_score__seg7</th>\n",
       "      <th>stc_pp_name_match_score__seg7</th>\n",
       "      <th>stc_pp_email_match_score__seg7</th>\n",
       "      <th>stc_pp_ip_match_score__seg7</th>\n",
       "      <th>stc_customer_dof__seg7</th>\n",
       "      <th>ucc_cc_engagement__seg7</th>\n",
       "      <th>ucc_trust_variable__seg7</th>\n",
       "      <th>ucc_trust_combine__seg7</th>\n",
       "      <th>ucc_cc_segment_crime__seg7</th>\n",
       "    </tr>\n",
       "  </thead>\n",
       "  <tbody>\n",
       "    <tr>\n",
       "      <th>0</th>\n",
       "      <td>21123964680947451.000000000000000000</td>\n",
       "      <td>0</td>\n",
       "      <td>1</td>\n",
       "      <td>2022-08-08</td>\n",
       "      <td>2022-08-08 05:56:08.0</td>\n",
       "      <td>53.720000000000000000</td>\n",
       "      <td>0</td>\n",
       "      <td>1.000000000000000000</td>\n",
       "      <td>974.311400000000000000</td>\n",
       "      <td>682.374600000000000000</td>\n",
       "      <td>...</td>\n",
       "      <td>0.21330915</td>\n",
       "      <td>2.2596936</td>\n",
       "      <td>1.397657</td>\n",
       "      <td>1.6443917</td>\n",
       "      <td>1.9279009</td>\n",
       "      <td>0.5118835</td>\n",
       "      <td>-0.21281977</td>\n",
       "      <td>-0.448634</td>\n",
       "      <td>-0.6465488</td>\n",
       "      <td>-0.3358863</td>\n",
       "    </tr>\n",
       "    <tr>\n",
       "      <th>1</th>\n",
       "      <td>21142854896397431.000000000000000000</td>\n",
       "      <td>0</td>\n",
       "      <td>7.520000000000000000</td>\n",
       "      <td>2022-08-25</td>\n",
       "      <td>2022-08-25 11:38:18.0</td>\n",
       "      <td>7.520000000000000000</td>\n",
       "      <td>0</td>\n",
       "      <td>1.000000000000000000</td>\n",
       "      <td>395.672800000000000000</td>\n",
       "      <td>67.607600000000000000</td>\n",
       "      <td>...</td>\n",
       "      <td>0.21330915</td>\n",
       "      <td>2.2596936</td>\n",
       "      <td>1.397657</td>\n",
       "      <td>1.6443917</td>\n",
       "      <td>1.9279009</td>\n",
       "      <td>0.5118835</td>\n",
       "      <td>-0.21281977</td>\n",
       "      <td>-0.448634</td>\n",
       "      <td>-0.6465488</td>\n",
       "      <td>-0.3358863</td>\n",
       "    </tr>\n",
       "    <tr>\n",
       "      <th>2</th>\n",
       "      <td>21129668413384885.000000000000000000</td>\n",
       "      <td>0</td>\n",
       "      <td>1</td>\n",
       "      <td>2022-08-13</td>\n",
       "      <td>2022-08-13 12:48:07.0</td>\n",
       "      <td>7.540000000000000000</td>\n",
       "      <td>0</td>\n",
       "      <td>1.000000000000000000</td>\n",
       "      <td>895.373800000000000000</td>\n",
       "      <td>499.198200000000000000</td>\n",
       "      <td>...</td>\n",
       "      <td>0.21330915</td>\n",
       "      <td>2.2596936</td>\n",
       "      <td>1.397657</td>\n",
       "      <td>1.6443917</td>\n",
       "      <td>1.9279009</td>\n",
       "      <td>0.5118835</td>\n",
       "      <td>-0.21281977</td>\n",
       "      <td>-0.448634</td>\n",
       "      <td>-0.6465488</td>\n",
       "      <td>-0.3358863</td>\n",
       "    </tr>\n",
       "    <tr>\n",
       "      <th>3</th>\n",
       "      <td>21138256452693504.000000000000000000</td>\n",
       "      <td>0</td>\n",
       "      <td>2.470000000000000000</td>\n",
       "      <td>2022-08-21</td>\n",
       "      <td>2022-08-21 08:38:23.0</td>\n",
       "      <td>2.470000000000000000</td>\n",
       "      <td>0</td>\n",
       "      <td>1.000000000000000000</td>\n",
       "      <td>515.779500000000000000</td>\n",
       "      <td>153.018400000000000000</td>\n",
       "      <td>...</td>\n",
       "      <td>0.21330915</td>\n",
       "      <td>2.2596936</td>\n",
       "      <td>1.397657</td>\n",
       "      <td>1.6443917</td>\n",
       "      <td>1.9279009</td>\n",
       "      <td>0.5118835</td>\n",
       "      <td>-0.21281977</td>\n",
       "      <td>-0.448634</td>\n",
       "      <td>-0.6465488</td>\n",
       "      <td>-0.3358863</td>\n",
       "    </tr>\n",
       "    <tr>\n",
       "      <th>4</th>\n",
       "      <td>21144857869342011.000000000000000000</td>\n",
       "      <td>0</td>\n",
       "      <td>2.500000000000000000</td>\n",
       "      <td>2022-08-27</td>\n",
       "      <td>2022-08-27 16:21:19.0</td>\n",
       "      <td>2.500000000000000000</td>\n",
       "      <td>0</td>\n",
       "      <td>1.000000000000000000</td>\n",
       "      <td>344.549000000000000000</td>\n",
       "      <td>67.919800000000000000</td>\n",
       "      <td>...</td>\n",
       "      <td>0.21330915</td>\n",
       "      <td>2.2596936</td>\n",
       "      <td>1.397657</td>\n",
       "      <td>1.6443917</td>\n",
       "      <td>1.9279009</td>\n",
       "      <td>0.5118835</td>\n",
       "      <td>-0.21281977</td>\n",
       "      <td>-0.448634</td>\n",
       "      <td>-0.6465488</td>\n",
       "      <td>-0.3358863</td>\n",
       "    </tr>\n",
       "  </tbody>\n",
       "</table>\n",
       "<p>5 rows × 12811 columns</p>\n",
       "</div>"
      ],
      "text/plain": [
       "                        driver_trans_id driver_is_cc_bad  \\\n",
       "0  21123964680947451.000000000000000000                0   \n",
       "1  21142854896397431.000000000000000000                0   \n",
       "2  21129668413384885.000000000000000000                0   \n",
       "3  21138256452693504.000000000000000000                0   \n",
       "4  21144857869342011.000000000000000000                0   \n",
       "\n",
       "         driver_dol_wgt driver_pmt_start_date    driver_pmt_start_ts  \\\n",
       "0                     1            2022-08-08  2022-08-08 05:56:08.0   \n",
       "1  7.520000000000000000            2022-08-25  2022-08-25 11:38:18.0   \n",
       "2                     1            2022-08-13  2022-08-13 12:48:07.0   \n",
       "3  2.470000000000000000            2022-08-21  2022-08-21 08:38:23.0   \n",
       "4  2.500000000000000000            2022-08-27  2022-08-27 16:21:19.0   \n",
       "\n",
       "          driver_usd_amt driver_cg_type_code  driver_cg_3pc_weight  \\\n",
       "0  53.720000000000000000                   0  1.000000000000000000   \n",
       "1   7.520000000000000000                   0  1.000000000000000000   \n",
       "2   7.540000000000000000                   0  1.000000000000000000   \n",
       "3   2.470000000000000000                   0  1.000000000000000000   \n",
       "4   2.500000000000000000                   0  1.000000000000000000   \n",
       "\n",
       "  driver_ucc_sf_static_rmr_score driver_ucc21_model_score1  ...  \\\n",
       "0         974.311400000000000000    682.374600000000000000  ...   \n",
       "1         395.672800000000000000     67.607600000000000000  ...   \n",
       "2         895.373800000000000000    499.198200000000000000  ...   \n",
       "3         515.779500000000000000    153.018400000000000000  ...   \n",
       "4         344.549000000000000000     67.919800000000000000  ...   \n",
       "\n",
       "  stc_pp_addr_city_match_score__seg7 stc_pp_addr_state_match_score__seg7  \\\n",
       "0                         0.21330915                           2.2596936   \n",
       "1                         0.21330915                           2.2596936   \n",
       "2                         0.21330915                           2.2596936   \n",
       "3                         0.21330915                           2.2596936   \n",
       "4                         0.21330915                           2.2596936   \n",
       "\n",
       "  stc_pp_name_match_score__seg7 stc_pp_email_match_score__seg7  \\\n",
       "0                      1.397657                      1.6443917   \n",
       "1                      1.397657                      1.6443917   \n",
       "2                      1.397657                      1.6443917   \n",
       "3                      1.397657                      1.6443917   \n",
       "4                      1.397657                      1.6443917   \n",
       "\n",
       "  stc_pp_ip_match_score__seg7 stc_customer_dof__seg7 ucc_cc_engagement__seg7  \\\n",
       "0                   1.9279009              0.5118835             -0.21281977   \n",
       "1                   1.9279009              0.5118835             -0.21281977   \n",
       "2                   1.9279009              0.5118835             -0.21281977   \n",
       "3                   1.9279009              0.5118835             -0.21281977   \n",
       "4                   1.9279009              0.5118835             -0.21281977   \n",
       "\n",
       "  ucc_trust_variable__seg7 ucc_trust_combine__seg7 ucc_cc_segment_crime__seg7  \n",
       "0                -0.448634              -0.6465488                 -0.3358863  \n",
       "1                -0.448634              -0.6465488                 -0.3358863  \n",
       "2                -0.448634              -0.6465488                 -0.3358863  \n",
       "3                -0.448634              -0.6465488                 -0.3358863  \n",
       "4                -0.448634              -0.6465488                 -0.3358863  \n",
       "\n",
       "[5 rows x 12811 columns]"
      ]
     },
     "execution_count": 232,
     "metadata": {},
     "output_type": "execute_result"
    }
   ],
   "source": [
    "norm_df.head()"
   ]
  },
  {
   "cell_type": "code",
   "execution_count": 300,
   "id": "38fc9a18-8bc1-4cae-9995-155b8dcb6b3d",
   "metadata": {
    "execution": {
     "iopub.execute_input": "2023-07-02T10:00:11.917867Z",
     "iopub.status.busy": "2023-07-02T10:00:11.917569Z",
     "iopub.status.idle": "2023-07-02T10:00:11.922661Z",
     "shell.execute_reply": "2023-07-02T10:00:11.921816Z",
     "shell.execute_reply.started": "2023-07-02T10:00:11.917842Z"
    },
    "tags": []
   },
   "outputs": [],
   "source": [
    "def validate_norm_layer(ume_normed, original_normed, features):\n",
    "    for c in features:\n",
    "        if '__seg' not in c:\n",
    "            ume = ume_normed[c + '__seg0']\n",
    "        else:\n",
    "            ume = ume_normed[c]\n",
    "        original = original_normed[c]\n",
    "        if abs(float(ume) - float(original)) > 1e-5:\n",
    "            print(f\"{c} mismatch, origianl: {original}, ume normed: {ume}\")\n",
    "        "
   ]
  },
  {
   "cell_type": "code",
   "execution_count": 270,
   "id": "947800c8-8b16-4516-9fac-c7e6e136cbee",
   "metadata": {
    "execution": {
     "iopub.execute_input": "2023-07-02T09:49:07.641697Z",
     "iopub.status.busy": "2023-07-02T09:49:07.641424Z",
     "iopub.status.idle": "2023-07-02T09:50:40.248375Z",
     "shell.execute_reply": "2023-07-02T09:50:40.247328Z",
     "shell.execute_reply.started": "2023-07-02T09:49:07.641672Z"
    },
    "tags": []
   },
   "outputs": [
    {
     "name": "stdout",
     "output_type": "stream",
     "text": [
      "start prediction for 500 rows\n",
      "Progress: |=================================================>| (500/500, 00:01:30/00:01:30) 100.0% Complete\n"
     ]
    }
   ],
   "source": [
    "trans_ids = ['21123964680947451.000000000000000000',\n",
    "             '21142854896397431.000000000000000000',\n",
    "             '21129668413384885.000000000000000000',\n",
    "             '21138256452693504.000000000000000000',\n",
    "             '21144857869342011.000000000000000000',\n",
    "             '21133859058991650.000000000000000000',\n",
    "             '21149250798954206.000000000000000000',\n",
    "             '21121965966476916.000000000000000000',\n",
    "             '21135155945282571.000000000000000000',\n",
    "             '21133857158987217.000000000000000000',\n",
    "             '21134957035247967.000000000000000000',\n",
    "             '21123057465095772.000000000000000000']\n",
    "\n",
    "ume_norm_df = norm_spec.predict_pandas(raw_df)"
   ]
  },
  {
   "cell_type": "code",
   "execution_count": 298,
   "id": "8557f91b-261b-4c4d-8b7b-d291ee0b84f8",
   "metadata": {
    "execution": {
     "iopub.execute_input": "2023-07-02T09:59:44.952174Z",
     "iopub.status.busy": "2023-07-02T09:59:44.951876Z",
     "iopub.status.idle": "2023-07-02T09:59:45.688130Z",
     "shell.execute_reply": "2023-07-02T09:59:45.686685Z",
     "shell.execute_reply.started": "2023-07-02T09:59:44.952147Z"
    },
    "tags": []
   },
   "outputs": [
    {
     "name": "stdout",
     "output_type": "stream",
     "text": [
      "21123964680947451.000000000000000000\n",
      "21142854896397431.000000000000000000\n",
      "21129668413384885.000000000000000000\n",
      "21138256452693504.000000000000000000\n",
      "21144857869342011.000000000000000000\n",
      "21133859058991650.000000000000000000\n",
      "21149250798954206.000000000000000000\n",
      "21121965966476916.000000000000000000\n",
      "21135155945282571.000000000000000000\n",
      "21133857158987217.000000000000000000\n",
      "21134957035247967.000000000000000000\n",
      "21123057465095772.000000000000000000\n"
     ]
    }
   ],
   "source": [
    "for trans_id in trans_ids:\n",
    "    print(trans_id)\n",
    "    \n",
    "    original_normed = norm_df[norm_df['driver_trans_id'] == trans_id].iloc[0].to_dict()\n",
    "    original_data = raw_df[raw_df['driver_trans_id'] == trans_id].iloc[0].to_dict()\n",
    "    ume_normed = norm_spec.predict_row(original_data)\n",
    "    \n",
    "    validate_norm_layer(ume_normed, original_normed, features)"
   ]
  },
  {
   "cell_type": "code",
   "execution_count": null,
   "id": "62537ac9-6f7c-428e-90a8-8a20d17da6bc",
   "metadata": {
    "scrolled": true,
    "tags": []
   },
   "outputs": [],
   "source": []
  },
  {
   "cell_type": "code",
   "execution_count": null,
   "id": "8129b5dd-fab2-49b4-a839-fb6d8f9d060d",
   "metadata": {
    "tags": []
   },
   "outputs": [],
   "source": []
  },
  {
   "cell_type": "code",
   "execution_count": null,
   "id": "f54e6f19-b0e8-41be-b6f1-befd9b3225ea",
   "metadata": {
    "tags": []
   },
   "outputs": [],
   "source": []
  },
  {
   "cell_type": "markdown",
   "id": "600c2c1b-f826-4e8d-be95-204ffdd6a509",
   "metadata": {
    "tags": []
   },
   "source": [
    "## validate final scoring"
   ]
  },
  {
   "cell_type": "code",
   "execution_count": 345,
   "id": "c8e4a0af-94a5-4787-855d-57f07654df2f",
   "metadata": {
    "execution": {
     "iopub.execute_input": "2023-07-02T12:01:06.492325Z",
     "iopub.status.busy": "2023-07-02T12:01:06.492076Z",
     "iopub.status.idle": "2023-07-02T12:01:08.996056Z",
     "shell.execute_reply": "2023-07-02T12:01:08.995029Z",
     "shell.execute_reply.started": "2023-07-02T12:01:06.492301Z"
    }
   },
   "outputs": [],
   "source": [
    "# normed original data\n",
    "normed_sample_data_path = os.path.join(working_dir, 'model_export', 'norm_sample_rows.csv') \n",
    "\n",
    "# original raw data\n",
    "raw_sample_data_path = os.path.join(working_dir, 'model_export', 'validation_raw_data_500_stc_cc.csv') \n",
    "\n",
    "raw_df = pd.read_csv(raw_sample_data_path, dtype=str)\n",
    "norm_df = pd.read_csv(normed_sample_data_path, dtype=str)"
   ]
  },
  {
   "cell_type": "code",
   "execution_count": 332,
   "id": "afbbdc14-327b-47d3-9e80-da345c7ef61a",
   "metadata": {
    "execution": {
     "iopub.execute_input": "2023-07-02T10:13:08.726826Z",
     "iopub.status.busy": "2023-07-02T10:13:08.726552Z",
     "iopub.status.idle": "2023-07-02T10:13:10.351930Z",
     "shell.execute_reply": "2023-07-02T10:13:10.350383Z",
     "shell.execute_reply.started": "2023-07-02T10:13:08.726802Z"
    },
    "scrolled": true,
    "tags": []
   },
   "outputs": [],
   "source": [
    "tf_model_path = f\"{model_ckpt_dir}/{model_name}/model-\" + \"{:02d}.ckpt\".format(model_ck_num)\n",
    "\n",
    "tf_model = tf.keras.models.load_model(tf_model_path)\n"
   ]
  },
  {
   "cell_type": "code",
   "execution_count": 334,
   "id": "d51a9281-36d2-489a-8f3d-fe45a9948dd3",
   "metadata": {
    "execution": {
     "iopub.execute_input": "2023-07-02T10:13:24.491104Z",
     "iopub.status.busy": "2023-07-02T10:13:24.490820Z",
     "iopub.status.idle": "2023-07-02T10:13:24.572969Z",
     "shell.execute_reply": "2023-07-02T10:13:24.572163Z",
     "shell.execute_reply.started": "2023-07-02T10:13:24.491079Z"
    },
    "scrolled": true,
    "tags": []
   },
   "outputs": [
    {
     "data": {
      "text/plain": [
       "array([[0.03939489],\n",
       "       [0.08837193],\n",
       "       [0.03855717],\n",
       "       [0.03417599],\n",
       "       [0.0083147 ],\n",
       "       [0.06309408],\n",
       "       [0.04143983],\n",
       "       [0.040133  ],\n",
       "       [0.04914853],\n",
       "       [0.03512523],\n",
       "       [0.02677456],\n",
       "       [0.07090282]], dtype=float32)"
      ]
     },
     "execution_count": 334,
     "metadata": {},
     "output_type": "execute_result"
    }
   ],
   "source": [
    "# use tf model to predict normed data\n",
    "original_normed_matrix = norm_df[features].astype(float).to_numpy()\n",
    "\n",
    "orignal_score = tf_model.predict(original_normed_matrix)\n",
    "\n",
    "orignal_score[0]"
   ]
  },
  {
   "cell_type": "code",
   "execution_count": null,
   "id": "b3ccdae5-e730-41b9-97c0-82af16e1f997",
   "metadata": {
    "tags": []
   },
   "outputs": [],
   "source": []
  },
  {
   "cell_type": "code",
   "execution_count": 343,
   "id": "1ef13627-5186-42c9-b31c-d1d94a04b1f9",
   "metadata": {
    "execution": {
     "iopub.execute_input": "2023-07-02T10:19:55.491661Z",
     "iopub.status.busy": "2023-07-02T10:19:55.491395Z",
     "iopub.status.idle": "2023-07-02T10:19:55.704197Z",
     "shell.execute_reply": "2023-07-02T10:19:55.703359Z",
     "shell.execute_reply.started": "2023-07-02T10:19:55.491639Z"
    },
    "tags": []
   },
   "outputs": [
    {
     "name": "stdout",
     "output_type": "stream",
     "text": [
      "0.03939485549926758\n",
      "0.08837199211120605\n",
      "0.03855717182159424\n",
      "0.034175992012023926\n",
      "0.008314669132232666\n",
      "0.06309407949447632\n",
      "0.041439831256866455\n",
      "0.040132999420166016\n",
      "0.049148499965667725\n",
      "0.03512522578239441\n",
      "0.026774555444717407\n",
      "0.07090282440185547\n"
     ]
    }
   ],
   "source": [
    "# use UME to predict original raw data\n",
    "\n",
    "for i, trans_id in enumerate(norm_df['driver_trans_id'].to_list()):\n",
    "    row = raw_df[raw_df['driver_trans_id'] == trans_id].iloc[0].to_dict()\n",
    "    score = model_spec.predict_row(row)\n",
    "    print(score['mmoe_debug_is_cc_bad'])\n",
    "    if abs(score['mmoe_debug_is_cc_bad'] - orignal_score[0][i]) > 1e-5:\n",
    "        print(f\"mismatch, tf score: {orignal_score[0][i]}, ume score: {score['mmoe_debug_is_cc_bad']}\")"
   ]
  },
  {
   "cell_type": "code",
   "execution_count": null,
   "id": "67b5fc7f-9b4e-4766-8861-07ee952aefe4",
   "metadata": {
    "tags": []
   },
   "outputs": [],
   "source": []
  },
  {
   "cell_type": "code",
   "execution_count": null,
   "id": "35bb9601-aac3-4779-ac2d-fb0fcad0a3d8",
   "metadata": {},
   "outputs": [],
   "source": []
  },
  {
   "cell_type": "code",
   "execution_count": null,
   "id": "0a943b2c-0304-42e1-8be8-9463a1412e6f",
   "metadata": {},
   "outputs": [],
   "source": []
  },
  {
   "cell_type": "code",
   "execution_count": null,
   "id": "930eecc3-d9dd-46cb-8df9-2bdc15316349",
   "metadata": {},
   "outputs": [],
   "source": []
  }
 ],
 "metadata": {
  "kernelspec": {
   "display_name": "Python 3 (ipykernel)",
   "language": "python",
   "name": "python3"
  },
  "language_info": {
   "codemirror_mode": {
    "name": "ipython",
    "version": 3
   },
   "file_extension": ".py",
   "mimetype": "text/x-python",
   "name": "python",
   "nbconvert_exporter": "python",
   "pygments_lexer": "ipython3",
   "version": "3.11.4"
  },
  "toc-autonumbering": true
 },
 "nbformat": 4,
 "nbformat_minor": 5
}
