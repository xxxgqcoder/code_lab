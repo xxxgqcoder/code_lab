{
 "cells": [
  {
   "cell_type": "markdown",
   "id": "dde96329",
   "metadata": {},
   "source": [
    "# get dataframe stats"
   ]
  },
  {
   "cell_type": "code",
   "execution_count": null,
   "id": "17844a9e",
   "metadata": {},
   "outputs": [],
   "source": [
    "stats = final_df.describe(include='all', percentiles=[0.05, 0.25, 0.5, 0.75, 0.99])\n",
    "\n",
    "stats.loc['dtypes'] = final_df.dtypes\n",
    "stats.loc['missing_rate'] = final_df.isnull().mean()\n",
    "\n",
    "stats.T.reset_index()\\\n",
    "        .rename(columns={'index': 'column_name'})\\\n",
    "        .sort_values(by='column_name')\\\n",
    "        .to_csv('edge_simu_driver_stats.csv', index=False)"
   ]
  },
  {
   "cell_type": "code",
   "execution_count": null,
   "id": "3c758596-9b93-4c38-9cbd-c245667cb0e2",
   "metadata": {},
   "outputs": [],
   "source": [
    "    "
   ]
  },
  {
   "cell_type": "markdown",
   "id": "625a7ec4-3551-41fa-94fb-b2351f428036",
   "metadata": {},
   "source": [
    "# set cell value conditionally"
   ]
  },
  {
   "cell_type": "code",
   "execution_count": null,
   "id": "d648e8b9-9c4e-4fb3-a167-01fc6a9c9289",
   "metadata": {},
   "outputs": [],
   "source": [
    "# config pd dataframe\n",
    "config['rm_reason'] = None\n",
    "\n",
    "\n",
    "# high missing rate\n",
    "config.loc[\n",
    "    config[(config['columnFlag'] == 'Candidate') \n",
    "           &(config['missingPercentage'] > 0.99)].index,\n",
    "    'rm_reason',\n",
    "] = 'high missing rate'\n",
    "\n",
    "# low iv\n",
    "config.loc[\n",
    "    config[(config['columnFlag'] == 'Candidate') \n",
    "           &(config['iv'] < 0.01)].index,\n",
    "    'rm_reason',\n",
    "] = 'low iv'\n"
   ]
  },
  {
   "cell_type": "code",
   "execution_count": null,
   "id": "183c296a-fd72-4055-857d-63a16e0d7712",
   "metadata": {},
   "outputs": [],
   "source": []
  },
  {
   "cell_type": "code",
   "execution_count": null,
   "id": "88cacc88-b576-4e55-b714-ecedae61a426",
   "metadata": {},
   "outputs": [],
   "source": []
  },
  {
   "cell_type": "code",
   "execution_count": null,
   "id": "9f6c8811-262c-491d-87d8-c70ebacb408e",
   "metadata": {},
   "outputs": [],
   "source": []
  },
  {
   "cell_type": "markdown",
   "id": "46239572-f9a5-4fd6-97ee-f554b9e0b94d",
   "metadata": {},
   "source": [
    "# get model score difference"
   ]
  },
  {
   "cell_type": "code",
   "execution_count": null,
   "id": "811a500f-65c9-4e52-8110-55ad241e4799",
   "metadata": {},
   "outputs": [],
   "source": [
    "import pandas as pd\n",
    "import numpy as np\n",
    "\n",
    "\n",
    "# get diff stats\n",
    "bins = [-np.inf, -100, -50, -10, -5, -4, -3, -2, -1, 0, 1, 2, 3, 4, 5, 10, 50, 100, np.inf]\n",
    "\n",
    "diff_stats_df = pd.DataFrame([], columns=[\n",
    "    'diff_category',\n",
    "    'mean',\n",
    "    'min',\n",
    "    'max',\n",
    "    'std',\n",
    "    'total_cnt',\n",
    "    'null_cnt',\n",
    "]\n",
    "+ ['p0.1', 'p1'] + [f\"p{i}\" for i in range(0, 100, 5)[1:]] + ['p99']\n",
    "+ [f'bin_boundary_{b}' for b in range(len(bins)-1)] + [f'bin_hist_{b}' for b in range(len(bins)-1)]\n",
    ")\n",
    "\n",
    "\n",
    "def diff_stats(diff, diff_category):\n",
    "    diff = pd.DataFrame(diff.rename('diff'))\n",
    "    row = {}\n",
    "    row['diff_category'] = diff_category\n",
    "    row['mean'] = diff['diff'].mean()\n",
    "    row['min'] = diff['diff'].min()\n",
    "    row['max'] = diff['diff'].max()\n",
    "    row['std'] = diff['diff'].std()\n",
    "    row['total_cnt'] = len(diff)\n",
    "    row['null_cnt'] = len(diff[diff['diff'].isna()])\n",
    "\n",
    "    for c in diff_stats_df.columns:\n",
    "        if 'p' not in c:\n",
    "            continue\n",
    "        p = float(c.lstrip('p')) / 100\n",
    "        row[c] = diff['diff'].quantile(p)\n",
    "        \n",
    "    # hist\n",
    "    bin_hist, bin_boundary = np.histogram(diff['diff'], bins=bins)\n",
    "    bin_hist = bin_hist / sum(bin_hist)\n",
    "    \n",
    "    for i, a in enumerate(bin_hist):\n",
    "        if np.isinf(bin_boundary[i]):\n",
    "            row[f'bin_boundary_{i}'] = '_INF'\n",
    "        else:\n",
    "            row[f'bin_boundary_{i}'] = str(bin_boundary[i])\n",
    "        row[f'bin_hist_{i}'] = a\n",
    "    \n",
    "    return row\n",
    "\n",
    "\n",
    "df= None # dataframe contains model scores\n",
    "# overall\n",
    "diff = df['bt23_model_score_new_n'] - df['bt23_model_score_origin_n']\n",
    "row = diff_stats(diff, 'overall_new_origin')"
   ]
  },
  {
   "cell_type": "code",
   "execution_count": null,
   "id": "d7b14a5c-0de7-4f75-a815-504cb0c9c905",
   "metadata": {},
   "outputs": [],
   "source": []
  },
  {
   "cell_type": "markdown",
   "id": "17693a8b-6999-4541-877a-000acf08fedc",
   "metadata": {},
   "source": [
    "# read excel"
   ]
  },
  {
   "cell_type": "code",
   "execution_count": null,
   "id": "b40ccffe-2386-4f36-b507-79218d868cc2",
   "metadata": {},
   "outputs": [],
   "source": [
    "simu_excel_data_path = ''\n",
    "\n",
    "df = pd.read_excel(simu_excel_data_path,\n",
    "                   sheet_name='Sheet1',\n",
    "                   engine='openpyxl',\n",
    "                  )\n"
   ]
  },
  {
   "cell_type": "code",
   "execution_count": null,
   "id": "950a5a25-c773-45e1-aa53-bf86f333798a",
   "metadata": {},
   "outputs": [],
   "source": []
  },
  {
   "cell_type": "markdown",
   "id": "5f45e2ba-ae7f-42c9-998b-e9f925fbf738",
   "metadata": {},
   "source": [
    "# append row to dataframe"
   ]
  },
  {
   "cell_type": "code",
   "execution_count": null,
   "id": "fe6cb18d-5a2e-460e-a13f-4cf4c0d671fb",
   "metadata": {},
   "outputs": [],
   "source": [
    "row = {\n",
    "    'key': val,\n",
    "}\n",
    "\n",
    "df = df.append(row, ignore_index = True)"
   ]
  }
 ],
 "metadata": {
  "kernelspec": {
   "display_name": "Python 3 (ipykernel)",
   "language": "python",
   "name": "python3"
  },
  "language_info": {
   "codemirror_mode": {
    "name": "ipython",
    "version": 3
   },
   "file_extension": ".py",
   "mimetype": "text/x-python",
   "name": "python",
   "nbconvert_exporter": "python",
   "pygments_lexer": "ipython3",
   "version": "3.12.8"
  }
 },
 "nbformat": 4,
 "nbformat_minor": 5
}
