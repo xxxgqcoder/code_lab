{
 "cells": [
  {
   "cell_type": "markdown",
   "id": "581bafd1-ac9e-44d5-bc17-7000f5ee8e4f",
   "metadata": {},
   "source": [
    "# plot bars"
   ]
  },
  {
   "cell_type": "code",
   "execution_count": null,
   "id": "110cc4cb-629d-4b26-9744-447b9dc4d7a1",
   "metadata": {},
   "outputs": [],
   "source": []
  },
  {
   "cell_type": "code",
   "execution_count": 1,
   "id": "427fb309-76b4-4452-be7d-0681141e71bf",
   "metadata": {},
   "outputs": [],
   "source": [
    "%matplotlib inline\n",
    "\n",
    "import matplotlib.pyplot as plt\n",
    "\n",
    "\n",
    "\n",
    "def plot_bar(var, base, challenger, bin_boundary):\n",
    "    \"\"\"\n",
    "    plot variable distribution bar\n",
    "    \"\"\"\n",
    "    x = np.arange(len(base))\n",
    "    width = 0.2\n",
    "\n",
    "    fig, ax = plt.subplots(figsize = (10,4))\n",
    "    ax.bar(x - width / 2, base, width=width, label='base')\n",
    "    ax.bar(x + width / 2, challenger, width=width, label='challenger')\n",
    "    ax.set_xticks(x)\n",
    "    ax.set_xticklabels(bin_boundary, rotation=45, ha='right')\n",
    "    ax.legend()\n",
    "    ax.grid()\n",
    "    ax.set_title(var)\n",
    "    fig.tight_layout()\n",
    "    \n",
    "    return fig, ax\n"
   ]
  },
  {
   "cell_type": "markdown",
   "id": "eb682fdc-6a5b-4f10-9260-2592bcc7dbe1",
   "metadata": {},
   "source": [
    "# plot curve"
   ]
  },
  {
   "cell_type": "code",
   "execution_count": null,
   "id": "caf50f4f-1a3b-458f-8fd6-ec5907579c16",
   "metadata": {},
   "outputs": [],
   "source": []
  },
  {
   "cell_type": "code",
   "execution_count": null,
   "id": "125b8cad-5eb1-4c3d-99e4-643e509492e3",
   "metadata": {},
   "outputs": [],
   "source": [
    "import matplotlib.pyplot as plt\n",
    "\n",
    "x = [0, 1]\n",
    "y = [1, 2]\n",
    "fig, ax = plt.subplots()\n",
    "\n",
    "ax.plot(x, y, label='')\n",
    "ax.set_xlabel('x label')\n",
    "ax.set_ylabel('y label')\n",
    "ax.set_xlim(0, 1)\n",
    "ax.set_ylim(0, 1)\n",
    "ax.legend()\n",
    "ax.grid()\n",
    "ax.set_title('fig title')\n",
    "\n",
    "fig.savefig('plot.png')"
   ]
  }
 ],
 "metadata": {
  "kernelspec": {
   "display_name": "Python 3 (ipykernel)",
   "language": "python",
   "name": "python3"
  },
  "language_info": {
   "codemirror_mode": {
    "name": "ipython",
    "version": 3
   },
   "file_extension": ".py",
   "mimetype": "text/x-python",
   "name": "python",
   "nbconvert_exporter": "python",
   "pygments_lexer": "ipython3",
   "version": "3.11.4"
  }
 },
 "nbformat": 4,
 "nbformat_minor": 5
}
