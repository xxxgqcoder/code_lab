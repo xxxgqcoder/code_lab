{
 "cells": [
  {
   "cell_type": "markdown",
   "id": "64e24686",
   "metadata": {},
   "source": [
    "# code snoppet"
   ]
  },
  {
   "cell_type": "markdown",
   "id": "4e60458c",
   "metadata": {},
   "source": [
    "## python file system operations"
   ]
  },
  {
   "cell_type": "code",
   "execution_count": null,
   "id": "cccc470c",
   "metadata": {},
   "outputs": [],
   "source": [
    "import os\n",
    "import shutil\n",
    "\n",
    "\n",
    "# test if file path exists\n",
    "os.path.exists(path)\n",
    "\n",
    "# rm folder\n",
    "shutil.rmtree(folder)\n",
    "\n",
    "# make dirs\n",
    "os.makedirs(folder, exist_ok=True)\n",
    "\n",
    "# get parent directory from path\n",
    "os.path.dirname(folder)\n",
    "\n",
    "# rm file path\n",
    "os.remove(myfile)"
   ]
  },
  {
   "cell_type": "code",
   "execution_count": null,
   "id": "faaffa7c",
   "metadata": {},
   "outputs": [],
   "source": []
  },
  {
   "cell_type": "code",
   "execution_count": null,
   "id": "59427e83",
   "metadata": {},
   "outputs": [],
   "source": []
  },
  {
   "cell_type": "markdown",
   "id": "c1efe415",
   "metadata": {},
   "source": [
    "## get a range of date list"
   ]
  },
  {
   "cell_type": "code",
   "execution_count": null,
   "id": "fc346371",
   "metadata": {},
   "outputs": [],
   "source": [
    "from dateutil.rrule import rrule, MONTHLY\n",
    "from dateutil.relativedelta import relativedelta\n",
    "\n",
    "\n",
    "start_date = datetime(2021, 1, 1)\n",
    "end_date = datetime(2022, 1, 31)\n",
    "\n",
    "rel_delta = relativedelta(months=1)\n",
    "rel_one_day = relativedelta(days=1)\n",
    "dates = list(rrule(MONTHLY, count=1000, dtstart=start_date, until=end_date))\n",
    "\n",
    "for s in dates:\n",
    "    e = min(s + rel_delta - rel_one_day, end_date)\n",
    "    print(s.strftime('%Y-%m-%d'), e.strftime('%Y-%m-%d'))"
   ]
  },
  {
   "cell_type": "code",
   "execution_count": null,
   "id": "4a2b8004",
   "metadata": {},
   "outputs": [],
   "source": []
  },
  {
   "cell_type": "markdown",
   "id": "74f05e2a-7939-43ca-baad-0179206aa26b",
   "metadata": {},
   "source": [
    "## v2"
   ]
  },
  {
   "cell_type": "code",
   "execution_count": null,
   "id": "0b8ecdbd-4117-4546-a30c-85777c37de3c",
   "metadata": {},
   "outputs": [],
   "source": [
    "from datetime import datetime\n",
    "from dateutil.relativedelta import relativedelta\n",
    "import pandas as pd\n",
    "\n",
    "\n",
    "\n",
    "dates = pd.date_range(start='2023-04-01', end='2023-08-31', freq='1M')\n",
    "\n",
    "for d in dates:\n",
    "    pmt_end_dt = d\n",
    "    pmt_start_dt = pmt_end_dt + relativedelta(day=1)\n",
    "    print(pmt_start_dt, pmt_end_dt )\n"
   ]
  },
  {
   "cell_type": "code",
   "execution_count": null,
   "id": "ef461535-81aa-4018-8b5c-ef9e24133f9a",
   "metadata": {},
   "outputs": [],
   "source": []
  },
  {
   "cell_type": "markdown",
   "id": "e0418421-f7d7-4130-882c-bf4b647ec4ce",
   "metadata": {},
   "source": [
    "# print exception"
   ]
  },
  {
   "cell_type": "code",
   "execution_count": null,
   "id": "f2f5e3eb-e114-463b-80f9-bbe9464b65c6",
   "metadata": {},
   "outputs": [],
   "source": [
    "import traceback\n",
    "\n",
    "try:\n",
    "    raise Exception(f'exception')\n",
    "except Exception:\n",
    "    print(traceback.format_exc())\n",
    "    pass\n",
    "\n"
   ]
  },
  {
   "cell_type": "code",
   "execution_count": null,
   "id": "47a83224-d1f4-46bb-b044-8924bc99fc1b",
   "metadata": {},
   "outputs": [],
   "source": []
  }
 ],
 "metadata": {
  "kernelspec": {
   "display_name": "Python 3 (ipykernel)",
   "language": "python",
   "name": "python3"
  },
  "language_info": {
   "codemirror_mode": {
    "name": "ipython",
    "version": 3
   },
   "file_extension": ".py",
   "mimetype": "text/x-python",
   "name": "python",
   "nbconvert_exporter": "python",
   "pygments_lexer": "ipython3",
   "version": "3.12.7"
  }
 },
 "nbformat": 4,
 "nbformat_minor": 5
}
