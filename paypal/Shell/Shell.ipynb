{
 "cells": [
  {
   "cell_type": "markdown",
   "id": "321fe4c5",
   "metadata": {},
   "source": [
    "# shebang"
   ]
  },
  {
   "cell_type": "code",
   "execution_count": null,
   "id": "4bbdc4a4",
   "metadata": {},
   "outputs": [],
   "source": [
    "%%bash\n",
    "#!/usr/bin/env bash"
   ]
  },
  {
   "cell_type": "markdown",
   "id": "1b646b08",
   "metadata": {},
   "source": [
    "# change to cwd"
   ]
  },
  {
   "cell_type": "code",
   "execution_count": null,
   "id": "a6bdedb8",
   "metadata": {},
   "outputs": [],
   "source": [
    "%%bash\n",
    "cd $(dirname \"$0\")\n",
    "\n",
    "echo "
   ]
  },
  {
   "cell_type": "markdown",
   "id": "127f05ea",
   "metadata": {},
   "source": [
    "# print process full command line"
   ]
  },
  {
   "cell_type": "code",
   "execution_count": null,
   "id": "a52d143b",
   "metadata": {},
   "outputs": [],
   "source": [
    "%%bash\n",
    "ps -eaf | grep 28865"
   ]
  },
  {
   "cell_type": "markdown",
   "id": "1832eb90",
   "metadata": {},
   "source": [
    "# hadoop"
   ]
  },
  {
   "cell_type": "markdown",
   "id": "68d75166",
   "metadata": {},
   "source": [
    "## check quota"
   ]
  },
  {
   "cell_type": "code",
   "execution_count": null,
   "id": "2e5ce3ca",
   "metadata": {},
   "outputs": [],
   "source": [
    "%%bash\n",
    "hadoop fs -count -q -h -v hdfs://horton/apps/risk/det/guxia"
   ]
  },
  {
   "cell_type": "markdown",
   "id": "aacb2dbb",
   "metadata": {},
   "source": [
    "## remove file skipping trash"
   ]
  },
  {
   "cell_type": "code",
   "execution_count": null,
   "id": "ebf6bc03",
   "metadata": {},
   "outputs": [],
   "source": [
    "%%bash\n",
    "hadoop fs -rm -skipTrash /path/to/file"
   ]
  },
  {
   "cell_type": "markdown",
   "id": "d24b19c6",
   "metadata": {},
   "source": [
    "## filter tmp file and remove"
   ]
  },
  {
   "cell_type": "code",
   "execution_count": null,
   "id": "b7d61bde",
   "metadata": {},
   "outputs": [],
   "source": [
    "%%bash\n",
    "hadoop fs -ls hdfs://horton/user/guxia/ | grep \"tmp\" | awk '{print $8}' | xargs -I {} hadoop fs -rm -R -skipTrash {}"
   ]
  },
  {
   "cell_type": "code",
   "execution_count": null,
   "id": "9be8f36c",
   "metadata": {},
   "outputs": [],
   "source": []
  },
  {
   "cell_type": "markdown",
   "id": "f098c756",
   "metadata": {},
   "source": [
    "## get file to local"
   ]
  },
  {
   "cell_type": "code",
   "execution_count": null,
   "id": "699cfbbf",
   "metadata": {},
   "outputs": [],
   "source": [
    "%%bash\n",
    "hadoop fs -get /hdfs/source/path /localfs/destination/path\n",
    "hadoop fs -copyToLocal /hdfs/source/path /localfs/destination/path"
   ]
  },
  {
   "cell_type": "markdown",
   "id": "645515e3-a0e3-44e8-a115-76b14eafd673",
   "metadata": {},
   "source": [
    "## copy data to user folder"
   ]
  },
  {
   "cell_type": "code",
   "execution_count": null,
   "id": "dddb7c70-b37d-444a-9f11-4c1027506886",
   "metadata": {},
   "outputs": [],
   "source": [
    "%%bash\n",
    "# copy data to folder\n",
    "\n",
    "hadoop fs -rm -r -skipTrash hdfs://horton/apps/risk/det/guxia/UCC23_V2/task/score_norm/data/ucc_202401 || true\n",
    "\n",
    "hadoop fs -mkdir -p hdfs://horton/apps/risk/det/guxia/UCC23_V2/task/score_norm/data/ucc_202401\n",
    "\n",
    "hadoop fs -cp hdfs://horton/apps/risk/qpull/out/guxia_1705051593/guxia_1705051593/* \\\n",
    "    hdfs://horton/apps/risk/det/guxia/UCC23_V2/task/score_norm/data/ucc_202401\n",
    "\n",
    "hadoop fs -ls -h hdfs://horton/apps/risk/det/guxia/UCC23_V2/task/score_norm/data/ucc_202401\n",
    "\n"
   ]
  },
  {
   "cell_type": "code",
   "execution_count": null,
   "id": "f4fdfa6e-2aec-4e0a-a6e1-8702bb68a886",
   "metadata": {},
   "outputs": [],
   "source": [
    "%%bash\n",
    "\n",
    "gsutil rm gs://pypl-bkt-rsh-row-std-gds-focus/user/guxia/BT24/task/device_component/BT_driver_RDA_only_202310_202402 || true\n",
    "\n",
    "gsutil cp gs://pypl-bkt-rsh-row-std-gds-qpull/out/guxia_1708609320/guxia_1708609320/* \\\n",
    "    gs://pypl-bkt-rsh-row-std-gds-focus/user/guxia/BT24/task/device_component/BT_driver_RDA_only_202310_202402\n",
    "\n",
    "gsutil ls -lh gs://pypl-bkt-rsh-row-std-gds-focus/user/guxia/BT24/task/device_component/BT_driver_RDA_only_202310_202402"
   ]
  },
  {
   "cell_type": "markdown",
   "id": "546a6b72-a576-4b42-a611-ac028a1f6554",
   "metadata": {},
   "source": [
    "## python cmd"
   ]
  },
  {
   "cell_type": "code",
   "execution_count": null,
   "id": "7c48880b-be46-4623-8a09-b1d70b668c71",
   "metadata": {},
   "outputs": [],
   "source": [
    "from model_automation.utils.rmr import run_cmd"
   ]
  },
  {
   "cell_type": "code",
   "execution_count": null,
   "id": "aa2c1534-a60b-4b37-945f-03eba2ae6239",
   "metadata": {},
   "outputs": [],
   "source": [
    "hdfs_data_dir = 'hdfs://horton/apps/risk/det/guxia/UCC24/task/UCC23_research/data/UCC_20240201_20240210_sampled'\n",
    "qpull_data_dir = 'hdfs://horton/apps/risk/madmen/out/model_ops/guxia_1711091928'\n",
    "\n",
    "shell_cmd = f\"\"\"\n",
    "hadoop fs -rm -r -skipTrash {hdfs_data_dir} || true\n",
    "hadoop fs -mkdir -p {hdfs_data_dir}\n",
    "\n",
    "hadoop fs -cp {qpull_data_dir}/* \\\n",
    "    {hdfs_data_dir}\n",
    "\n",
    "hadoop fs -ls -h {hdfs_data_dir}\n",
    "\"\"\"\n",
    "\n",
    "run_cmd(shell_cmd)"
   ]
  },
  {
   "cell_type": "code",
   "execution_count": null,
   "id": "ba1eb16e",
   "metadata": {},
   "outputs": [],
   "source": []
  },
  {
   "cell_type": "markdown",
   "id": "4955d735",
   "metadata": {},
   "source": [
    "# set notebook shell alias"
   ]
  },
  {
   "cell_type": "code",
   "execution_count": null,
   "id": "db511050-d015-43f4-a691-85d0ef79a449",
   "metadata": {},
   "outputs": [],
   "source": [
    "%%bash\n",
    "alias ll='ls -l'\n",
    "alias clc='clear'"
   ]
  },
  {
   "cell_type": "markdown",
   "id": "84a5a086-5b95-42d6-b316-b7cf1feaf27a",
   "metadata": {},
   "source": [
    "# search file content"
   ]
  },
  {
   "cell_type": "code",
   "execution_count": null,
   "id": "d3567e2c-cda7-490f-bbeb-1793b2b2f7ca",
   "metadata": {},
   "outputs": [],
   "source": [
    "%%bash\n",
    "grep -R --include=\"*.ipynb\"  --exclude-dir=\"*.ipynb_checkpoints\"  \"pattern to search\" ."
   ]
  },
  {
   "cell_type": "markdown",
   "id": "15feb7b7-e1e3-48b1-9257-f4a47f90a319",
   "metadata": {},
   "source": [
    "# filter file lines given line number range"
   ]
  },
  {
   "cell_type": "code",
   "execution_count": null,
   "id": "2d836f9b-5fcf-4a47-98d3-703bf2d3273d",
   "metadata": {},
   "outputs": [],
   "source": [
    "%%bash\n",
    "sed -n '2398152, 2398152p' data/eval_driver_202311_202402_UCC23_V2_processed.csv"
   ]
  },
  {
   "cell_type": "code",
   "execution_count": null,
   "id": "59e01273-8ed9-48b5-a63d-955b432d54b1",
   "metadata": {},
   "outputs": [],
   "source": []
  },
  {
   "cell_type": "markdown",
   "id": "9c2fe515-8ed7-43d0-ada1-8cf8f47c2b9e",
   "metadata": {},
   "source": [
    "# upload file to dropzone"
   ]
  },
  {
   "cell_type": "code",
   "execution_count": null,
   "id": "6b26316b-78d6-40bf-9ff1-dc85f2f74510",
   "metadata": {},
   "outputs": [],
   "source": [
    "file_name = file_path.split('/')[-1]\n",
    "print(f'target file name', file_name)\n",
    "\n",
    "dropzone_file_path = f'/file_center/{file_name}'\n",
    "print(dropzone_file_path)\n",
    "\n",
    "%dropzone -put -f -src $file_path -tgt $dropzone_file_path\n",
    "print(f'file saved to {dropzone_file_path}')\n"
   ]
  },
  {
   "cell_type": "code",
   "execution_count": null,
   "id": "586a9431-4313-4ab3-b0b4-bfb1c24bb40b",
   "metadata": {},
   "outputs": [],
   "source": []
  },
  {
   "cell_type": "code",
   "execution_count": null,
   "id": "bcd599ff-70d6-4a75-b232-74bcbc0bd94a",
   "metadata": {},
   "outputs": [],
   "source": []
  },
  {
   "cell_type": "code",
   "execution_count": null,
   "id": "23d51fbe-4254-4d47-ae6c-98ecbd8dde3f",
   "metadata": {},
   "outputs": [],
   "source": []
  }
 ],
 "metadata": {
  "kernelspec": {
   "display_name": "Python 3 (ipykernel)",
   "language": "python",
   "name": "python3"
  },
  "language_info": {
   "codemirror_mode": {
    "name": "ipython",
    "version": 3
   },
   "file_extension": ".py",
   "mimetype": "text/x-python",
   "name": "python",
   "nbconvert_exporter": "python",
   "pygments_lexer": "ipython3",
   "version": "3.12.7"
  }
 },
 "nbformat": 4,
 "nbformat_minor": 5
}
