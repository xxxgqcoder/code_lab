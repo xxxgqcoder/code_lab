{
 "cells": [
  {
   "cell_type": "markdown",
   "id": "3175be06",
   "metadata": {},
   "source": [
    "# resource"
   ]
  },
  {
   "cell_type": "markdown",
   "id": "7e89d8e0-b6f4-4ba9-9851-73334a28b62f",
   "metadata": {},
   "source": [
    "db resources\n",
    "- pypl-bods.rsh_row_gds_focus\n",
    "- pypl-edw.pp_scratch\n",
    "- pypl-edw.pp_scratch_risk\n",
    "- pypl-edw.pp_oap_guxia_t"
   ]
  },
  {
   "cell_type": "code",
   "execution_count": null,
   "id": "5865b9c1",
   "metadata": {},
   "outputs": [],
   "source": []
  },
  {
   "cell_type": "markdown",
   "id": "35984809",
   "metadata": {},
   "source": [
    "# code"
   ]
  },
  {
   "cell_type": "markdown",
   "id": "47500684-a7c9-4a8c-9662-95f14ed10f6f",
   "metadata": {},
   "source": [
    "## date manipulation "
   ]
  },
  {
   "cell_type": "code",
   "execution_count": null,
   "id": "6d292801-8ffb-4344-9973-47956e600583",
   "metadata": {},
   "outputs": [],
   "source": [
    "-- format date as string\n",
    "select format_date('%Y-%m', some_date_col)\n",
    "\n",
    "-- extract date part\n",
    "select date_trunct(some_date_col, month/day/hour)\n",
    "\n",
    "-- foramt datetime as string\n",
    "select format_datetime('%Y-%m-%d %H:%M:%S', datetime_col)\n",
    "\n",
    "-- format string as date\n",
    "select parse_date('%Y-%m-%d', some_str_date_col)"
   ]
  },
  {
   "cell_type": "code",
   "execution_count": null,
   "id": "7e4a9420-b4a2-4c4b-ab85-caa19dbeebb9",
   "metadata": {},
   "outputs": [],
   "source": []
  },
  {
   "cell_type": "markdown",
   "id": "fb1db600",
   "metadata": {},
   "source": [
    "## timestamp manipulation "
   ]
  },
  {
   "cell_type": "code",
   "execution_count": null,
   "id": "4714c887",
   "metadata": {},
   "outputs": [],
   "source": [
    "-- format timestamp as string\n",
    "select format_timestamp('%Y-%m-%d %H:%M:%S', timestamp_millis(1654555414757))\n",
    "\n",
    "-- parse timesstamp from string\n",
    "select parse_timestamp('%Y-%m-%d', '2023-08-23')\n",
    "\n",
    "-- convert datetime to timestamp\n",
    "-- last argument is timezone value\n",
    "select timestamp(some_datetime_col, 'UTF-07') \n",
    "\n",
    "-- convert interger to timestamp\n",
    "select timestamp_millis(1514761200000)"
   ]
  },
  {
   "cell_type": "code",
   "execution_count": null,
   "id": "e6fee4ef",
   "metadata": {},
   "outputs": [],
   "source": []
  },
  {
   "cell_type": "markdown",
   "id": "31437caa",
   "metadata": {},
   "source": [
    "## create table as select, with partition columns"
   ]
  },
  {
   "cell_type": "code",
   "execution_count": null,
   "id": "f34dc9d9",
   "metadata": {},
   "outputs": [],
   "source": [
    "create table table_name\n",
    "partition by some_dt_column\n",
    "as (\n",
    "    with sub_table,\n",
    "    sub_table_2\n",
    "    select * from sub_table2\n",
    ")\n",
    ";"
   ]
  },
  {
   "cell_type": "markdown",
   "id": "980a9c49",
   "metadata": {},
   "source": [
    "## create table if not exists"
   ]
  },
  {
   "cell_type": "code",
   "execution_count": null,
   "id": "ed4c0ce6",
   "metadata": {},
   "outputs": [],
   "source": [
    "drop table if exists pypl-bods.rsh_row_gds_focus.table_name;\n",
    "\n",
    "create table pypl-bods.rsh_row_gds_focus.table_name (\n",
    "    user_id string\n",
    "    , ato_claim_dt date\n",
    "    , category string\n",
    ")\n",
    ";"
   ]
  },
  {
   "cell_type": "code",
   "execution_count": null,
   "id": "2a0b30dd",
   "metadata": {},
   "outputs": [],
   "source": []
  },
  {
   "cell_type": "markdown",
   "id": "845b09ad",
   "metadata": {},
   "source": [
    "## list all db in project"
   ]
  },
  {
   "cell_type": "code",
   "execution_count": null,
   "id": "90198f0b",
   "metadata": {},
   "outputs": [],
   "source": [
    "select\n",
    "    schema_name\n",
    "from\n",
    "    pypl-edw.INFORMATION_SCHEMA.SCHEMATA"
   ]
  },
  {
   "cell_type": "code",
   "execution_count": null,
   "id": "5942d901",
   "metadata": {},
   "outputs": [],
   "source": []
  },
  {
   "cell_type": "markdown",
   "id": "41d0fc02",
   "metadata": {},
   "source": [
    "## search table in DB"
   ]
  },
  {
   "cell_type": "code",
   "execution_count": null,
   "id": "0edbdcc8",
   "metadata": {},
   "outputs": [],
   "source": [
    "select\n",
    "    table_name\n",
    "from pypl-edw.pp_scratch.INFORMATION_SCHEMA.TABLES\n",
    "where\n",
    "    table_name like 'dim_customer'"
   ]
  },
  {
   "cell_type": "code",
   "execution_count": null,
   "id": "0d0e7c1e",
   "metadata": {},
   "outputs": [],
   "source": []
  },
  {
   "cell_type": "markdown",
   "id": "eedc4c60",
   "metadata": {},
   "source": [
    "## get table meta data"
   ]
  },
  {
   "cell_type": "code",
   "execution_count": null,
   "id": "6b292783",
   "metadata": {},
   "outputs": [],
   "source": [
    "# get meta info\n",
    "from datetime import datetime\n",
    "\n",
    "table_full_schema=\"pypl-edw.pp_scratch.dim_customer\"\n",
    "today = datetime.now().strftime('%Y-%m-%d')\n",
    "\n",
    "db=\".\".join(table_full_schema.split('.')[:-1]).strip()\n",
    "table_name = table_full_schema.split('.')[-1].strip()\n",
    "\n",
    "sql_cols = f\"\"\"\n",
    "select *\n",
    "from {db}.INFORMATION_SCHEMA.COLUMNS\n",
    "where\n",
    "    table_name like '{table_name}'\n",
    "\"\"\"\n",
    "ret = %ppbq $sql_cols\n",
    "ret[['column_name', 'data_type', 'is_partitioning_column']].to_csv('schema.csv', index=False)\n",
    "\n",
    "\n",
    "# sample\n",
    "date_col = 'pmt_start_date'\n",
    "sql_sample = f\"\"\"\n",
    "select *\n",
    "from \n",
    "    {table_full_schema}\n",
    "where\n",
    "    1=1\n",
    "    and {date_col} between date_sub('{today}', interval 15 day) and '{today}'\n",
    "limit 100\n",
    "\"\"\"\n",
    "\n",
    "ret = %ppbq $sql_sample\n",
    "ret.T.to_csv('samples.csv')"
   ]
  },
  {
   "cell_type": "code",
   "execution_count": null,
   "id": "12c1d106",
   "metadata": {},
   "outputs": [],
   "source": []
  },
  {
   "cell_type": "markdown",
   "id": "5b4a3cf6",
   "metadata": {},
   "source": [
    "## string split"
   ]
  },
  {
   "cell_type": "code",
   "execution_count": null,
   "id": "1449e442",
   "metadata": {},
   "outputs": [],
   "source": [
    "select cast(split(brm_bad_tag_assigned, '_')[ordinal(1)] as string)"
   ]
  },
  {
   "cell_type": "code",
   "execution_count": null,
   "id": "89eab5f3",
   "metadata": {},
   "outputs": [],
   "source": []
  },
  {
   "cell_type": "markdown",
   "id": "e50aab86",
   "metadata": {},
   "source": [
    "## percentile"
   ]
  },
  {
   "cell_type": "code",
   "execution_count": null,
   "id": "71b9b25a",
   "metadata": {},
   "outputs": [],
   "source": [
    "select approx_quantiles(some_value_column, 100)[offset(99)] as p99"
   ]
  },
  {
   "cell_type": "code",
   "execution_count": null,
   "id": "ddf54247",
   "metadata": {},
   "outputs": [],
   "source": []
  },
  {
   "cell_type": "markdown",
   "id": "21b7e42e",
   "metadata": {},
   "source": [
    "## column equality stats"
   ]
  },
  {
   "cell_type": "code",
   "execution_count": null,
   "id": "4c041969",
   "metadata": {},
   "outputs": [],
   "source": [
    "select\n",
    "    '{category}' as category\n",
    "    , '{a}' as asset_a\n",
    "    , '{b}' as asset_b\n",
    "    \n",
    "    , case when {a} is null or length(trim({a})) = 0 then 1 else 0 end as asset_a_is_null\n",
    "    , case when {b} is null or length(trim({b})) = 0 then 1 else 0 end as asset_b_is_null\n",
    "    \n",
    "    , case\n",
    "            when\n",
    "                {a} is not null \n",
    "                and {b} is not null\n",
    "                and {a} = {b} then 1\n",
    "            when {a} is null and {b} is null then -1\n",
    "            else 0\n",
    "    end as asset_eq\n",
    "    \n",
    "    , if (message_id is null, 1, 0) as miss_madmen\n",
    "    , IS_AUDIT_SKIPPED\n",
    "    \n",
    "    , count(0) as num\n",
    "\n",
    "from pypl-bods.rsh_row_gds_focus.acdc_component_simu_driver_20221201_20221231_variables \n",
    "\n",
    "group by 1,2,3,4,5,6,7,8\n",
    "order by 1,2,3,4,5,6,7,8"
   ]
  },
  {
   "cell_type": "code",
   "execution_count": null,
   "id": "7a07c54f",
   "metadata": {},
   "outputs": [],
   "source": []
  },
  {
   "cell_type": "code",
   "execution_count": null,
   "id": "cda31f92-29e3-4910-a316-70df7586ac6b",
   "metadata": {},
   "outputs": [],
   "source": []
  },
  {
   "cell_type": "markdown",
   "id": "c4fab76b-6c40-4a29-b3f2-d07624fbc66f",
   "metadata": {},
   "source": [
    "## sql simulate gainchart"
   ]
  },
  {
   "cell_type": "code",
   "execution_count": null,
   "id": "ddc39296-05f8-4d63-bb74-b70306bcdf31",
   "metadata": {},
   "outputs": [],
   "source": [
    "sql_score_op = \"\"\"\n",
    "select\n",
    "    '{score}' as score_name\n",
    "    , case\n",
    "        when {score} >= 700 then cast(floor({score} / 5) as int) * 5\n",
    "        else 0\n",
    "    end as score_bucket\n",
    "    \n",
    "    , sum(if(is_cc_bad in (1,2), capture_usd_amt, 0))          as bad_amt\n",
    "    , sum(if(is_cc_bad in (1,2), 1, 0))                        as bad_cnt\n",
    "    \n",
    "    , sum(if(is_cc_bad in (0), capture_usd_amt, 0))            as good_amt\n",
    "    , sum(if(is_cc_bad in (0), 1, 0))                          as good_cnt\n",
    "    , sum(capture_usd_amt)                                     as amt\n",
    "    , count(0)                                                 as cnt\n",
    "    \n",
    "from pypl-bods.rsh_row_gds_focus.ucc_decline_pattr_txn_model_score\n",
    "where\n",
    "    is_cg = 1\n",
    "    and decline_type in ('Approved')\n",
    "    \n",
    "    \n",
    "group by 1,2\n",
    "order by 1,2\n",
    "\"\"\"\n",
    "\n",
    "scores = [\n",
    "    'MDL7_UCC21_model_score1'\n",
    "    'MDL7_UCC_SF_STATIC_RMR_score'\n",
    "    'MDL5_CAM22_EMS_SCORE'\n",
    "]\n",
    "\n",
    "score_op_df = pd.DataFrame()\n",
    "for score, _ in scores:\n",
    "    print(score)\n",
    "    sql_cmd = sql_score_op.format(score=score)\n",
    "    print(sql_cmd)\n",
    "    df = %ppbq $sql_cmd\n",
    "    score_op_df = pd.concat([score_op_df, df])\n",
    "\n"
   ]
  },
  {
   "cell_type": "markdown",
   "id": "b1c6d8a0-9717-4b71-99e4-d0e643e46ab9",
   "metadata": {},
   "source": [
    "### cut score bin"
   ]
  },
  {
   "cell_type": "code",
   "execution_count": null,
   "id": "6d7c71bc-e51a-46b0-bc18-ae5d8759ef2a",
   "metadata": {},
   "outputs": [],
   "source": [
    "sql_score_bin = \"\"\"\n",
    "case\n",
    "    when ucc23_v2_model_score1 >= 700 then format(\"%.*f\", 0, cast(floor(ucc23_v2_model_score1 / 10) as int) * 10.0)\n",
    "    else format(\"%.*f\", 0, cast(floor(ucc23_v2_model_score1 / 100) as int) * 100.0)\n",
    "end\n",
    "\"\"\""
   ]
  },
  {
   "cell_type": "code",
   "execution_count": null,
   "id": "0cd4e662-d978-44e3-a3da-c4dc27b81918",
   "metadata": {},
   "outputs": [],
   "source": []
  },
  {
   "cell_type": "code",
   "execution_count": null,
   "id": "7cde15e9-e951-42d7-834f-7f3591c34a66",
   "metadata": {},
   "outputs": [],
   "source": []
  },
  {
   "cell_type": "markdown",
   "id": "6a45d976-6d5c-4e4d-8057-d502e3c208ab",
   "metadata": {},
   "source": [
    "## debug table"
   ]
  },
  {
   "cell_type": "markdown",
   "id": "5ba8ea32-b161-48b4-8a04-0c9c2ca4bf2a",
   "metadata": {},
   "source": [
    "if order by column has null value:\n",
    "- order by asc, null value come first\n",
    "- order by des, null value come last\n"
   ]
  },
  {
   "cell_type": "code",
   "execution_count": null,
   "id": "73ac823a-bf90-4789-9a21-98b1200d21fb",
   "metadata": {},
   "outputs": [],
   "source": [
    "WITH finishers AS\n",
    " (\n",
    "SELECT\n",
    "                'Sophia Liu' as name, TIMESTAMP '2016-10-18 2:51:45' as finish_time, 'F30-34' as division\n",
    "UNION ALL SELECT 'Lisa Stelzner', TIMESTAMP '2016-10-18 2:54:11', 'F35-39'\n",
    "UNION ALL SELECT 'Nikki Leith', TIMESTAMP '2016-10-18 2:59:01', 'F30-34'\n",
    "UNION ALL SELECT 'Lauren Matthews', TIMESTAMP '2016-10-18 3:01:17', 'F35-39'\n",
    "UNION ALL SELECT 'Desiree Berry', TIMESTAMP '2016-10-18 3:05:42', 'F35-39'\n",
    "UNION ALL SELECT 'Suzy Slane', TIMESTAMP '2016-10-18 3:06:24', 'F35-39'\n",
    "UNION ALL SELECT 'Jen Edwards', TIMESTAMP '2016-10-18 3:06:36', 'F30-34'\n",
    "UNION ALL SELECT 'Meghan Lederer', NULL, 'F30-34'\n",
    ")\n",
    "SELECT\n",
    "    name,\n",
    "    finish_time,\n",
    "\n",
    "    division,\n",
    "    ROW_NUMBER() OVER (PARTITION BY division ORDER BY finish_time DESC) AS finish_rank\n",
    "FROM finishers;\n",
    "\n"
   ]
  },
  {
   "cell_type": "markdown",
   "id": "c771bdff-ed9f-4a83-9fdc-9ec5130cbdf2",
   "metadata": {},
   "source": [
    "## set table partition expiration date"
   ]
  },
  {
   "cell_type": "code",
   "execution_count": null,
   "id": "3108257d-764f-4ea8-9106-5fb97eee5dfc",
   "metadata": {},
   "outputs": [],
   "source": [
    "ALTER TABLE pypl-bods.rsh_row_gds_focus.table_name SET OPTIONS (partition_expiration_days = 360);\n"
   ]
  },
  {
   "cell_type": "code",
   "execution_count": null,
   "id": "5e85392d-0d00-43fa-acad-0111b76f50fa",
   "metadata": {},
   "outputs": [],
   "source": []
  },
  {
   "cell_type": "markdown",
   "id": "26602a98-5d98-433a-ab68-2a334500329c",
   "metadata": {},
   "source": [
    "## id duplication test"
   ]
  },
  {
   "cell_type": "code",
   "execution_count": null,
   "id": "8b5b86e2-c994-45eb-a25f-236010ec04da",
   "metadata": {},
   "outputs": [],
   "source": [
    "%%ppbq\n",
    "-- id duplication test\n",
    "\n",
    "select \n",
    "    group_size\n",
    "    , count(0) as num\n",
    "from (\n",
    "select\n",
    "    public_id\n",
    "    , count(0) as group_size\n",
    "from pypl-bods.pp_risk_rap_bt_managed_pii_views.bt_txn_uds\n",
    "group by 1\n",
    ") a\n",
    "\n",
    "group by 1\n",
    "order by 2 desc\n",
    "\n",
    "limit 100\n"
   ]
  },
  {
   "cell_type": "markdown",
   "id": "16ed1fc4-4972-4a1a-9d49-b401c5d91f9c",
   "metadata": {},
   "source": [
    "## record dedup"
   ]
  },
  {
   "cell_type": "code",
   "execution_count": null,
   "id": "1184a576-0136-41ec-987b-2cf522351500",
   "metadata": {},
   "outputs": [],
   "source": [
    "select\n",
    "    *\n",
    "from table_name\n",
    "QUALIFY ROW_NUMBER() OVER (PARTITION BY trans_id ORDER BY pmt_start_ts) = 1"
   ]
  },
  {
   "cell_type": "code",
   "execution_count": null,
   "id": "bb31b3f5-e0c1-4734-9d2b-ada5c0c80222",
   "metadata": {},
   "outputs": [],
   "source": []
  },
  {
   "cell_type": "markdown",
   "id": "40dee2e7-9a88-4398-bfd1-e7d62d71c719",
   "metadata": {},
   "source": [
    "## generate array and flatten into rows"
   ]
  },
  {
   "cell_type": "code",
   "execution_count": null,
   "id": "9b7812a6-31ee-4cef-8074-6f73112a138b",
   "metadata": {},
   "outputs": [],
   "source": [
    "SELECT *\n",
    "FROM UNNEST(GENERATE_ARRAY(0, 10, 1)) AS element\n",
    "WITH OFFSET AS offset\n",
    "ORDER BY offset"
   ]
  },
  {
   "cell_type": "markdown",
   "id": "c299b7ae-79e4-493c-9509-585d324bb1d6",
   "metadata": {},
   "source": [
    "## truncate date to month first day"
   ]
  },
  {
   "cell_type": "code",
   "execution_count": null,
   "id": "e56fe072-450b-4870-86ad-afe025b7719c",
   "metadata": {},
   "outputs": [],
   "source": [
    "DATE_TRUNC(date_column, month) as monthly"
   ]
  },
  {
   "cell_type": "code",
   "execution_count": null,
   "id": "52a4134a-9c26-4aa8-92d3-bebdced2ed30",
   "metadata": {},
   "outputs": [],
   "source": []
  },
  {
   "cell_type": "markdown",
   "id": "ec6b0b49-7684-48cc-9c09-b33793700c58",
   "metadata": {},
   "source": [
    "# create a dt partitioned table from parquet file"
   ]
  },
  {
   "cell_type": "code",
   "execution_count": null,
   "id": "9389de5b-e474-40d3-a7d2-9450f6c9b9db",
   "metadata": {},
   "outputs": [],
   "source": [
    "CREATE EXTERNAL TABLE pypl-edw.pp_fastr_gds_tables.ten_v2_pred\n",
    "WITH PARTITION COLUMNS(\n",
    "    dt string\n",
    ")\n",
    "OPTIONS(\n",
    "format='PARQUET',\n",
    "decimal_target_types=['BIGNUMERIC'],\n",
    "hive_partition_uri_prefix='gs://pypl-bkt-prd-row-std-zonkey-pride/apps/risk/ars/zonkeybooks_db/ten_v2_pred',\n",
    "uris=['gs://pypl-bkt-prd-row-std-zonkey-pride/apps/risk/ars/zonkeybooks_db/ten_v2_pred/*']\n",
    ");\n"
   ]
  },
  {
   "cell_type": "code",
   "execution_count": null,
   "id": "a98ec983-b0ce-4911-b889-c92df85ece50",
   "metadata": {},
   "outputs": [],
   "source": []
  },
  {
   "cell_type": "markdown",
   "id": "c4965aaa-4a9b-4839-9285-7fb80727af8a",
   "metadata": {},
   "source": [
    "# build table from parquet files"
   ]
  },
  {
   "cell_type": "code",
   "execution_count": null,
   "id": "0943fe28-a0ad-4ec4-a313-f110493e60d6",
   "metadata": {},
   "outputs": [],
   "source": [
    "drop table if exists pypl-bods.rsh_row_gds_focus.guxia_honey_users;\n",
    "\n",
    "create or replace external table pypl-bods.rsh_row_gds_focus.guxia_honey_users \n",
    "options (\n",
    "    format=\"PARQUET\",\n",
    "    enum_as_string=true,\n",
    "    decimal_target_types=[\"NUMERIC\", \"BIGNUMERIC\"],\n",
    "    uris = [\"gs://pypl-bkt-rsh-row-std-gds-focus/path/to/copied/data/dir/*.parquet\"]\n",
    ")"
   ]
  },
  {
   "cell_type": "code",
   "execution_count": null,
   "id": "ecd1a776-1466-4888-8125-f84245c7ab39",
   "metadata": {},
   "outputs": [],
   "source": []
  }
 ],
 "metadata": {
  "kernelspec": {
   "display_name": "Python 3 (ipykernel)",
   "language": "python",
   "name": "python3"
  },
  "language_info": {
   "codemirror_mode": {
    "name": "ipython",
    "version": 3
   },
   "file_extension": ".py",
   "mimetype": "text/x-python",
   "name": "python",
   "nbconvert_exporter": "python",
   "pygments_lexer": "ipython3",
   "version": "3.12.7"
  }
 },
 "nbformat": 4,
 "nbformat_minor": 5
}
