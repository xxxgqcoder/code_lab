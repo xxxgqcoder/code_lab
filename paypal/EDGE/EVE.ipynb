{
 "cells": [
  {
   "cell_type": "markdown",
   "id": "ba1efe75",
   "metadata": {},
   "source": [
    "# Pull raw event sample"
   ]
  },
  {
   "cell_type": "markdown",
   "id": "425d6ab1",
   "metadata": {},
   "source": [
    "In cosmos notebook, use maglev kernel to run this code.\n",
    "Original reference notebook:\n",
    "- https://github.paypal.com/DART/eve-builder-util/blob/master/bizlog-pull/src/main/resources/pull-event-bizlog-example-pyspark.ipynb\n",
    "\n",
    "- For raw data path, please refer `/sys/pp_dm/dm_hdp_batch/kafka_data/RISK/BLOGGING/riskdataprocessmsgd/`, one folder for each event. Note that raw data is downsampled, usually sample rate is 0.0002. Raw data file is partitioned by time, for example, /data/file/2023/05/01/00 fefers to event published in 2023-05-01 00:00:00 to 00:59:59.\n",
    "  Can use spark wildcard pattern to load multiple data file.\n",
    "- For wildcard pattern, pls refer here: https://hail.is/docs/0.2/hadoop_glob_patterns.html and https://man7.org/linux/man-pages/man7/glob.7.html\n",
    "- For general elements, just use dot access schema. For list elements, use dot.{index} to access. In below example, user_cc is a list, use `user_cc.0` to get first list element.\n",
    "- If schema path contains dash (`-`), pls use `path.to.'some-dash-linked-schema'` to access.\n",
    "- Way to pull K-V pair schema path: `\"findInKVPairs(request.body.context.data_set.k_v_pairs, 'ucc_sender_email_address')\"`"
   ]
  },
  {
   "cell_type": "code",
   "execution_count": null,
   "id": "a81dc584",
   "metadata": {},
   "outputs": [],
   "source": [
    "from automation_utils.spark.session import get_spark\n",
    "from bizlog_pull_py.bom_bizlog_tool import BomBizlogTool\n",
    "from bizlog_pull_py.event_log_tool import EventLogTool\n",
    "\n",
    "spark = None # spark instance\n",
    "\n",
    "data_dir = '' # event raw message data dir\n",
    "\n",
    "event_tool = EventLogTool(spark)\n",
    "\n",
    "\n",
    "event_tool.eventPath(f\"{data_dir}/2023/05/10/10/*\")\n",
    "# defaut event type value is applicable to most events but in some cases raw data\n",
    "# is json format. You need to specify data type here.\n",
    "event_tool.eventType('JSON') \n",
    "\n",
    "\n",
    "# put elements schema here to extract fields you want.\n",
    "event_tool.elements(\"payment_attempt.user_cc.0.first_name\",\n",
    "                    \"payment_attempt.user_cc.0.last_name\",\n",
    "                    \"payment_attempt.account_number\",\n",
    "                    \"payment_attempt.time_event_published\",\n",
    "                    \"payment_attempt.counterparty\",\n",
    "                    \"payment_attempt.usd_amount.amount\",\n",
    "                    \"payment_attempt.sender_account.first_name\", \n",
    "                    \"payment_attempt.sender_account.last_name\"\n",
    "                    )\n",
    "\n",
    "df = event_tool.pull()\n",
    "\n",
    "df.show(10)"
   ]
  },
  {
   "cell_type": "markdown",
   "id": "2ef4ed7a",
   "metadata": {},
   "source": [
    "# EVE builder code snippet"
   ]
  },
  {
   "cell_type": "markdown",
   "id": "e0c5f8d4",
   "metadata": {},
   "source": [
    "You can validate your expression in EVE: https://gds.paypalinc.com/evebuilder/express_validation"
   ]
  },
  {
   "cell_type": "markdown",
   "id": "b4717a20",
   "metadata": {},
   "source": [
    "## filter not null"
   ]
  },
  {
   "cell_type": "code",
   "execution_count": null,
   "id": "afde8f42",
   "metadata": {},
   "outputs": [],
   "source": [
    "\n",
    "(ACEEvent.firstName != null && ACEEvent.firstName  != '') || (ACEEvent.lastName != null && ACEEvent.lastName  != '')\n",
    "\n"
   ]
  },
  {
   "cell_type": "markdown",
   "id": "2b875b53",
   "metadata": {},
   "source": [
    "## string to lower case"
   ]
  },
  {
   "cell_type": "code",
   "execution_count": null,
   "id": "c99e3121",
   "metadata": {},
   "outputs": [],
   "source": [
    "\n",
    "PaymentAttempt.transactionType == null ? '': PaymentAttempt.transactionType.toLowerCase() == 'a'\n",
    "\n"
   ]
  },
  {
   "cell_type": "markdown",
   "id": "3ce54fc1",
   "metadata": {},
   "source": [
    "## concate string"
   ]
  },
  {
   "cell_type": "code",
   "execution_count": null,
   "id": "83beae92",
   "metadata": {},
   "outputs": [],
   "source": [
    "PaymentAttempt.phoneCountryCode.concat(PaymentAttempt.phoneNumber)"
   ]
  },
  {
   "cell_type": "code",
   "execution_count": null,
   "id": "e05992a2",
   "metadata": {},
   "outputs": [],
   "source": []
  }
 ],
 "metadata": {
  "kernelspec": {
   "display_name": "Python 3 (ipykernel)",
   "language": "python",
   "name": "python3"
  },
  "language_info": {
   "codemirror_mode": {
    "name": "ipython",
    "version": 3
   },
   "file_extension": ".py",
   "mimetype": "text/x-python",
   "name": "python",
   "nbconvert_exporter": "python",
   "pygments_lexer": "ipython3",
   "version": "3.11.4"
  }
 },
 "nbformat": 4,
 "nbformat_minor": 5
}
