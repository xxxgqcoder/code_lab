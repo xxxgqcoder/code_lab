{
 "cells": [
  {
   "cell_type": "markdown",
   "id": "a77dbf80",
   "metadata": {},
   "source": [
    "# use guanjia scoring API to score txn"
   ]
  },
  {
   "cell_type": "code",
   "execution_count": null,
   "id": "05bfa264",
   "metadata": {},
   "outputs": [],
   "source": [
    "from PyGuanjia import GuanjiaClient\n",
    "from PyGuanjia import ModelCategory, ModelDomain, ModelMO, ModelStatus, ModelType\n",
    "from model_automation.utils.rmr import run_cmd\n",
    "\n",
    "from credentials import PAZ_PASSWORD\n",
    "\n",
    "\n",
    "\n",
    "data_dir = 'hdfs://horton/apps/risk/det/guxia/ucc_latam23/data/training/ucc_latam_cbp_oot_20221101_20230131/20230214/madmen_pig'\n",
    "header_path = 'hdfs://horton/apps/risk/det/guxia/ucc_latam23/data/training/ucc_latam_cbp_oot_20221101_20230131/20230214/madmen_pig/.pig_header'     \n",
    "model_id = '62e93905f4a09f8a94c70897'\n",
    "record_columns = ['driver_trans_id', 'driver_monthly']\n",
    "\n",
    "username = ''"
   ]
  },
  {
   "cell_type": "code",
   "execution_count": 2,
   "id": "bd8ff763",
   "metadata": {},
   "outputs": [],
   "source": [
    "guanjia = GuanjiaClient(username=username, isQA=False, isPAZ=True)\n",
    "guanjia.login(passwd=PAZ_PASSWORD)\n"
   ]
  },
  {
   "cell_type": "code",
   "execution_count": 3,
   "id": "7a96f90e",
   "metadata": {},
   "outputs": [],
   "source": [
    "job = guanjia.scoring(\n",
    "    modelId=model_id,\n",
    "    csvPath=data_dir,\n",
    "    headerPath=header_path,\n",
    "    delimiter='^G',\n",
    "    recordCols='|'.join(record_columns),\n",
    "    isMultiple=True,\n",
    ")\n",
    "print(f\"guanjian job id: {job['jobId']}\")"
   ]
  },
  {
   "cell_type": "code",
   "execution_count": null,
   "id": "9e88d4fa",
   "metadata": {},
   "outputs": [],
   "source": [
    "while guanjia.get_job_status(jobId=job['jobId']) == 'RUNNING':\n",
    "    print(\"scoring is running ...\")\n",
    "    scoring_file_num = os.popen(f\"hadoop fs -ls /apps/risk/det/guanjia/score_result/{job['jobId']}* | grep part | wc -l\").read().strip()\n",
    "\n",
    "    if scoring_file_num == input_file_num:\n",
    "        print(f\"scoring output already finished, please check /apps/risk/det/guanjia/score_result/{job['jobId']}*\")\n",
    "        time.sleep(30)\n",
    "        break\n",
    "    time.sleep(30)\n",
    "\n",
    "if guanjia.get_job_status(jobId=job['jobId']) == 'COMPLETE_SUCC':\n",
    "    print(\"scoring finished\")\n",
    "    score_path = guanjia.get_job_details(jobId=job['jobId'])['Result Path in HDFS']\n",
    "    score_list = guanjia.get_job_details(jobId=job['jobId'])['Score Name'].split(', ')\n",
    "elif scoring_file_num == input_file_num:\n",
    "    path = run_cmd(f\"hadoop fs -ls /apps/risk/det/guanjia/score_result/{job['jobId']}/* | grep 'part' | head -1\")\n",
    "    score_path = path.split(' ')[-1].rsplit('/', 1)[0]\n",
    "    score_list = []\n",
    "    for model_id in [conf.model_id]:\n",
    "        modelInfo = guanjia.get_model_info(modelId=model_id)\n",
    "        if modelInfo['placeholderName'] is not None and modelInfo['placeholderName'] != '':\n",
    "            score_list.append(modelInfo['placeholderName'] + '_model_score1')\n",
    "        else:\n",
    "            score_list.append('_'.join([modelInfo['name'], modelInfo['modelVersion'], 'score']))\n",
    "else:\n",
    "    job_detail = guanjia.get_job_details(jobId=job['jobId'])\n",
    "    print(json.dumps(job_detail, indent=4))\n",
    "    raise Exception(f\"guanjia scoring job {job['jobId']} failed!\")\n",
    "    \n",
    "print(\"output data path : \" + score_path)\n",
    "print(\"output score list : \" + \",\".join(score_list))\n"
   ]
  },
  {
   "cell_type": "markdown",
   "id": "6437763f",
   "metadata": {},
   "source": [
    "# guanjia scoring: v2"
   ]
  },
  {
   "cell_type": "markdown",
   "id": "32922517",
   "metadata": {},
   "source": [
    "- donot put model score name in recordCols\n",
    "- after job sbumitted, to guanjia webui and check job page"
   ]
  },
  {
   "cell_type": "code",
   "execution_count": null,
   "id": "ba53b39f",
   "metadata": {},
   "outputs": [],
   "source": [
    "from PyGuanjia import GuanjiaClient\n",
    "from PyGuanjia import ModelCategory, ModelDomain, ModelMO, ModelStatus, ModelType\n",
    "from model_automation.utils.rmr import run_cmd\n",
    "\n",
    "from credentials import GUANJIA_PASSWORD\n",
    "\n",
    "\n",
    "model_ids = []\n",
    "data_dir = ''\n",
    "meta_columns = []"
   ]
  },
  {
   "cell_type": "code",
   "execution_count": null,
   "id": "bb31f97a",
   "metadata": {},
   "outputs": [],
   "source": [
    "guanjia = GuanjiaClient(username=username, isQA=False, isPAZ=True)\n",
    "guanjia.login(passwd=PAZ_PASSWORD)\n",
    "\n",
    "\n",
    "job = guanjia.scoring(\n",
    "    modelId=\"|\".join(model_ids),\n",
    "    csvPath=data_dir,\n",
    "    headerPath=os.path.join(data_dir, '.pig_header'),\n",
    "    delimiter='^G',\n",
    "    recordCols=\"|\".join(meta_columns),\n",
    ")"
   ]
  },
  {
   "cell_type": "code",
   "execution_count": null,
   "id": "64036108",
   "metadata": {},
   "outputs": [],
   "source": []
  },
  {
   "cell_type": "markdown",
   "id": "d14ea6b1",
   "metadata": {},
   "source": [
    "# use guanjia to download model ume"
   ]
  },
  {
   "cell_type": "code",
   "execution_count": null,
   "id": "ed4f3a8b-e048-4ab1-88e6-8892f77a5063",
   "metadata": {},
   "outputs": [],
   "source": [
    "from PyGuanjia import GuanjiaClient\n",
    "from pyScoring import UMEModel\n",
    "\n",
    "import credentials\n",
    "importlib.reload(credentials)\n",
    "from credentials import PAZ_PASSWORD\n",
    "\n",
    "\n",
    "model_ids = {\n",
    "    'UCC23': '16a108931cc54a7b95ca625',\n",
    "}\n",
    "\n",
    "model_dir = 'guanjia_model_dir'"
   ]
  },
  {
   "cell_type": "code",
   "execution_count": null,
   "id": "79b2c595",
   "metadata": {},
   "outputs": [],
   "source": [
    "guanjia = GuanjiaClient(username=username, isQA=False, isPAZ=True)\n",
    "guanjia.login(passwd=PAZ_PASSWORD)\n",
    "\n",
    "for model_name, model_id in model_ids.items():\n",
    "    print(model_name, model_id)\n",
    "    ret_model_dir = f'{model_dir}_{model_name}'\n",
    "    if os.path.exists(ret_model_dir):\n",
    "        print(1)\n",
    "        shutil.rmtree(ret_model_dir)\n",
    "        \n",
    "    guanjia.download_model(modelId=model_id,\n",
    "                           folderName=ret_model_dir)\n",
    "\n"
   ]
  },
  {
   "cell_type": "markdown",
   "id": "643e3010-d7bd-43cb-a27e-4596668bda7e",
   "metadata": {},
   "source": [
    "# upload ume to guanjia"
   ]
  },
  {
   "cell_type": "code",
   "execution_count": null,
   "id": "da766cd4-dca3-4063-b18a-2f3609db6464",
   "metadata": {},
   "outputs": [],
   "source": [
    "from PyGuanjia import GuanjiaClient\n",
    "from PyGuanjia import ModelCategory, ModelDomain, ModelMO, ModelStatus, ModelType\n",
    "from credentials import PAZ_PASSWORD\n",
    "\n",
    "\n",
    "username = ''\n",
    "ume_path = '' # path to ume file\n",
    "model_name = '' # if you use existing model name, guanjia will overwrite it use the ume you provide\n",
    "extra_owner = ['wzhao5', 'siwan']\n",
    "model_seg = 'UCC_SF'\n"
   ]
  },
  {
   "cell_type": "code",
   "execution_count": null,
   "id": "99420ea5-33dc-4923-80d5-b69292e492b2",
   "metadata": {},
   "outputs": [],
   "source": [
    "# upload ume to guanjia\n",
    "\n",
    "guanjia = GuanjiaClient(username=username, isQA=False, isPAZ=True)\n",
    "guanjia.login(passwd=PAZ_PASSWORD)\n",
    "\n",
    "model_id = guanjia.create_model(modelName=model_name,\n",
    "                                MO=model_seg,\n",
    "                                spec=ume_path,\n",
    "                                modelCategory=ModelCategory.NON_ISO,\n",
    "                                modelType=ModelType.M,\n",
    "                                SEG=model_seg,\n",
    "                                extraOwners=extra_owner,\n",
    "                                domain=ModelDomain.RISK,\n",
    "                                targetService=\"RUCS\",\n",
    "                                description=model_name,\n",
    "                               )\n",
    "\n",
    "print('model id', model_id)"
   ]
  },
  {
   "cell_type": "markdown",
   "id": "f0f91e1a-7cc4-421b-b989-69b86aa4c9cd",
   "metadata": {},
   "source": [
    "# validate guanjia ume"
   ]
  },
  {
   "cell_type": "code",
   "execution_count": null,
   "id": "35d93952-811b-4045-85bf-7c855a6e0694",
   "metadata": {},
   "outputs": [],
   "source": [
    "# preppare a guanjia validation file.\n",
    "validation_file_path = ''\n",
    "guanjia_valid_data_path = ''\n",
    "ume_path = ''\n",
    "ume_output_score_name = ''\n",
    "\n",
    "# columns you want guanjia to keep in return result\n",
    "record_columns = ['driver_trans_id', 'final_score', 'cast_normed_score']"
   ]
  },
  {
   "cell_type": "code",
   "execution_count": null,
   "id": "5eff7a7c-f391-4da2-b017-bd86db521f17",
   "metadata": {},
   "outputs": [],
   "source": [
    "# When loading csv format data, do remember to set dtype=str, or ume prediction result will be different.\n",
    "\n",
    "valid_df = pd.read_csv(validation_file_path, dtype=str, sep='\\x07', keep_default_na=False)\n",
    "\n",
    "ume = UMEModel(ume_path)\n",
    "valid_ret = ume.predict_pandas(valid_df)\n",
    "valid_ret.head()\n",
    "valid_ret.to_csv(guanjia_valid_data_path, sep='\\x07', index=False)\n",
    "\n",
    "\n",
    "job_id = guanjia.validate(\n",
    "    modelId=model_id,\n",
    "    csv=guanjia_valid_data_path,\n",
    "    delimiter='\\x07',\n",
    "    expectScoreName=ume_output_score_name,\n",
    "    recordCols=record_columns,\n",
    "    threshold=1.0,\n",
    "    precision=0.1\n",
    ")\n",
    "\n",
    "print('validation job id', job_id)\n"
   ]
  },
  {
   "cell_type": "code",
   "execution_count": null,
   "id": "71242c9f-ce73-4d6a-bdbd-dccf8c45c10c",
   "metadata": {},
   "outputs": [],
   "source": []
  },
  {
   "cell_type": "code",
   "execution_count": null,
   "id": "ea19816d",
   "metadata": {},
   "outputs": [],
   "source": []
  },
  {
   "cell_type": "markdown",
   "id": "1b48ef77-a2d7-46bb-ad94-25c975397d3c",
   "metadata": {},
   "source": [
    "# get RMR champion model info"
   ]
  },
  {
   "cell_type": "code",
   "execution_count": null,
   "id": "c280e7af-c857-4816-b468-9052a94793e9",
   "metadata": {},
   "outputs": [],
   "source": [
    "from PyGuanjia import GuanjiaClient\n",
    "from credentials import PAZ_PASSWORD\n",
    "\n",
    "\n",
    "username = ''\n",
    "mo_name = 'UCC_SF'"
   ]
  },
  {
   "cell_type": "code",
   "execution_count": null,
   "id": "bde6e019-1c42-4e71-914d-b8756696857f",
   "metadata": {},
   "outputs": [],
   "source": [
    "# upload ume to guanjia\n",
    "guanjia = GuanjiaClient(username=username, isQA=False)\n",
    "guanjia.login(passwd=PAZ_PASSWORD)\n",
    "champion_model_info = guanjia.get_champion_model(mo=mo_name)\n",
    "print(champion_model_info)"
   ]
  },
  {
   "cell_type": "code",
   "execution_count": null,
   "id": "b5580191-d627-44a3-9293-b0d1c73b7825",
   "metadata": {},
   "outputs": [],
   "source": []
  },
  {
   "cell_type": "code",
   "execution_count": null,
   "id": "376c8b6a-ca4a-45d0-a164-e38787bb5b47",
   "metadata": {},
   "outputs": [],
   "source": []
  }
 ],
 "metadata": {
  "kernelspec": {
   "display_name": "Python 3 (ipykernel)",
   "language": "python",
   "name": "python3"
  },
  "language_info": {
   "codemirror_mode": {
    "name": "ipython",
    "version": 3
   },
   "file_extension": ".py",
   "mimetype": "text/x-python",
   "name": "python",
   "nbconvert_exporter": "python",
   "pygments_lexer": "ipython3",
   "version": "3.12.7"
  }
 },
 "nbformat": 4,
 "nbformat_minor": 5
}
