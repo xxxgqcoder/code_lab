{
 "cells": [
  {
   "cell_type": "markdown",
   "id": "26ed03b5-cd73-4fc7-85a8-d22fe324dad1",
   "metadata": {},
   "source": [
    "# env config"
   ]
  },
  {
   "cell_type": "code",
   "execution_count": null,
   "id": "6171d9ce-a693-42ac-ba71-28329e48a689",
   "metadata": {
    "tags": []
   },
   "outputs": [],
   "source": [
    "import os\n",
    "import sys\n",
    "import importlib\n",
    "from datetime import datetime\n",
    "\n",
    "username = 'guxia'\n",
    "repo_dir = f'/projects/gds-focus/data/{username}/Utils/'\n",
    "secret_path = f'/projects/{username}/secret'\n",
    "os.chdir(os.path.join(repo_dir, 'periodic_task'))\n",
    "for p in [secret_path]:\n",
    "    if p in sys.path:\n",
    "        continue\n",
    "    sys.path.append(p)\n",
    "\n",
    "import pandas as pd\n",
    "import numpy as np\n",
    "\n",
    "from credentials import PAZ_PASSWORD\n",
    "\n",
    "!echo $PAZ_PASSWORD | kinit -l 96h guxia"
   ]
  },
  {
   "cell_type": "code",
   "execution_count": null,
   "id": "2d651c6c-56e1-4ecd-9b17-2c3e8c5bef57",
   "metadata": {
    "tags": []
   },
   "outputs": [],
   "source": [
    "%url -c horton\n",
    "%reload_ext cloudmagics.bigquery\n",
    "%config PPMagics.domain=\"ccg24-hrzana-gds-focus\"\n",
    "%config PPMagics.autolimit=0"
   ]
  },
  {
   "cell_type": "markdown",
   "id": "a4200940-9a88-436d-9c84-f96d33f25ba2",
   "metadata": {},
   "source": [
    "# periodic query BQ table"
   ]
  },
  {
   "cell_type": "markdown",
   "id": "1a7f017a-5af9-427e-b592-521f009bae4f",
   "metadata": {},
   "source": [
    "To avoid table be cleared out"
   ]
  },
  {
   "cell_type": "code",
   "execution_count": null,
   "id": "25bdf561-6d68-4378-a290-62f0633e6e53",
   "metadata": {
    "tags": []
   },
   "outputs": [],
   "source": [
    "tables = [\n",
    "    'pypl-bods.rsh_row_gds_focus.acdc_component_radd_shipping_addr_simu_bsi_4',\n",
    "    'pypl-bods.rsh_row_gds_focus.acdc_component_radd_email_simu_bsi_4',\n",
    "    'pypl-bods.rsh_row_gds_focus.acdc_component_radd_phone_simu_bsi_4',\n",
    "    'pypl-bods.rsh_row_gds_focus.acdc_component_radd_mg_devcid_simu_bsi_4',\n",
    "    'pypl-bods.rsh_row_gds_focus.acdc_component_radd_ip_simu_bsi_4',\n",
    "    'pypl-bods.rsh_row_gds_focus.acdc_component_radd_fd_mid_simu_bsi_4',\n",
    "    'pypl-bods.rsh_row_gds_focus.cctrust_history_snapshot',\n",
    "    'pypl-bods.rsh_row_gds_focus.latam_ucc_stc_asset_txn_cust_aggregation_his',\n",
    "]\n",
    "\n",
    "table_dt_column = {\n",
    "    'pypl-bods.rsh_row_gds_focus.acdc_component_radd_shipping_addr_simu_bsi_4': 'running_dt',\n",
    "    'pypl-bods.rsh_row_gds_focus.acdc_component_radd_email_simu_bsi_4': 'running_dt',\n",
    "    'pypl-bods.rsh_row_gds_focus.acdc_component_radd_phone_simu_bsi_4': 'running_dt',\n",
    "    'pypl-bods.rsh_row_gds_focus.acdc_component_radd_mg_devcid_simu_bsi_4': 'running_dt',\n",
    "    'pypl-bods.rsh_row_gds_focus.acdc_component_radd_ip_simu_bsi_4': 'running_dt',\n",
    "    'pypl-bods.rsh_row_gds_focus.acdc_component_radd_fd_mid_simu_bsi_4': 'running_dt',\n",
    "    'pypl-bods.rsh_row_gds_focus.cctrust_history_snapshot': 'run_dt',\n",
    "    'pypl-bods.rsh_row_gds_focus.latam_ucc_stc_asset_txn_cust_aggregation_his': 'run_date',\n",
    "}"
   ]
  },
  {
   "cell_type": "code",
   "execution_count": null,
   "id": "35d963ea-8acc-4dbb-a606-a5db5dafe30a",
   "metadata": {
    "scrolled": true,
    "tags": []
   },
   "outputs": [],
   "source": [
    "for table in tables:\n",
    "    print(f'table: {table}')\n",
    "    dt_col = table_dt_column[table]\n",
    "    sql_cmd = f\"\"\"\n",
    "    select\n",
    "        {dt_col}\n",
    "        , count(0) as num\n",
    "    from {table} \n",
    "    group by 1\n",
    "    order by 1\n",
    "    \"\"\"\n",
    "    \n",
    "    ret = %ppbq $sql_cmd\n",
    "    print(ret)"
   ]
  },
  {
   "cell_type": "code",
   "execution_count": null,
   "id": "28e82b16-6284-4651-9e49-a97a0a9d30db",
   "metadata": {
    "scrolled": true,
    "tags": []
   },
   "outputs": [],
   "source": []
  },
  {
   "cell_type": "code",
   "execution_count": null,
   "id": "9256c82c-80b6-4cbb-abc9-5647ff058492",
   "metadata": {},
   "outputs": [],
   "source": []
  },
  {
   "cell_type": "code",
   "execution_count": null,
   "id": "2975f408-44f9-4772-b01f-93ec04e589b9",
   "metadata": {},
   "outputs": [],
   "source": []
  }
 ],
 "metadata": {
  "kernelspec": {
   "display_name": "Python 3 (ipykernel)",
   "language": "python",
   "name": "python3"
  },
  "language_info": {
   "codemirror_mode": {
    "name": "ipython",
    "version": 3
   },
   "file_extension": ".py",
   "mimetype": "text/x-python",
   "name": "python",
   "nbconvert_exporter": "python",
   "pygments_lexer": "ipython3",
   "version": "3.11.4"
  }
 },
 "nbformat": 4,
 "nbformat_minor": 5
}
