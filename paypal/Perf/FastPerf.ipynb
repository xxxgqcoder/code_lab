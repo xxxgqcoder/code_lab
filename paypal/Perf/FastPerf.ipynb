{
 "cells": [
  {
   "cell_type": "markdown",
   "id": "f28039dd",
   "metadata": {},
   "source": [
    "# template config"
   ]
  },
  {
   "cell_type": "code",
   "execution_count": null,
   "id": "97c78966",
   "metadata": {},
   "outputs": [],
   "source": [
    "expt_name = '' # name of your experiment"
   ]
  },
  {
   "cell_type": "code",
   "execution_count": null,
   "id": "af4712a1",
   "metadata": {},
   "outputs": [],
   "source": [
    "import sys\n",
    "import os\n",
    "\n",
    "\n",
    "def run_gainchart(eval_data_path, model_score_names, eval_set, expt_name):\n",
    "    lib_path = \"/projects/gds-focus/data/wzhao5/Python3\"\n",
    "    if lib_path not in sys.path:\n",
    "        sys.path.append(lib_path)\n",
    "        \n",
    "    from fast_perf_v5 import fast_perf_v5\n",
    "    \n",
    "    eval_result_dir = os.path.dirname(eval_data_path)\n",
    "    excl_eval_result_path = os.path.join(eval_result_dir, f\"gainchart_{expt_name}_{eval_set}.xlsx\")\n",
    "    excl_eval_result_csv_path = os.path.join(eval_result_dir, f\"gainchart_{expt_name}_{eval_set}.csv\")\n",
    "    print(f\"gainchart result path: {excl_eval_result_path}\")\n",
    "    print(f\"gainchart result path (csv): {excl_eval_result_csv_path}\")\n",
    "    \n",
    "    dim_list = [\n",
    "        'driver_product',\n",
    "    ]\n",
    "    \n",
    "    args = {\n",
    "        'dataPath': eval_data_path,\n",
    "        'delimiter': '\\x07',\n",
    "        'badList': ['driver_is_cc_bad_v1'],\n",
    "        'scoreList': model_score_names,\n",
    "        'dimList': dim_list,\n",
    "        'xWeight': ['driver_dol_usd_amt', 'driver_unit_wgt'],\n",
    "        'yWeight': ['driver_dol_usd_amt', 'driver_unit_wgt'],\n",
    "        'weightAlias': ['dol', 'unit'],\n",
    "        'filterExpr': {\n",
    "            '$AND': {\n",
    "                'driver_txn_status': 'Approved',\n",
    "            },\n",
    "        },\n",
    "        'OP': 100,\n",
    "        'TopOP': 20,\n",
    "        'outputFile': excl_eval_result_path\n",
    "    }\n",
    "    \n",
    "    print(f'start running gainchart')\n",
    "    perf = fast_perf_v5(**args)\n",
    "    perf.run()\n",
    "    \n",
    "    print(f'finish running model performance evaluation: {expt_name} on {eval_set}')\n",
    "    df_out = perf.output.copy()\n",
    "    df_out.to_csv(excl_eval_result_csv_path, index=False)\n",
    "    print(f'eval result save to {excl_eval_result_csv_path}')\n",
    "    \n",
    "    return perf"
   ]
  },
  {
   "cell_type": "code",
   "execution_count": null,
   "id": "1cd1760e-687a-4afd-8592-742e3d0144db",
   "metadata": {},
   "outputs": [],
   "source": []
  },
  {
   "cell_type": "markdown",
   "id": "6ca6ad16",
   "metadata": {},
   "source": [
    "# not null filter"
   ]
  },
  {
   "cell_type": "code",
   "execution_count": null,
   "id": "bb3fe060",
   "metadata": {},
   "outputs": [],
   "source": [
    "config = {\n",
    "    'filterExpr': {\n",
    "        '$AND': {\n",
    "            'driver_decline_type': 'Approved',\n",
    "            'driver_capture_usd_amt': {'$notnull': ''},\n",
    "        },\n",
    "    },\n",
    "}"
   ]
  },
  {
   "cell_type": "code",
   "execution_count": null,
   "id": "f65b85a9-0d8b-4772-99af-0cef43355a0b",
   "metadata": {},
   "outputs": [],
   "source": []
  },
  {
   "cell_type": "markdown",
   "id": "4881cff4-6d67-4db5-af16-ea89d49414aa",
   "metadata": {},
   "source": [
    "# validate filter expr"
   ]
  },
  {
   "cell_type": "markdown",
   "id": "920cbcaa-b389-4db1-9266-3cc445925d8c",
   "metadata": {},
   "source": [
    "knonw issue:\n",
    "- `$gt $lt` doesenot support string compare\n",
    "\n"
   ]
  },
  {
   "cell_type": "code",
   "execution_count": null,
   "id": "8aaaddf1",
   "metadata": {},
   "outputs": [],
   "source": [
    "lib_path = \"/projects/gds-focus/data/wzhao5/Python3\"\n",
    "if lib_path not in sys.path:\n",
    "    sys.path.append(lib_path)\n",
    "    \n",
    "from lib import parseFilterExpr"
   ]
  },
  {
   "cell_type": "code",
   "execution_count": null,
   "id": "5a9db040-8119-42cb-abf2-f02dfc0b390d",
   "metadata": {},
   "outputs": [],
   "source": [
    "\n",
    "schema_header = ['txn_status', 'auth_no_capture']\n",
    "dataline = ['approved', 0]\n",
    "    \n",
    "filter_expr = {\n",
    "    \"$and\": {\n",
    "        \"txn_status\": \"approved\",\n",
    "        'auth_no_capture': {\n",
    "            '$eq': 0,\n",
    "        }, \n",
    "    },\n",
    "}\n",
    "\n",
    "print(parseFilterExpr(dataline, schema_header, filter_expr))\n"
   ]
  },
  {
   "cell_type": "markdown",
   "id": "fbbcdb23",
   "metadata": {},
   "source": [
    "# copy fastperf output to csv"
   ]
  },
  {
   "cell_type": "code",
   "execution_count": null,
   "id": "edb1f18f",
   "metadata": {},
   "outputs": [],
   "source": [
    "perf = None # fast performance instance\n",
    "\n",
    "\n",
    "df_out = perf.output.copy()\n",
    "df_out.to_csv(os.path.join(model_eval_path, f\"{model_aame}_gainchart.csv\"))"
   ]
  },
  {
   "cell_type": "code",
   "execution_count": null,
   "id": "9d45c62b",
   "metadata": {},
   "outputs": [],
   "source": []
  },
  {
   "cell_type": "code",
   "execution_count": null,
   "id": "e5caec0e",
   "metadata": {},
   "outputs": [],
   "source": []
  }
 ],
 "metadata": {
  "kernelspec": {
   "display_name": "Python 3 (ipykernel)",
   "language": "python",
   "name": "python3"
  },
  "language_info": {
   "codemirror_mode": {
    "name": "ipython",
    "version": 3
   },
   "file_extension": ".py",
   "mimetype": "text/x-python",
   "name": "python",
   "nbconvert_exporter": "python",
   "pygments_lexer": "ipython3",
   "version": "3.11.4"
  }
 },
 "nbformat": 4,
 "nbformat_minor": 5
}
