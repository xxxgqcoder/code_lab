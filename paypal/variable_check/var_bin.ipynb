{
 "cells": [
  {
   "cell_type": "markdown",
   "id": "9fb97b74-88e9-439c-b769-985fc6b33cef",
   "metadata": {},
   "source": [
    "# env config"
   ]
  },
  {
   "cell_type": "code",
   "execution_count": null,
   "id": "e2ca1ca0-5f80-4686-bd6e-7a21ad56ac49",
   "metadata": {},
   "outputs": [],
   "source": [
    "# binning variable\n",
    "# categorical binning"
   ]
  },
  {
   "cell_type": "code",
   "execution_count": null,
   "id": "ae99859e-110d-4ff6-bc23-65f3defd471b",
   "metadata": {
    "tags": []
   },
   "outputs": [],
   "source": [
    "import os\n",
    "import sys\n",
    "import shutil\n",
    "\n",
    "username = 'guxia'\n",
    "repo_dir = f'/projects/gds-focus/data/{username}/task/'\n",
    "secret_path = f'/projects/{username}/secret/'\n",
    "os.chdir(f'{repo_dir}/variable_check/')\n",
    "for p in [secret_path]:\n",
    "    if p in sys.path:\n",
    "        continue\n",
    "    sys.path.append(p)\n",
    "\n",
    "import pandas as pd\n",
    "import numpy as np\n",
    "\n",
    "%reload_ext cloudmagics.bigquery\n",
    "%config PPMagics.domain=\"ccg24-hrzana-gds-focus\"\n",
    "%config PPMagics.autolimit=0\n",
    "%url -c horton\n",
    "%ppauth"
   ]
  },
  {
   "cell_type": "markdown",
   "id": "27155333-983b-48ab-b56a-07150accdcc2",
   "metadata": {},
   "source": [
    "# variable bin info"
   ]
  },
  {
   "cell_type": "code",
   "execution_count": null,
   "id": "6d123fe5-b777-416c-b1dd-6d86f9a29188",
   "metadata": {
    "tags": []
   },
   "outputs": [],
   "source": [
    "\n",
    "\n",
    "# full variable list file\n",
    "variable_save_path = 'all_variables.txt'\n",
    "\n",
    "driver_data_dir = 'data/cbp_madmen_parquet_202301_202307'\n",
    "\n",
    "categorical_var_save_path = 'categorical.txt'\n",
    "\n",
    "walmart_rcvr_id = '1704664984735735782'\n",
    "\n",
    "# path to save variable bin info\n",
    "bin_vec_save_path = 'cbp_202301_202307_bin_vec_qcut.json'\n",
    "\n",
    "# segments that you want to run bin stats over.\n",
    "# e.g., set segment_expr as is_walmart*is_bopis will run bin boundary over\n",
    "# all possible combination of is_walmart & is_bopis.\n",
    "segment_expr = 'is_walmart*is_bopis'\n",
    "\n",
    "# default segment\n",
    "seg_overall = '__OVERALL__'\n",
    "\n",
    "bin_num = 10"
   ]
  },
  {
   "cell_type": "code",
   "execution_count": null,
   "id": "76e05bb2-305b-498b-98df-3fe505cb0431",
   "metadata": {},
   "outputs": [],
   "source": []
  },
  {
   "cell_type": "code",
   "execution_count": null,
   "id": "2116a59b-3e7c-4340-9712-3e4993be9240",
   "metadata": {
    "tags": []
   },
   "outputs": [],
   "source": [
    "%%time\n",
    "\n",
    "import json\n",
    "from py_dpu import rename_df, loadByDriver, load_pig, save_pig, load_parquet\n",
    "\n",
    "\n",
    "# load variable\n",
    "variables = pd.read_csv(variable_save_path, names=['col'])['col'].to_list()\n",
    "\n",
    "\n",
    "# load driver\n",
    "print('loading driver from', driver_data_dir)\n",
    "df = pd.read_parquet(driver_data_dir)\n",
    "\n",
    "df = df.replace(['', 'None', 'NONE', 'NA', '-999.0', -999.0], np.nan)\n",
    "\n",
    "df['is_walmart'] = df['rcvr_id'].map(lambda x: 1 if x == walmart_rcvr_id else 0)\n",
    "\n",
    "print('driver shape', {df.shape})\n",
    "\n"
   ]
  },
  {
   "cell_type": "code",
   "execution_count": null,
   "id": "f70b2a2a-421f-44db-be4d-28d4226fbaf5",
   "metadata": {
    "scrolled": true,
    "tags": []
   },
   "outputs": [],
   "source": [
    "%%time\n",
    "# get variable category\n",
    "\n",
    "categorical = []\n",
    "\n",
    "for var in variables:\n",
    "    try:\n",
    "        _ = df[var].astype(float)\n",
    "    except ValueError as ve:\n",
    "        print(f'{var}', ve)\n",
    "        categorical.append(var)\n",
    "\n",
    "print('total categorical num', len(categorical))\n",
    "\n",
    "with open(categorical_var_save_path, 'w+') as f:\n",
    "    f.write('\\n'.join(sorted(categorical)))"
   ]
  },
  {
   "cell_type": "code",
   "execution_count": null,
   "id": "d0c5db13-2fcc-4918-945f-eac20a7f473f",
   "metadata": {
    "tags": []
   },
   "outputs": [],
   "source": [
    "def get_var_bin_info_v2(var, \n",
    "                        df, \n",
    "                        bin_num,\n",
    "                        categorical,\n",
    "                        numerical_cut='qcut',\n",
    "                       ):\n",
    "    \"\"\"\n",
    "    get binning info for variable var in df.\n",
    "    \n",
    "    :param var: variable name, should be found in df\n",
    "    :param df: pandas dataframe of driver.\n",
    "    :param bin_num: binning bucket num, for categorical, will be used to get most frequent categorical value.\n",
    "    :param categorical: list of categorical variables.\n",
    "    :param numerical_cut: numerical column binning method\n",
    "    :return:\n",
    "    \"\"\"\n",
    "    \n",
    "    def _convert_cate(x, top_cate):\n",
    "        if pd.isna(x):\n",
    "            return np.nan\n",
    "        if x in top_cate.index:\n",
    "            return x\n",
    "        return '__OTHER__'\n",
    "\n",
    "    try:\n",
    "        if var not in categorical:\n",
    "            if numerical_cut == 'qcut':\n",
    "                bins = [i*1.0 / bin_num for i in range(bin_num)] + [1.0]\n",
    "                bin_boundary = pd.qcut(df[var].astype(float), q=bins, duplicates='drop')\n",
    "            elif numerical_cut == 'cut':\n",
    "                bin_boundary = pd.cut(df[var].astype(float), bins=bin_num, duplicates='drop')\n",
    "        else:\n",
    "            top_cate = df[var].value_counts(dropna=False).sort_values(ascending=False).head(bin_num-1)\n",
    "            bin_boundary = df[var].map(lambda x: _convert_cate(x, top_cate))\n",
    "    except Exception as e:\n",
    "        print(f'exception for {var}')\n",
    "        print(e)\n",
    "        \n",
    "    return bin_boundary\n"
   ]
  },
  {
   "cell_type": "code",
   "execution_count": null,
   "id": "9f8a2138-bf04-478b-a127-fb563f5030f9",
   "metadata": {
    "scrolled": true,
    "tags": []
   },
   "outputs": [],
   "source": [
    "%%time\n",
    "\n",
    "df[seg_overall] = '1'\n",
    "segments = segment_expr.split('*')\n",
    "\n",
    "# process and get variable bin info\n",
    "\n",
    "def _wrap_data(var, seg_name, seg_val, bin_boundary, bin_cnt):\n",
    "    data = {}\n",
    "    \n",
    "    bin_vec = bin_cnt / np.nansum(bin_cnt)\n",
    "    data['variable'] = var\n",
    "    data['seg_name'] = seg_name\n",
    "    data['seg_val'] = seg_val\n",
    "    data['bin_boundary'] = bin_boundary\n",
    "    data['bin_cnt'] = ['NaN' if pd.isna(v) else 1.0*v for v in bin_cnt]\n",
    "    data['bin_distribution'] = ['NaN' if pd.isna(v) else v for v in bin_vec]\n",
    "    return data\n",
    "    \n",
    "\n",
    "ret_json = []\n",
    "\n",
    "for var in variables:\n",
    "    print(f'process {var}')\n",
    "    bin_df = df[segments + [seg_overall] + [var]]\n",
    "\n",
    "    bin_boundary = get_var_bin_info_v2(var, df, bin_num, categorical)\n",
    "    \n",
    "    bin_df = bin_df.join(bin_boundary.rename('bin_boundary'))\n",
    "    \n",
    "    # get bin counter\n",
    "    seg_bin_cnt = bin_df.groupby(segments)['bin_boundary']\\\n",
    "                            .value_counts(dropna=False)\\\n",
    "                            .sort_index()\\\n",
    "                            .unstack(-1)\n",
    "    \n",
    "    overall_bin_cnt = bin_df.groupby(seg_overall)['bin_boundary']\\\n",
    "                            .value_counts(dropna=False)\\\n",
    "                            .sort_index()\\\n",
    "                            .unstack(-1)\n",
    "\n",
    "    overall_bin_cnt = overall_bin_cnt.reindex(seg_bin_cnt.columns, axis=1)\n",
    "\n",
    "    bin_label = ['NaN' if pd.isna(c) else str(c) for c in seg_bin_cnt.columns]\n",
    "    \n",
    "    # ensemble data\n",
    "    for seg_name, bin_vec in zip([seg_overall, segment_expr],\n",
    "                                 [overall_bin_cnt, seg_bin_cnt]):\n",
    "        for index, row in bin_vec.iterrows():\n",
    "            data = {}\n",
    "            seg_val = '*'.join([str(v) for v in index])\n",
    "            data = _wrap_data(var, seg_name, seg_val, bin_label, row.values)\n",
    "            ret_json.append(data)\n",
    "            \n",
    "    \n",
    "with open(bin_vec_save_path, 'w+') as f:\n",
    "    f.write(json.dumps(ret_json, indent=4))\n",
    "\n",
    "    "
   ]
  },
  {
   "cell_type": "code",
   "execution_count": null,
   "id": "98c22012-677e-4527-b63d-3fd34952b507",
   "metadata": {
    "tags": []
   },
   "outputs": [],
   "source": []
  },
  {
   "cell_type": "code",
   "execution_count": null,
   "id": "e3962549-f0d0-496e-a0c9-6115cbbf4522",
   "metadata": {
    "scrolled": true,
    "tags": []
   },
   "outputs": [],
   "source": []
  },
  {
   "cell_type": "code",
   "execution_count": null,
   "id": "71efd33c-a3c9-4f8b-b83c-15dcce5bad3c",
   "metadata": {
    "tags": []
   },
   "outputs": [],
   "source": []
  },
  {
   "cell_type": "code",
   "execution_count": null,
   "id": "8a6f6dec-33a9-4737-b04f-cb5dc089bf8d",
   "metadata": {},
   "outputs": [],
   "source": []
  }
 ],
 "metadata": {
  "kernelspec": {
   "display_name": "Python 3 (ipykernel)",
   "language": "python",
   "name": "python3"
  },
  "language_info": {
   "codemirror_mode": {
    "name": "ipython",
    "version": 3
   },
   "file_extension": ".py",
   "mimetype": "text/x-python",
   "name": "python",
   "nbconvert_exporter": "python",
   "pygments_lexer": "ipython3",
   "version": "3.11.4"
  }
 },
 "nbformat": 4,
 "nbformat_minor": 5
}
