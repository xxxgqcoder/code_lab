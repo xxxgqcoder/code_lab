{
 "cells": [
  {
   "cell_type": "markdown",
   "id": "70ea9cca-515e-4381-abe9-4ebde4724341",
   "metadata": {},
   "source": [
    "# env config"
   ]
  },
  {
   "cell_type": "code",
   "execution_count": null,
   "id": "98c6611f-f4fa-48ab-9668-a1497f0bcc86",
   "metadata": {
    "tags": []
   },
   "outputs": [],
   "source": [
    "import os\n",
    "import sys\n",
    "import shutil\n",
    "import json\n",
    "\n",
    "username = 'guxia'\n",
    "repo_dir = f'/projects/gds-focus/data/{username}/task/'\n",
    "secret_path = f'/projects/{username}/secret/'\n",
    "os.chdir(f'{repo_dir}/variable_check/')\n",
    "for p in [secret_path]:\n",
    "    if p in sys.path:\n",
    "        continue\n",
    "    sys.path.append(p)\n",
    "\n",
    "import pandas as pd\n",
    "import numpy as np\n",
    "\n",
    "import aml.cloud_v1 as cloud\n",
    "\n",
    "%reload_ext cloudmagics.bigquery\n",
    "%config PPMagics.domain=\"ccg24-hrzana-gds-focus\"\n",
    "%config PPMagics.autolimit=0\n",
    "%url -c horton\n",
    "%matplotlib inline\n"
   ]
  },
  {
   "cell_type": "code",
   "execution_count": null,
   "id": "63d4a053-fb79-45c8-8141-f949a254ce36",
   "metadata": {
    "tags": []
   },
   "outputs": [],
   "source": [
    "def cross_entropy(p, q):\n",
    "    epsilon = 1e-10\n",
    "    p = np.copy(p)\n",
    "    q = np.copy(q)\n",
    "    p[np.isnan(p)] = epsilon\n",
    "    q[np.isnan(q)] = epsilon\n",
    "    \n",
    "    p = np.clip(p, epsilon, 1 - epsilon)\n",
    "    q = np.clip(q, epsilon, 1 - epsilon)\n",
    "    ce = -np.sum(p*np.log(q))\n",
    "    return ce\n",
    "\n",
    "\n",
    "def psi(p, q):\n",
    "    epsilon = 1e-10\n",
    "    p = np.copy(p)\n",
    "    q = np.copy(q)\n",
    "    p[np.isnan(p)] = epsilon\n",
    "    q[np.isnan(q)] = epsilon\n",
    "    \n",
    "    p = np.clip(p, epsilon, 1 - epsilon)\n",
    "    q = np.clip(q, epsilon, 1 - epsilon)\n",
    "    psi = np.sum((q - p) * np.log(q/p))\n",
    "    return psi\n",
    "\n",
    "\n",
    "def plot_bar(var, base, challenger, bin_boundary):\n",
    "    x = np.arange(len(base))\n",
    "    width = 0.2\n",
    "\n",
    "    fig, ax = plt.subplots(figsize = (10,4))\n",
    "    ax.bar(x - width / 2, base, width=width, label='base')\n",
    "    ax.bar(x + width / 2, challenger, width=width, label='challenger')\n",
    "    ax.set_xticks(x)\n",
    "    ax.set_xticklabels(bin_boundary, rotation=45, ha='right')\n",
    "    ax.legend()\n",
    "    ax.grid()\n",
    "    ax.set_title(var)\n",
    "    fig.tight_layout()\n",
    "    \n",
    "    return fig, ax\n"
   ]
  },
  {
   "cell_type": "markdown",
   "id": "91aeae2b-162c-462c-ac29-f6125e7364f6",
   "metadata": {},
   "source": [
    "# eval variable"
   ]
  },
  {
   "cell_type": "code",
   "execution_count": null,
   "id": "bc57cf15-bfb6-4775-9cd7-c89f0e11343a",
   "metadata": {
    "tags": []
   },
   "outputs": [],
   "source": [
    "# walmart bopis\n",
    "model_switch_score_data_path = 'data/switch_val/latam23_switch_score_walmart_bopis.parquet'\n",
    "\n",
    "# variable bin info result\n",
    "bin_vec_save_path = 'cbp_202301_202307_bin_vec_qcut.json'\n",
    "\n",
    "# variable feature importance path\n",
    "var_fi_path = 'latam23_cbp_202306_model_var_fi.csv'\n",
    "\n",
    "categorical_var_path = 'categorical.txt'\n",
    "\n",
    "score_name = 'model_811_is_cc_bad'\n",
    "\n",
    "guanjia_model_dir = 'guanjia_model_dir_latam23'\n",
    "\n",
    "driver_data_dir = 'data/cbp_madmen_parquet_20230601_20230630'\n",
    "\n",
    "walmart_rcvr_id = '1704664984735735782'"
   ]
  },
  {
   "cell_type": "code",
   "execution_count": null,
   "id": "17f8f508-e548-48e1-85de-9d836ca4bd9e",
   "metadata": {
    "tags": []
   },
   "outputs": [],
   "source": [
    "%%time\n",
    "import matplotlib.pyplot as plt\n",
    "\n",
    "from pyScoring import UMEModel\n",
    "\n",
    "\n",
    "\n",
    "# score df\n",
    "print(f'loading variable switch score from {model_switch_score_data_path}')\n",
    "score_df = pd.read_parquet(model_switch_score_data_path)\n",
    "score_df = score_df.reset_index(drop=True)\n",
    "print(score_df.shape)\n",
    "\n",
    "# variable bin distriution\n",
    "print(f'loading variable bin distribution from {bin_vec_save_path}')\n",
    "with open(bin_vec_save_path,) as f:\n",
    "    var_bin_vec_df = pd.DataFrame(json.loads(f.read()))\n",
    "    \n",
    "\n",
    "# variable fi\n",
    "print(f'loading variable fi from {var_fi_path}')\n",
    "var_fi_df = pd.read_csv(var_fi_path)\n",
    "\n",
    "\n",
    "variables = var_fi_df['variable'].to_list()\n",
    "print(f'total variable num:', len(variables))\n",
    "\n",
    "\n",
    "categorical = pd.read_csv(categorical_var_path, names=['var'])['var'].to_list()\n",
    "print(f'loaded categorical variable num:', len(categorical))\n",
    "\n",
    "\n",
    "ume_model_path = [f for f in os.listdir(guanjia_model_dir) if '.m' in f][0]\n",
    "ume_model_path = os.path.join(guanjia_model_dir, ume_model_path)\n",
    "print(f'loading model from {ume_model_path}')\n",
    "ume_model = UMEModel(ume_model_path)"
   ]
  },
  {
   "cell_type": "code",
   "execution_count": null,
   "id": "a5b04711-7a87-49c0-ac34-31e224f64c5f",
   "metadata": {
    "tags": []
   },
   "outputs": [],
   "source": [
    "%%time\n",
    "\n",
    "# load driver\n",
    "\n",
    "print(f'loading driver from {driver_data_dir}')\n",
    "driver_df = pd.read_parquet(driver_data_dir)\n",
    "driver_df = driver_df.replace(['', 'None', 'NONE', 'NA', '-999.0', -999.0], np.nan)\n",
    "\n",
    "print('loaded driver rec num', driver_df.shape)\n"
   ]
  },
  {
   "cell_type": "code",
   "execution_count": null,
   "id": "473bf619-f1e3-4150-a04e-0a8d644ff002",
   "metadata": {},
   "outputs": [],
   "source": []
  },
  {
   "cell_type": "code",
   "execution_count": null,
   "id": "5fa3c655-d7ce-4d8c-bed5-6bb097fcd3c4",
   "metadata": {},
   "outputs": [],
   "source": []
  },
  {
   "cell_type": "code",
   "execution_count": null,
   "id": "736fbabe-8d34-4edd-9cf2-23f8ce0ad53c",
   "metadata": {},
   "outputs": [],
   "source": []
  },
  {
   "cell_type": "code",
   "execution_count": null,
   "id": "48fc7bc3-173f-4ad6-90d7-104e0b0b93d3",
   "metadata": {},
   "outputs": [],
   "source": []
  },
  {
   "cell_type": "code",
   "execution_count": null,
   "id": "b5309a1e-7c09-4bab-a063-e6854083fa9a",
   "metadata": {},
   "outputs": [],
   "source": []
  },
  {
   "cell_type": "markdown",
   "id": "887064a1-8aa3-4e05-8f48-5b61193df2d5",
   "metadata": {},
   "source": [
    "# validate variable FI"
   ]
  },
  {
   "cell_type": "code",
   "execution_count": null,
   "id": "d5050d1b-7fca-492a-adf5-4d0fcfea192f",
   "metadata": {
    "tags": []
   },
   "outputs": [],
   "source": [
    "var = 'v51_cc_bin_prod'\n",
    "\n",
    "t = driver_df[driver_df['rcvr_id'] == walmart_rcvr_id].head(1000).copy(deep=True).reset_index(drop=True)\n",
    "    \n",
    "score1 = ume_model.predict(t[ume_model.inputs])[score_name].rename(f'{var}_original')\n",
    "\n",
    "# to safe direction\n",
    "t[var] = 'NO_RADD_DATA'\n",
    "\n",
    "score2 = ume_model.predict(t[ume_model.inputs])[score_name].rename(f'{var}_switch')\n",
    "\n",
    "score = pd.concat([score1, score2], axis=1)\n",
    "\n",
    "diff = score[f'{var}_original'] - score[f'{var}_switch']\n",
    "\n",
    "print('original score mean', score[f'{var}_original'].mean())\n",
    "\n",
    "print('mean', diff.mean())\n",
    "\n",
    "print('max', diff.max())\n",
    "\n",
    "print('min', diff.min())\n",
    "\n",
    "print('std', diff.std())\n",
    "\n",
    "print('p50', diff.quantile(0.5))\n",
    "\n",
    "print('p95', diff.quantile(0.95))\n"
   ]
  },
  {
   "cell_type": "code",
   "execution_count": null,
   "id": "e3c9c21d-2398-473d-aa53-6320c4dc07e7",
   "metadata": {
    "tags": []
   },
   "outputs": [],
   "source": [
    "# plot bar\n",
    "import matplotlib.pyplot as plt\n",
    "\n",
    "# non-Walmart non-BOPIS\n",
    "base_seg_val = '0*0'\n",
    "\n",
    "# Walmart non-BOPIS\n",
    "challenger_seg_val = '1*0'\n",
    "\n",
    "var = 'v51_cc_bin_prod'\n",
    "\n",
    "base_vec = var_bin_vec_df[(var_bin_vec_df['variable'] == var)\n",
    "                          & (var_bin_vec_df['seg_val'] == base_seg_val)]['bin_distribution'].iloc[0]\n",
    "base_vec = [np.nan if v == 'NaN' else v for v in base_vec]\n",
    "\n",
    "challenger_vec = var_bin_vec_df[(var_bin_vec_df['variable'] == var)\n",
    "                                & (var_bin_vec_df['seg_val'] == challenger_seg_val)]['bin_distribution'].iloc[0]\n",
    "challenger_vec = [np.nan if v == 'NaN' else v for v in challenger_vec]\n",
    "\n",
    "x = np.arange(len(base_vec))\n",
    "bin_boundary = var_bin_vec_df[(var_bin_vec_df['variable'] == var)]['bin_boundary'].iloc[0]\n",
    "print(bin_boundary)\n",
    "\n",
    "plot_bar(var, base_vec, challenger_vec, bin_boundary)\n"
   ]
  },
  {
   "cell_type": "code",
   "execution_count": null,
   "id": "20cb8635-19cb-4b69-87d2-ca6f60ddb721",
   "metadata": {
    "tags": []
   },
   "outputs": [],
   "source": []
  },
  {
   "cell_type": "code",
   "execution_count": null,
   "id": "ae7bb13e-243a-468b-87ff-5b4390c92070",
   "metadata": {},
   "outputs": [],
   "source": []
  },
  {
   "cell_type": "code",
   "execution_count": null,
   "id": "43aa43d3-7380-4487-a12c-abaf4dec9eea",
   "metadata": {},
   "outputs": [],
   "source": []
  },
  {
   "cell_type": "markdown",
   "id": "f0aafb48-b7f4-49bb-8cd5-71f874fe2d9b",
   "metadata": {},
   "source": [
    "# get top variables that have significant distribution difference"
   ]
  },
  {
   "cell_type": "code",
   "execution_count": null,
   "id": "c45129e4-5758-4026-9a6c-8e8905df4a28",
   "metadata": {},
   "outputs": [],
   "source": [
    "# Walmart non-BOPIS\n",
    "base_seg_val = '1*0'\n",
    "\n",
    "# Walmart BOPIS\n",
    "challenger_seg_val = '1*1'\n",
    "\n",
    "\n",
    "var_ce_df = pd.DataFrame(columns=['variable', 'ce',])\n",
    "\n",
    "for var in variables:\n",
    "    base_vec = var_bin_vec_df[(var_bin_vec_df['variable'] == var)\n",
    "                      & (var_bin_vec_df['seg_val'] == base_seg_val)]['distribution'].iloc[0]\n",
    "    base_vec = [np.nan if v == 'NaN' else v for v in base_vec]\n",
    "    \n",
    "    challenger_vec = var_bin_vec_df[(var_bin_vec_df['variable'] == var)\n",
    "                      & (var_bin_vec_df['seg_val'] == challenger_seg_val)]['distribution'].iloc[0]\n",
    "    challenger_vec = [np.nan if v == 'NaN' else v for v in challenger_vec]\n",
    "    ce = cross_entropy(base_vec, challenger_vec)\n",
    "    \n",
    "    var_ce_df = var_ce_df.append({'variable': var, 'ce': ce, }, ignore_index=True)\n",
    "\n",
    "    \n",
    "var_ce_df.sort_values(by='ce', ascending=False).head(20)"
   ]
  },
  {
   "cell_type": "code",
   "execution_count": null,
   "id": "ef3fb974-6eb8-4034-a008-f100a1099245",
   "metadata": {},
   "outputs": [],
   "source": []
  },
  {
   "cell_type": "code",
   "execution_count": null,
   "id": "ab5fa30d-8965-4170-af18-a1c3fb83741b",
   "metadata": {},
   "outputs": [],
   "source": []
  },
  {
   "cell_type": "code",
   "execution_count": null,
   "id": "644fa5b9-8996-4af6-8bdc-7dd49d084502",
   "metadata": {},
   "outputs": [],
   "source": []
  }
 ],
 "metadata": {
  "kernelspec": {
   "display_name": "Python 3 (ipykernel)",
   "language": "python",
   "name": "python3"
  },
  "language_info": {
   "codemirror_mode": {
    "name": "ipython",
    "version": 3
   },
   "file_extension": ".py",
   "mimetype": "text/x-python",
   "name": "python",
   "nbconvert_exporter": "python",
   "pygments_lexer": "ipython3",
   "version": "3.11.4"
  },
  "toc-autonumbering": true
 },
 "nbformat": 4,
 "nbformat_minor": 5
}
