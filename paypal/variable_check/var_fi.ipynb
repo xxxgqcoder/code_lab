{
 "cells": [
  {
   "cell_type": "markdown",
   "id": "be7c0ac1-b449-4596-b98f-220bb53a7d4d",
   "metadata": {},
   "source": [
    "# env config"
   ]
  },
  {
   "cell_type": "code",
   "execution_count": null,
   "id": "5510a44f-913c-4f53-b3e3-f8f5ccb9dddf",
   "metadata": {},
   "outputs": [],
   "source": [
    "# lightgbm training pipeline"
   ]
  },
  {
   "cell_type": "code",
   "execution_count": null,
   "id": "2569a513-d29e-4904-b456-3c6a196c276f",
   "metadata": {
    "tags": []
   },
   "outputs": [],
   "source": [
    "import os\n",
    "import sys\n",
    "import shutil\n",
    "\n",
    "username = 'guxia'\n",
    "repo_dir = f'/projects/gds-focus/data/{username}/Utils/'\n",
    "secret_path = f'/projects/{username}/secret/'\n",
    "os.chdir(f'{repo_dir}/variable_check/')\n",
    "for p in [secret_path]:\n",
    "    if p in sys.path:\n",
    "        continue\n",
    "    sys.path.append(p)\n",
    "\n",
    "import pandas as pd\n",
    "import numpy as np\n",
    "\n",
    "import aml.cloud_v1 as cloud\n",
    "\n",
    "%reload_ext cloudmagics.bigquery\n",
    "%config PPMagics.domain=\"ccg24-hrzana-gds-focus\"\n",
    "%config PPMagics.autolimit=0\n",
    "%url -c horton\n",
    "%ppauth"
   ]
  },
  {
   "cell_type": "markdown",
   "id": "9da8a605-9505-4f11-8161-d8f5b31992f0",
   "metadata": {},
   "source": [
    "calculate variable feature importance of given model, as long as input variable and output model score is given"
   ]
  },
  {
   "cell_type": "markdown",
   "id": "9f76500d-b167-4aa0-a9f6-fd679d207a21",
   "metadata": {},
   "source": [
    "# data & hyper param"
   ]
  },
  {
   "cell_type": "code",
   "execution_count": null,
   "id": "b064e3f6-f319-45b8-bf8f-7bbe41bab152",
   "metadata": {
    "tags": []
   },
   "outputs": [],
   "source": [
    "guanjia_model_dir = 'guanjia_model_dir_latam23'\n",
    "\n",
    "driver_data_dir = 'data/cbp_madmen_parquet_20230601_20230630'\n",
    "\n",
    "categorical_var_path = 'categorical.txt'\n",
    "\n",
    "fi_save_path = 'latam23_cbp_202306_model_var_fi.csv'\n"
   ]
  },
  {
   "cell_type": "code",
   "execution_count": null,
   "id": "00c553b8-643a-4c4a-b43c-39c5c558c79f",
   "metadata": {
    "tags": []
   },
   "outputs": [],
   "source": [
    "from pyScoring import UMEModel\n",
    "\n",
    "\n",
    "# load data\n",
    "ume_model_path = [f for f in os.listdir(guanjia_model_dir) if '.m' in f][0]\n",
    "ume_model_path = os.path.join(guanjia_model_dir, ume_model_path)\n",
    "\n",
    "print(f'loading model from {ume_model_path}')\n",
    "ume_model = UMEModel(ume_model_path)\n",
    "\n",
    "categorical = pd.read_csv(categorical_var_path, names=['var'])['var'].to_list()\n",
    "print(f'loaded categorical num: {len(categorical)}')"
   ]
  },
  {
   "cell_type": "code",
   "execution_count": null,
   "id": "f07132d3-b768-4062-9683-a813319cdf26",
   "metadata": {},
   "outputs": [],
   "source": []
  },
  {
   "cell_type": "code",
   "execution_count": null,
   "id": "8c7c0803-d0bb-4f89-af72-58eee791ca39",
   "metadata": {
    "tags": []
   },
   "outputs": [],
   "source": [
    "%%time\n",
    "# load driver\n",
    "\n",
    "driver_df = pd.read_parquet(driver_data_dir)\n",
    "\n",
    "driver_df = driver_df.replace(['', 'None', 'NONE', 'NA', '-999.0', -999.0], np.nan)\n",
    "\n",
    "driver_df = driver_df.reset_index(drop=True)\n",
    "\n",
    "print(f'checking cbp variables, driver size: ', driver_df.shape)"
   ]
  },
  {
   "cell_type": "code",
   "execution_count": null,
   "id": "d678a7e3-0b96-4f7c-a50a-e92fa039c0fe",
   "metadata": {
    "tags": []
   },
   "outputs": [],
   "source": []
  },
  {
   "cell_type": "code",
   "execution_count": null,
   "id": "8b5735fd-af8b-4f7c-b635-1fe1c6c60057",
   "metadata": {
    "tags": []
   },
   "outputs": [],
   "source": []
  },
  {
   "cell_type": "code",
   "execution_count": null,
   "id": "591025a2-7a7a-4bd0-ae36-e8f96234da04",
   "metadata": {},
   "outputs": [],
   "source": []
  },
  {
   "cell_type": "markdown",
   "id": "b9579f84-8c88-4d72-8701-aa4857530563",
   "metadata": {},
   "source": [
    "# model variable fi"
   ]
  },
  {
   "cell_type": "code",
   "execution_count": null,
   "id": "869f3a72-11e9-4459-a9ea-e10574ab2b87",
   "metadata": {
    "tags": []
   },
   "outputs": [],
   "source": [
    "import lightgbm as lgb\n",
    "from sklearn.model_selection import train_test_split\n",
    "\n",
    "\n",
    "feature_list = ume_model.inputs\n",
    "print(f'total feature num: ', len(feature_list))\n",
    "\n",
    "cate_columns = [v for v in feature_list if v in categorical]\n",
    "print(f'total categorical num: ', len(cate_columns))\n",
    "\n",
    "target_col = ume_model.outputs[0]\n",
    "print(f'regression for target: {target_col}')\n",
    "\n",
    "# lgbt params\n",
    "param = {\n",
    "    'boosting_type': 'gbdt',\n",
    "    'num_leaves': 2**5 - 1,\n",
    "    'objective': 'regression_l2',\n",
    "    'max_depth': 5,\n",
    "    'min_data_in_leaf': 5,\n",
    "    'learning_rate': 0.005,\n",
    "    'feature_fraction': 0.8,\n",
    "    'bagging_fraction': 0.8,\n",
    "    'bagging_freq': 5,\n",
    "    'metric': ['l1', 'l2'],\n",
    "    'num_threads': 4,\n",
    "    'verbose': -1,\n",
    "    'num_boost_round': 100,\n",
    "    'early_stopping_rounds': 50,\n",
    "}"
   ]
  },
  {
   "cell_type": "code",
   "execution_count": null,
   "id": "c4eba783-f1c9-4622-b7a1-d42165ea98ea",
   "metadata": {
    "tags": []
   },
   "outputs": [],
   "source": []
  },
  {
   "cell_type": "code",
   "execution_count": null,
   "id": "f2ac5d51-8e50-4f61-86ee-07bece606cd5",
   "metadata": {
    "scrolled": true,
    "tags": []
   },
   "outputs": [],
   "source": [
    "%%time\n",
    "# convert data type\n",
    "for var in feature_list:\n",
    "    assert var in driver_df.columns, f'{var} not found in driver'\n",
    "    \n",
    "    if var not in categorical:\n",
    "        driver_df[var] = driver_df[var].astype(float)\n",
    "    else:\n",
    "        driver_df[var] = driver_df[var].astype('category')\n",
    "        \n",
    "# predict model score\n",
    "score = ume_model.predict_pandas(driver_df[feature_list])\n",
    "if target_col in driver_df:\n",
    "    driver_df = driver_df.drop(target_col, axis=1)\n",
    "        \n",
    "driver_df = driver_df.join(score[target_col])\n",
    "\n",
    "driver_df[target_col] = driver_df[target_col].astype(float)"
   ]
  },
  {
   "cell_type": "code",
   "execution_count": null,
   "id": "559c68b9-8caa-4231-8478-7de2b266419b",
   "metadata": {
    "tags": []
   },
   "outputs": [],
   "source": []
  },
  {
   "cell_type": "code",
   "execution_count": null,
   "id": "6bb71e38-eb12-413a-b7f8-af8f1245f749",
   "metadata": {},
   "outputs": [],
   "source": []
  },
  {
   "cell_type": "code",
   "execution_count": null,
   "id": "ef917205-eb39-4dcc-8689-34feec728cc3",
   "metadata": {},
   "outputs": [],
   "source": []
  },
  {
   "cell_type": "code",
   "execution_count": null,
   "id": "f4c169aa-e6ff-4101-a923-774b14fcc736",
   "metadata": {
    "scrolled": true,
    "tags": []
   },
   "outputs": [],
   "source": [
    "%%time\n",
    "# train a regression model and get fi\n",
    "\n",
    "assert target_col in driver_df.columns\n",
    "\n",
    "x = driver_df[feature_list]\n",
    "y = driver_df[target_col]\n",
    "x_train, x_val, y_train, y_val = train_test_split(x, y, test_size=0.1, random_state=0)\n",
    "print(\"train data shape\", x_train.shape)\n",
    "\n",
    "dtrain = lgb.Dataset(x_train, y_train, categorical_feature=cate_columns)\n",
    "dval = lgb.Dataset(x_val, y_val, reference=dtrain, categorical_feature=cate_columns)\n",
    "\n",
    "try:\n",
    "    bst = lgb.train(param,\n",
    "                    dtrain,\n",
    "                    valid_sets=[dtrain, dval],\n",
    "                    verbose_eval=50)\n",
    "except Exception as e:\n",
    "    print(f\"error with model\", e)\n",
    "    sys.exit()\n",
    "\n"
   ]
  },
  {
   "cell_type": "code",
   "execution_count": null,
   "id": "8a1f6af0-d8a3-4846-b7e6-5e95be40e2da",
   "metadata": {
    "scrolled": true,
    "tags": []
   },
   "outputs": [],
   "source": [
    "# get feature importance\n",
    "fi = list(zip(bst.feature_name(), bst.feature_importance(importance_type='gain'), bst.feature_importance()))\n",
    "\n",
    "fi_df = pd.DataFrame(data=fi, columns=['variable', 'gain', 'split_cnt'])\n",
    "fi_df = fi_df.sort_values(by='gain', ascending=False)\n",
    "\n",
    "fi_df.to_csv(fi_save_path, index=False)"
   ]
  },
  {
   "cell_type": "code",
   "execution_count": null,
   "id": "7ea662ff-d1e4-4f8a-8686-cb8880516a02",
   "metadata": {
    "scrolled": true,
    "tags": []
   },
   "outputs": [],
   "source": []
  },
  {
   "cell_type": "code",
   "execution_count": null,
   "id": "9183d284-249c-4109-87e9-b4175e740e6f",
   "metadata": {
    "tags": []
   },
   "outputs": [],
   "source": []
  },
  {
   "cell_type": "code",
   "execution_count": null,
   "id": "6d17fbe3-4bd5-4bfc-ba5b-b0c81b124655",
   "metadata": {},
   "outputs": [],
   "source": []
  },
  {
   "cell_type": "code",
   "execution_count": null,
   "id": "63d2995f-0944-46ee-ab98-2df0dc990696",
   "metadata": {},
   "outputs": [],
   "source": []
  },
  {
   "cell_type": "code",
   "execution_count": null,
   "id": "1ee06b4c-1a8e-448b-973f-26deb6bc7c40",
   "metadata": {},
   "outputs": [],
   "source": []
  }
 ],
 "metadata": {
  "kernelspec": {
   "display_name": "Python 3 (ipykernel)",
   "language": "python",
   "name": "python3"
  },
  "language_info": {
   "codemirror_mode": {
    "name": "ipython",
    "version": 3
   },
   "file_extension": ".py",
   "mimetype": "text/x-python",
   "name": "python",
   "nbconvert_exporter": "python",
   "pygments_lexer": "ipython3",
   "version": "3.11.4"
  }
 },
 "nbformat": 4,
 "nbformat_minor": 5
}
