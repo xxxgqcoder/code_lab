{
 "cells": [
  {
   "cell_type": "markdown",
   "id": "5d9ac7d3-7c48-4e8e-b18f-9060e4b83ca4",
   "metadata": {},
   "source": [
    "# env config"
   ]
  },
  {
   "cell_type": "markdown",
   "id": "ab2ebb04",
   "metadata": {},
   "source": [
    "## new notebook\n"
   ]
  },
  {
   "cell_type": "code",
   "execution_count": null,
   "id": "e425bfae-5104-42fb-a400-d2b07376cdf7",
   "metadata": {},
   "outputs": [],
   "source": [
    "import os\n",
    "import sys\n",
    "import importlib\n",
    "import shutil\n",
    "import json\n",
    "from datetime import datetime\n",
    "\n",
    "import pandas as pd\n",
    "import numpy as np\n",
    "\n",
    "username = 'guxia'\n",
    "repo_dir = f'/projects/gds-focus/data/{username}/UCC24/'\n",
    "secret_dir = f'/projects/{username}/secret'\n",
    "os.chdir(os.path.join(repo_dir, 'varsel'))\n",
    "\n",
    "\n",
    "for p in [secret_dir, repo_dir]:\n",
    "    if p in sys.path:\n",
    "        continue\n",
    "    sys.path.append(p)\n",
    "\n",
    "\n",
    "import credentials\n",
    "importlib.reload(credentials)\n",
    "from credentials import PAZ_PASSWORD\n",
    "\n"
   ]
  },
  {
   "cell_type": "code",
   "execution_count": null,
   "id": "1f3c1c51-3709-4d2b-b059-52a9a2c03637",
   "metadata": {},
   "outputs": [],
   "source": [
    "!echo $PAZ_PASSWORD | kinit -l 96h guxia"
   ]
  },
  {
   "cell_type": "code",
   "execution_count": null,
   "id": "c8d410be-cedc-4c62-8fe3-f804eadb581d",
   "metadata": {},
   "outputs": [],
   "source": [
    "%reload_ext cloudmagics.auth_magics\n",
    "%reload_ext cloudmagics.bigquery\n",
    "%ppauth\n",
    "%url -c horton\n",
    "%config PPMagics.domain=\"ccg24-hrzana-gds-focus\"\n",
    "%config PPMagics.autolimit=0\n"
   ]
  },
  {
   "cell_type": "code",
   "execution_count": null,
   "id": "abb85b08",
   "metadata": {},
   "outputs": [],
   "source": [
    "# unlimit query return records num\n",
    "%config PPMagics.autolimit=0"
   ]
  },
  {
   "cell_type": "markdown",
   "id": "ac083cea",
   "metadata": {},
   "source": [
    "# config env in notebook"
   ]
  },
  {
   "cell_type": "markdown",
   "id": "bc6f36dc-dced-421a-a93c-9dc5896e1255",
   "metadata": {},
   "source": [
    "```shell\n",
    "cat <<EOT >> /home/$(whoami)/.bashrc\n",
    "\n",
    "# added by guxia\n",
    "# alias\n",
    "alias ll='ls -l'\n",
    "alias clc='clear'\n",
    "EOT\n",
    "\n",
    "source /home/$(whoami)/.bashrc \n",
    "```\n"
   ]
  },
  {
   "cell_type": "markdown",
   "id": "e35882a4-b25a-4832-8bfe-1dfc72a7f8ad",
   "metadata": {},
   "source": [
    "# generate notebook using template"
   ]
  },
  {
   "cell_type": "code",
   "execution_count": null,
   "id": "126685db-9959-4ba1-a813-c47a0ddb3eb8",
   "metadata": {},
   "outputs": [],
   "source": [
    "model_names = ['model']"
   ]
  },
  {
   "cell_type": "code",
   "execution_count": null,
   "id": "a23f8a95-e262-40fc-96fd-82b7e11266d8",
   "metadata": {},
   "outputs": [],
   "source": [
    "import nbformat\n",
    "\n",
    "\n",
    "for index, model_name in enumerate(model_names):\n",
    "    nb = nbformat.read('model_perf.ipynb', as_version=4)\n",
    "    inds = {}\n",
    "    print(model_name )\n",
    "    \n",
    "    for ind, k in enumerate(nb['cells']):\n",
    "        if k['cell_type'] == 'code':\n",
    "            # model name\n",
    "            if 'model_name = ' in k['source']:\n",
    "                inds['model_name'] = ind\n",
    "            # scores\n",
    "            if 'ckpts' in k['source'] and 'score_list' in k['source']:\n",
    "                inds['scores'] = ind\n",
    "                \n",
    "    print(inds)\n",
    "    \n",
    "\n",
    "    nb['cells'][inds['model_name']]['source'] = \"\"\"\n",
    "model_name = '{}'\n",
    "\"\"\".format(model_name)\n",
    "\n",
    "    if index == 0:\n",
    "        nb['cells'][inds['scores']]['source'] = \"\"\"\n",
    "ckpts = os.listdir(model_ckpt_path + \"/\" + model_name)\n",
    "score_list = [os.path.join(model_name, x) for x in ckpts if x.endswith(\".ckpt\")]\n",
    "\n",
    "score_list.extend([\n",
    "    'driver_ucc_sf_static_rmr_score',\n",
    "    'driver_ucc21_model_score1',\n",
    "    'driver_ucc_latam_cbp_model_score1',\n",
    "    'driver_ucc_cbp_latam_23model',\n",
    "    'driver_cam22_ems_score',\n",
    "])\n",
    "\n",
    "print('score list')\n",
    "print(score_list)\n",
    "\"\"\"\n",
    "    else:\n",
    "        nb['cells'][inds['scores']]['source'] = \"\"\"\n",
    "ckpts = os.listdir(model_ckpt_path + \"/\" + model_name)\n",
    "score_list = [os.path.join(model_name, x) for x in ckpts if x.endswith(\".ckpt\")]\n",
    "\n",
    "print('score list')\n",
    "print(score_list)\n",
    "\"\"\"\n",
    "    os.makedirs('bacth_perf', exist_ok=True)\n",
    "    with open(f'bacth_perf/{model_name}_perf.ipynb', 'w') as f:\n",
    "        nbformat.write(nb, f)\n",
    "\n"
   ]
  },
  {
   "cell_type": "code",
   "execution_count": null,
   "id": "66ff8196-b1ca-47ea-9267-f8ac936f2473",
   "metadata": {},
   "outputs": [],
   "source": []
  },
  {
   "cell_type": "markdown",
   "id": "ca828619-e962-41c8-a9df-6eb1c563e915",
   "metadata": {},
   "source": [
    "# authenticate user\n",
    "keytab file generate: go to cosmos notebook server: /projects/{username}/secret, and run `sh keytab_generator.sh {your username} {your ldap password}`\n",
    "- can not authenticate user in pipeline running mode"
   ]
  },
  {
   "cell_type": "code",
   "execution_count": null,
   "id": "cf3158fd-15d6-4cd2-9e2c-afeac0adb8ed",
   "metadata": {},
   "outputs": [],
   "source": [
    "from airflownb.token import RefreshToken\n",
    "\n",
    "cmd = f\"kinit -kt /projects/guxia/secret/guxia.keytab -p guxia\"\n",
    "refresh = RefreshToken(cmd = cmd, interval=60 * 10)\n",
    "refresh.start()"
   ]
  },
  {
   "cell_type": "code",
   "execution_count": null,
   "id": "b03ba947-5e92-4acf-bfed-780e6ae84854",
   "metadata": {},
   "outputs": [],
   "source": []
  },
  {
   "cell_type": "code",
   "execution_count": null,
   "id": "48e6ec0d-0b49-42af-85f4-70fd9ce60fd7",
   "metadata": {},
   "outputs": [],
   "source": []
  }
 ],
 "metadata": {
  "kernelspec": {
   "display_name": "Python 3 (ipykernel)",
   "language": "python",
   "name": "python3"
  },
  "language_info": {
   "codemirror_mode": {
    "name": "ipython",
    "version": 3
   },
   "file_extension": ".py",
   "mimetype": "text/x-python",
   "name": "python",
   "nbconvert_exporter": "python",
   "pygments_lexer": "ipython3",
   "version": "3.12.7"
  },
  "toc-autonumbering": true
 },
 "nbformat": 4,
 "nbformat_minor": 5
}
