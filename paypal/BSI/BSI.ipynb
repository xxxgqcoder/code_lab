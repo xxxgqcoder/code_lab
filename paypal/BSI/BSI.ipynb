{
 "cells": [
  {
   "cell_type": "markdown",
   "id": "248ac95d",
   "metadata": {},
   "source": [
    "# resources"
   ]
  },
  {
   "cell_type": "markdown",
   "id": "5a060c87",
   "metadata": {},
   "source": [
    "BSI syntax:\n",
    "- https://engineering.paypalcorp.com/confluence/display/ARSBIGDATA/BSI+-+Big+data+Scoring+Infrastructure"
   ]
  },
  {
   "cell_type": "markdown",
   "id": "019f4eb5",
   "metadata": {},
   "source": [
    "# run BSI in notebook"
   ]
  },
  {
   "cell_type": "markdown",
   "id": "23b1d917",
   "metadata": {},
   "source": [
    "- follow this steps: https://engineering.paypalcorp.com/confluence/display/BIGDATA/BSI+on+Notebook+GCP\n",
    "- note:\n",
    "    - run with pyspark kernel\n",
    "    - use paypal notebook, not gpu notebook or cosmos\n",
    "    - when shutting down notebook kernel, created GCP cluster will also be deleted\n",
    "\n"
   ]
  },
  {
   "cell_type": "markdown",
   "id": "99c13028",
   "metadata": {},
   "source": [
    "# config and run BSI code"
   ]
  },
  {
   "cell_type": "markdown",
   "id": "3c35ba97",
   "metadata": {},
   "source": [
    "## create a cluster"
   ]
  },
  {
   "cell_type": "code",
   "execution_count": 1,
   "id": "8ff6b9ce",
   "metadata": {
    "execution": {
     "iopub.execute_input": "2023-07-13T13:42:54.597319Z",
     "iopub.status.busy": "2023-07-13T13:42:54.596907Z",
     "iopub.status.idle": "2023-07-13T13:50:25.936688Z",
     "shell.execute_reply": "2023-07-13T13:50:25.935432Z",
     "shell.execute_reply.started": "2023-07-13T13:42:54.597267Z"
    },
    "scrolled": true,
    "tags": []
   },
   "outputs": [
    {
     "name": "stdout",
     "output_type": "stream",
     "text": [
      "Read configuration from path https://artifactory.paypalinc.com/artifactory/big-data-platform/misc/bsi/2.6.0-SNAPSHOT/notebook_create_cluster_template.json\n",
      "Creating cluster with configuration:\n",
      "{\n",
      "    \"projectId\": \"ccg24-hrzana-gds-focus\",\n",
      "    \"secondaryWorkers\": {\n",
      "        \"DiskType\": \"pd-standard\",\n",
      "        \"sizeInGb\": 500,\n",
      "        \"type\": \"n1-highmem-8\"\n",
      "    },\n",
      "    \"autoScalePolicyUri\": \"projects/ccg24-hrzana-gds-focus/regions/us-west4/autoscalingPolicies/bsi_policy_small\",\n",
      "    \"name\": \"guxia-bsi-2\",\n",
      "    \"image\": \"1.4\",\n",
      "    \"computeCommonConfig\": {\n",
      "        \"metadata\": {\n",
      "            \"CONDA_PACKAGES\": \"tensorflow\",\n",
      "            \"PIP_PACKAGES\": \"pandas==0.23.0 scipy==1.1.0\"\n",
      "        }\n",
      "    },\n",
      "    \"labels\": {\n",
      "        \"pp-edp-custom-billing-tag\": \"bsi\",\n",
      "        \"pp-edp-platform\": \"bsi\"\n",
      "    },\n",
      "    \"workers\": {\n",
      "        \"disk\": {\n",
      "            \"DiskType\": \"pd-standard\",\n",
      "            \"sizeInGb\": 500,\n",
      "            \"numLocalSsds\": 4\n",
      "        },\n",
      "        \"type\": \"n1-highmem-8\"\n",
      "    },\n",
      "    \"master\": {\n",
      "        \"disk\": {\n",
      "            \"DiskType\": \"pd-standard\",\n",
      "            \"sizeInGb\": 500,\n",
      "            \"numLocalSsds\": 4\n",
      "        },\n",
      "        \"type\": \"n1-highmem-8\"\n",
      "    },\n",
      "    \"software\": {\n",
      "        \"properties\": {\n",
      "            \"dataproc:efm.spark.shuffle\": \"primary-worker\",\n",
      "            \"spark:spark.task.maxFailures\": \"20\",\n",
      "            \"yarn:yarn.resourcemanager.am.max-attempts\": \"20\",\n",
      "            \"spark:spark.stage.maxConsecutiveAttempts\": \"20\"\n",
      "        }\n",
      "    }\n",
      "}\n",
      "Creating cluster guxia-bsi-2\n",
      "Cluster guxia-bsi-2 status is CREATING\n",
      "Cluster guxia-bsi-2 is Created\n",
      "Now cluster guxia-bsi-2 in project ccg24-hrzana-gds-focus will be used to start session.\n",
      "Livy endpoint is: https://wrtkfbsf7jf4hfxgqwzfo65die-dot-us-west4.dataproc.googleusercontent.com/livy/v1"
     ]
    }
   ],
   "source": [
    "%%configuration --project ccg24-hrzana-gds-focus --dataproc -fa https://artifactory.paypalcorp.com/artifactory/big-data-platform/misc/bsi/2.6.0-SNAPSHOT/notebook_create_cluster_template.json --args cluster_name=guxia-bsi-2,project_id=ccg24-hrzana-gds-focus,cluster_size=small\n",
    "{\n",
    "    \"computeCommonConfig\": {\n",
    "        \"metadata\": {\n",
    "            \"PIP_PACKAGES\": \"pandas==0.23.0 scipy==1.1.0\", \n",
    "            \"CONDA_PACKAGES\": \"tensorflow\"\n",
    "        }\n",
    "    }\n",
    "}"
   ]
  },
  {
   "cell_type": "markdown",
   "id": "6140f38e",
   "metadata": {},
   "source": [
    "## connect to cluster"
   ]
  },
  {
   "cell_type": "code",
   "execution_count": 3,
   "id": "bf7f6dc5",
   "metadata": {
    "execution": {
     "iopub.execute_input": "2023-07-13T13:50:25.939387Z",
     "iopub.status.busy": "2023-07-13T13:50:25.938870Z",
     "iopub.status.idle": "2023-07-13T13:50:29.121326Z",
     "shell.execute_reply": "2023-07-13T13:50:29.120096Z",
     "shell.execute_reply.started": "2023-07-13T13:50:25.939334Z"
    },
    "tags": []
   },
   "outputs": [
    {
     "name": "stdout",
     "output_type": "stream",
     "text": [
      "Now cluster guxia-bsi-2 in project ccg24-hrzana-gds-focus will be used to start session.\n",
      "Livy endpoint is: https://wrtkfbsf7jf4hfxgqwzfo65die-dot-us-west4.dataproc.googleusercontent.com/livy/v1"
     ]
    }
   ],
   "source": [
    "%%url --dataproc --cluster guxia-bsi-2 --project ccg24-hrzana-gds-focus"
   ]
  },
  {
   "cell_type": "markdown",
   "id": "7f7521a4",
   "metadata": {},
   "source": [
    "## customized config"
   ]
  },
  {
   "cell_type": "code",
   "execution_count": 4,
   "id": "091c9e8a",
   "metadata": {
    "execution": {
     "iopub.execute_input": "2023-07-13T13:50:29.123574Z",
     "iopub.status.busy": "2023-07-13T13:50:29.123147Z",
     "iopub.status.idle": "2023-07-13T13:50:31.293200Z",
     "shell.execute_reply": "2023-07-13T13:50:31.292213Z",
     "shell.execute_reply.started": "2023-07-13T13:50:29.123517Z"
    }
   },
   "outputs": [
    {
     "name": "stdout",
     "output_type": "stream",
     "text": [
      "Read configuration from path https://artifactory.paypalinc.com/artifactory/big-data-platform/misc/bsi/2.6.0-SNAPSHOT/spark_conf_small.json\n"
     ]
    },
    {
     "data": {
      "text/html": [
       "Current session configs: <tt>{'driverCores': 8, 'executorCores': 8, 'kind': 'pyspark', 'driverMemory': '32g', 'conf': {'spark.serializer': 'org.apache.spark.serializer.KryoSerializer', 'spark.dynamicAllocation.initialExecutors': '4', 'spark.dynamicAllocation.minExecutors': '4', 'spark.dynamicAllocation.enabled': 'true', 'spark.sql.autoBroadcastJoinThreshold': '268435456', 'spark.files': 'gs://pypl-bkt-rsh-row-std-gds-art/user/pp_risk_grs_datamart_batch/bsi_files/2.6.0-SNAPSHOT/bsi_log4j.properties,gs://pypl-bkt-rsh-row-std-gds-art/user/pp_risk_grs_datamart_batch/bsi_files/2.6.0-SNAPSHOT/dedup-columns.json,gs://pypl-bkt-rsh-row-std-gds-art/user/pp_risk_grs_datamart_batch/bsi_files/2.6.0-SNAPSHOT/error-code.txt,gs://pypl-bkt-rsh-row-std-gds-art/user/pp_risk_grs_datamart_batch/bsi_files/2.6.0-SNAPSHOT/jupiter_log4j.properties,gs://pypl-bkt-rsh-row-std-gds-art/user/pp_risk_grs_datamart_batch/bsi_files/2.6.0-SNAPSHOT/skewids.json', 'spark.jars': 'gs://pypl-bkt-rsh-row-std-gds-art/user/pp_risk_grs_datamart_batch/bsi_files/2.6.0-SNAPSHOT/datamart-xhql_2.11-2.6.0-SNAPSHOT.jar', 'spark.driver.memoryOverhead': '8G', 'spark.executor.extraJavaOptions': '-Dhdp.version=current -XX:MaxPermSize=1024m -XX:PermSize=256m -XX:+UseG1GC -XX:+PrintFlagsFinal -Dlog4j.configuration=./jupiter_log4j.properties', 'spark.driver.maxResultSize': '3g', 'spark.yarn.executor.memoryOverhead': '8G', 'spark.driver.extraJavaOptions': '-Dhdp.version=current -XX:MaxPermSize=1024m -XX:PermSize=256m -XX:+UseG1GC -XX:+PrintFlagsFinal -Dlog4j.configuration=./jupiter_log4j.properties', 'spark.dynamicAllocation.maxExecutors': '59', 'spark.speculation': 'true'}, 'executorMemory': '32g'}</tt><br>"
      ],
      "text/plain": [
       "<IPython.core.display.HTML object>"
      ]
     },
     "metadata": {},
     "output_type": "display_data"
    },
    {
     "data": {
      "text/html": [
       "No active sessions."
      ],
      "text/plain": [
       "<IPython.core.display.HTML object>"
      ]
     },
     "metadata": {},
     "output_type": "display_data"
    }
   ],
   "source": [
    "%configure -fa https://artifactory.paypalcorp.com/artifactory/big-data-platform/misc/bsi/2.6.0-SNAPSHOT/spark_conf_small.json"
   ]
  },
  {
   "cell_type": "markdown",
   "id": "cef48b1a",
   "metadata": {},
   "source": [
    "## get a spark session"
   ]
  },
  {
   "cell_type": "code",
   "execution_count": 5,
   "id": "e8ebb8c2",
   "metadata": {
    "execution": {
     "iopub.execute_input": "2023-07-13T13:52:03.254532Z",
     "iopub.status.busy": "2023-07-13T13:52:03.254029Z",
     "iopub.status.idle": "2023-07-13T13:52:49.566254Z",
     "shell.execute_reply": "2023-07-13T13:52:49.565190Z",
     "shell.execute_reply.started": "2023-07-13T13:52:03.254438Z"
    }
   },
   "outputs": [
    {
     "name": "stdout",
     "output_type": "stream",
     "text": [
      "Starting Spark application\n"
     ]
    },
    {
     "data": {
      "text/html": [
       "<table>\n",
       "<tr><th>ID</th><th>YARN Application ID</th><th>Kind</th><th>State</th><th>Spark UI</th><th>Driver log</th><th>Current session?</th></tr><tr><td>0</td><td>application_1689256194764_0001</td><td>pyspark</td><td>idle</td><td><a target=\"_blank\" href=\"http://guxia-bsi-2-m.us-west4-a.c.ccg24-hrzana-gds-focus.internal:8088/proxy/application_1689256194764_0001/\">Link</a></td><td><a target=\"_blank\" href=\"http://guxia-bsi-2-w-2:8042/node/containerlogs/container_e01_1689256194764_0001_01_000001/livy\">Link</a></td><td>✔</td></tr></table>"
      ],
      "text/plain": [
       "<IPython.core.display.HTML object>"
      ]
     },
     "metadata": {},
     "output_type": "display_data"
    },
    {
     "name": "stdout",
     "output_type": "stream",
     "text": [
      "SparkSession available as 'spark'.\n",
      "<pyspark.sql.session.SparkSession object at 0x7f363406a550>"
     ]
    }
   ],
   "source": [
    "spark"
   ]
  },
  {
   "cell_type": "code",
   "execution_count": null,
   "id": "d54c8abc",
   "metadata": {},
   "outputs": [],
   "source": []
  },
  {
   "cell_type": "code",
   "execution_count": null,
   "id": "1a19c3c7",
   "metadata": {},
   "outputs": [],
   "source": []
  },
  {
   "cell_type": "markdown",
   "id": "9fdda381",
   "metadata": {},
   "source": [
    "# run BSI code"
   ]
  },
  {
   "cell_type": "code",
   "execution_count": 6,
   "id": "0eef1b9b",
   "metadata": {
    "execution": {
     "iopub.execute_input": "2023-07-13T13:53:06.409812Z",
     "iopub.status.busy": "2023-07-13T13:53:06.409360Z",
     "iopub.status.idle": "2023-07-13T13:53:16.100569Z",
     "shell.execute_reply": "2023-07-13T13:53:16.099806Z",
     "shell.execute_reply.started": "2023-07-13T13:53:06.409755Z"
    }
   },
   "outputs": [
    {
     "name": "stdout",
     "output_type": "stream",
     "text": [
      "\n"
     ]
    },
    {
     "data": {
      "text/html": [
       "<div>\n",
       "<style scoped>\n",
       "    .dataframe tbody tr th:only-of-type {\n",
       "        vertical-align: middle;\n",
       "    }\n",
       "\n",
       "    .dataframe tbody tr th {\n",
       "        vertical-align: top;\n",
       "    }\n",
       "\n",
       "    .dataframe thead th {\n",
       "        text-align: right;\n",
       "    }\n",
       "</style>\n",
       "<table border=\"1\" class=\"dataframe\">\n",
       "  <thead>\n",
       "    <tr style=\"text-align: right;\">\n",
       "      <th></th>\n",
       "      <th>key</th>\n",
       "      <th>value</th>\n",
       "    </tr>\n",
       "  </thead>\n",
       "  <tbody>\n",
       "    <tr>\n",
       "      <th>0</th>\n",
       "      <td>bsi.gcp.bucket</td>\n",
       "      <td>pypl-bkt-rsh-row-std-gds-focus</td>\n",
       "    </tr>\n",
       "  </tbody>\n",
       "</table>\n",
       "</div>"
      ],
      "text/plain": [
       "              key                           value\n",
       "0  bsi.gcp.bucket  pypl-bkt-rsh-row-std-gds-focus"
      ]
     },
     "execution_count": 6,
     "metadata": {},
     "output_type": "execute_result"
    }
   ],
   "source": [
    "%%bsisql\n",
    "set bsi.gcp.bucket=pypl-bkt-rsh-row-std-gds-focus;"
   ]
  },
  {
   "cell_type": "code",
   "execution_count": 12,
   "id": "4c44121f",
   "metadata": {
    "execution": {
     "iopub.execute_input": "2023-07-13T14:06:12.295815Z",
     "iopub.status.busy": "2023-07-13T14:06:12.295336Z",
     "iopub.status.idle": "2023-07-13T14:06:12.990734Z",
     "shell.execute_reply": "2023-07-13T14:06:12.989712Z",
     "shell.execute_reply.started": "2023-07-13T14:06:12.295756Z"
    }
   },
   "outputs": [],
   "source": [
    "# %%bsisql\n",
    "# -- rename table\n",
    "# ALTER TABLE ucc_phone_chargeback_production.ucc_phone_chargeback_history RENAME TO ucc_phone_chargeback_production.ucc_phone_chargeback_history_tmp;"
   ]
  },
  {
   "cell_type": "code",
   "execution_count": null,
   "id": "8e1918e3",
   "metadata": {},
   "outputs": [],
   "source": []
  },
  {
   "cell_type": "code",
   "execution_count": 9,
   "id": "7951d02d",
   "metadata": {
    "execution": {
     "iopub.execute_input": "2023-07-13T13:54:24.603694Z",
     "iopub.status.busy": "2023-07-13T13:54:24.603409Z",
     "iopub.status.idle": "2023-07-13T13:54:43.027918Z",
     "shell.execute_reply": "2023-07-13T13:54:43.026802Z",
     "shell.execute_reply.started": "2023-07-13T13:54:24.603662Z"
    }
   },
   "outputs": [
    {
     "name": "stdout",
     "output_type": "stream",
     "text": [
      "\n"
     ]
    },
    {
     "data": {
      "text/html": [
       "<div>\n",
       "<style scoped>\n",
       "    .dataframe tbody tr th:only-of-type {\n",
       "        vertical-align: middle;\n",
       "    }\n",
       "\n",
       "    .dataframe tbody tr th {\n",
       "        vertical-align: top;\n",
       "    }\n",
       "\n",
       "    .dataframe thead th {\n",
       "        text-align: right;\n",
       "    }\n",
       "</style>\n",
       "<table border=\"1\" class=\"dataframe\">\n",
       "  <thead>\n",
       "    <tr style=\"text-align: right;\">\n",
       "      <th></th>\n",
       "      <th>running_dt</th>\n",
       "      <th>num</th>\n",
       "    </tr>\n",
       "  </thead>\n",
       "  <tbody>\n",
       "    <tr>\n",
       "      <th>0</th>\n",
       "      <td>20230617</td>\n",
       "      <td>224234924</td>\n",
       "    </tr>\n",
       "  </tbody>\n",
       "</table>\n",
       "</div>"
      ],
      "text/plain": [
       "  running_dt        num\n",
       "0   20230617  224234924"
      ]
     },
     "execution_count": 9,
     "metadata": {},
     "output_type": "execute_result"
    }
   ],
   "source": [
    "%%bsisql\n",
    "-- query table\n",
    "select\n",
    "    running_dt\n",
    "    , count(*) as num\n",
    "from ucc_shipping_addr_chargeback_production_verification.ucc_shipping_addr_chargeback_history\n",
    "group by running_dt\n",
    "order by running_dt"
   ]
  },
  {
   "cell_type": "code",
   "execution_count": null,
   "id": "0f859ade",
   "metadata": {},
   "outputs": [],
   "source": []
  },
  {
   "cell_type": "markdown",
   "id": "730bd200",
   "metadata": {},
   "source": [
    "# show GCP hive table meta info"
   ]
  },
  {
   "cell_type": "code",
   "execution_count": 11,
   "id": "935cb7cf",
   "metadata": {
    "execution": {
     "iopub.execute_input": "2023-07-13T14:04:24.103663Z",
     "iopub.status.busy": "2023-07-13T14:04:24.103238Z",
     "iopub.status.idle": "2023-07-13T14:04:27.069046Z",
     "shell.execute_reply": "2023-07-13T14:04:27.067998Z",
     "shell.execute_reply.started": "2023-07-13T14:04:24.103612Z"
    }
   },
   "outputs": [
    {
     "name": "stdout",
     "output_type": "stream",
     "text": [
      "Row(data_type='gs://pypl-bkt-rsh-row-std-gds-art/user/root/bsi_verification_dbs/ucc_shipping_addr_chargeback_production_verification/ucc_shipping_addr_chargeback_history')"
     ]
    }
   ],
   "source": [
    "table = \"ucc_shipping_addr_chargeback_production_verification.ucc_shipping_addr_chargeback_history\"\n",
    "ret = spark.sql(f\"DESCRIBE TABLE EXTENDED {table}\")\n",
    "\n",
    "for r in ret.where(\"col_name = 'Location'\").select(\"data_type\").take(1):\n",
    "    print(r)\n"
   ]
  },
  {
   "cell_type": "code",
   "execution_count": null,
   "id": "dea5e777",
   "metadata": {},
   "outputs": [],
   "source": []
  },
  {
   "cell_type": "code",
   "execution_count": null,
   "id": "e952953b",
   "metadata": {},
   "outputs": [],
   "source": []
  }
 ],
 "metadata": {
  "kernelspec": {
   "display_name": "Python 3 (ipykernel)",
   "language": "python",
   "name": "python3"
  },
  "language_info": {
   "codemirror_mode": {
    "name": "ipython",
    "version": 3
   },
   "file_extension": ".py",
   "mimetype": "text/x-python",
   "name": "python",
   "nbconvert_exporter": "python",
   "pygments_lexer": "ipython3",
   "version": "3.11.4"
  }
 },
 "nbformat": 4,
 "nbformat_minor": 5
}
