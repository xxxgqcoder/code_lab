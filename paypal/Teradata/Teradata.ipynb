{
 "cells": [
  {
   "cell_type": "markdown",
   "id": "2376a95a",
   "metadata": {},
   "source": [
    "# personal db"
   ]
  },
  {
   "cell_type": "code",
   "execution_count": null,
   "id": "140d7e97",
   "metadata": {},
   "outputs": [],
   "source": [
    "# personal db\n",
    "PP_OAP_GUXIA_T\n",
    "\n",
    "# research db\n",
    "pp_scratch_risk"
   ]
  },
  {
   "cell_type": "code",
   "execution_count": null,
   "id": "a0258096",
   "metadata": {},
   "outputs": [],
   "source": []
  },
  {
   "cell_type": "markdown",
   "id": "5769e092",
   "metadata": {},
   "source": [
    "# show table columns"
   ]
  },
  {
   "cell_type": "code",
   "execution_count": null,
   "id": "b683744a",
   "metadata": {},
   "outputs": [],
   "source": [
    "help table table_name"
   ]
  },
  {
   "cell_type": "code",
   "execution_count": null,
   "id": "a75a1cc3",
   "metadata": {},
   "outputs": [],
   "source": []
  },
  {
   "cell_type": "markdown",
   "id": "f9352b94",
   "metadata": {},
   "source": [
    "# show table schema"
   ]
  },
  {
   "cell_type": "code",
   "execution_count": null,
   "id": "0ca614a1",
   "metadata": {},
   "outputs": [],
   "source": [
    "show table {database_name}.{table_name}\n",
    "\n",
    "show view {database_name}.{view_name}\n",
    "\n",
    "help column {data_base_name}.{view_or_table_name}.{column_name, *}"
   ]
  },
  {
   "cell_type": "code",
   "execution_count": null,
   "id": "f16600b1",
   "metadata": {},
   "outputs": [],
   "source": []
  },
  {
   "cell_type": "markdown",
   "id": "b160afee",
   "metadata": {},
   "source": [
    "# primary index & key"
   ]
  },
  {
   "cell_type": "code",
   "execution_count": null,
   "id": "92c13d24",
   "metadata": {},
   "outputs": [],
   "source": [
    "-- primary index is used to partition rows in a schema like hashing\n",
    "-- example\n",
    "\n",
    "create multiset table table_a (\n",
    "    col1\n",
    "    , col2\n",
    ")\n",
    "primary index(col1)\n",
    "\n",
    "-- primary key must be defined on table column\n",
    "create multiset table table_a (\n",
    "    col1 primary key\n",
    "    col2\n",
    ")"
   ]
  },
  {
   "cell_type": "code",
   "execution_count": null,
   "id": "f3397acf",
   "metadata": {},
   "outputs": [],
   "source": []
  },
  {
   "cell_type": "markdown",
   "id": "3c2e3cc3",
   "metadata": {},
   "source": [
    "# multiset and primary index"
   ]
  },
  {
   "cell_type": "code",
   "execution_count": null,
   "id": "2fed57e5",
   "metadata": {},
   "outputs": [],
   "source": [
    "-- multiset with primary index: ok to insert multi row with same primary index\n",
    "-- multiset with unique primary index: not ok to insert multi row with same primary index"
   ]
  },
  {
   "cell_type": "code",
   "execution_count": null,
   "id": "03263091",
   "metadata": {},
   "outputs": [],
   "source": []
  },
  {
   "cell_type": "markdown",
   "id": "1ba8a85b",
   "metadata": {},
   "source": [
    "# with as clause"
   ]
  },
  {
   "cell_type": "code",
   "execution_count": null,
   "id": "3e61f9e5",
   "metadata": {},
   "outputs": [],
   "source": [
    "with data as (\n",
    "    select clause\n",
    ")\n",
    "\n",
    "select * from data"
   ]
  },
  {
   "cell_type": "code",
   "execution_count": null,
   "id": "3df5a6a2",
   "metadata": {},
   "outputs": [],
   "source": []
  },
  {
   "cell_type": "markdown",
   "id": "66f4ba05",
   "metadata": {},
   "source": [
    "# partition a table horizontally"
   ]
  },
  {
   "cell_type": "code",
   "execution_count": null,
   "id": "c4a8e445",
   "metadata": {},
   "outputs": [],
   "source": [
    "create table (\n",
    "    col_name date\n",
    ")\n",
    "\n",
    "partition by range_n( col_name between date '2021-01-01' and date '2030-12-31' each interval '1' day)\n",
    "  \n",
    "using range_n to create only limited partition keys, in this way you can leave some space for teradata optimizer to organize the data\n"
   ]
  },
  {
   "cell_type": "code",
   "execution_count": null,
   "id": "04d8ab51",
   "metadata": {},
   "outputs": [],
   "source": []
  },
  {
   "cell_type": "markdown",
   "id": "dcdb9879",
   "metadata": {},
   "source": [
    "# Insert into Table with Result from CTE"
   ]
  },
  {
   "cell_type": "code",
   "execution_count": null,
   "id": "8a301f1b",
   "metadata": {},
   "outputs": [],
   "source": [
    "insert into target_table [(col_1, col_2)]\n",
    "with table_name_1 as (),\n",
    "\n",
    "    table_name_2 as ()\n",
    "select * from table_name_2"
   ]
  },
  {
   "cell_type": "code",
   "execution_count": null,
   "id": "2a6886a5",
   "metadata": {},
   "outputs": [],
   "source": []
  },
  {
   "cell_type": "markdown",
   "id": "e1f887d3",
   "metadata": {},
   "source": [
    "# use CTE in create as clause"
   ]
  },
  {
   "cell_type": "code",
   "execution_count": null,
   "id": "8eba012f",
   "metadata": {},
   "outputs": [],
   "source": [
    "create multiset table db_name.table_name as (\n",
    "with data as(\n",
    "    select some_col\n",
    "    from some_table\n",
    "    where\n",
    "        1=1 and some_cond\n",
    "),\n",
    "\n",
    "select * from data\n",
    ")\n",
    "with data\n",
    "primary index(some_col)"
   ]
  },
  {
   "cell_type": "code",
   "execution_count": null,
   "id": "dd03c555",
   "metadata": {},
   "outputs": [],
   "source": []
  },
  {
   "cell_type": "markdown",
   "id": "711469ee",
   "metadata": {},
   "source": [
    "# teradata volatile table"
   ]
  },
  {
   "cell_type": "code",
   "execution_count": null,
   "id": "a1bda3cf",
   "metadata": {},
   "outputs": [],
   "source": [
    "-- syntax for creating volatile table\n",
    "\n",
    "drop table vt1;\n",
    "\n",
    "\n",
    "create volatile table vt1 (\n",
    "    column_1 integer\n",
    "\n",
    "    , column_2 integer\n",
    ")\n",
    "\n",
    "on commit preserve rows;\n",
    "-- can be used to quickly verify some sql logic"
   ]
  },
  {
   "cell_type": "markdown",
   "id": "2f33669e",
   "metadata": {},
   "source": [
    "# date convert to string"
   ]
  },
  {
   "cell_type": "code",
   "execution_count": null,
   "id": "4216aeb9",
   "metadata": {},
   "outputs": [],
   "source": [
    "to_char(date_column, 'YYYY-MM')"
   ]
  },
  {
   "cell_type": "code",
   "execution_count": null,
   "id": "c3f57569",
   "metadata": {},
   "outputs": [],
   "source": []
  },
  {
   "cell_type": "markdown",
   "id": "78b40403",
   "metadata": {},
   "source": [
    "# percentile"
   ]
  },
  {
   "cell_type": "code",
   "execution_count": null,
   "id": "d142c008",
   "metadata": {},
   "outputs": [],
   "source": [
    "percentile_disc(0.01) within group (order by score desc)"
   ]
  },
  {
   "cell_type": "code",
   "execution_count": null,
   "id": "363a279a",
   "metadata": {},
   "outputs": [],
   "source": []
  },
  {
   "cell_type": "markdown",
   "id": "3a91a0db",
   "metadata": {},
   "source": [
    "# list all table in db"
   ]
  },
  {
   "cell_type": "code",
   "execution_count": null,
   "id": "0399c712",
   "metadata": {},
   "outputs": [],
   "source": [
    "SELECT\n",
    "    DatabaseName,\n",
    "    TableName,\n",
    "    CreateTimeStamp,\n",
    "    LastAlterTimeStamp\n",
    "\n",
    "FROM DBC.TablesV\n",
    "WHERE \n",
    "    TableKind = 'T'\n",
    "    and DatabaseName = 'PP_SCRATCH_RISK'\n",
    "    and TableName like 'guxia%'\n",
    "ORDER BY TableName;"
   ]
  },
  {
   "cell_type": "code",
   "execution_count": null,
   "id": "45b5c98b",
   "metadata": {},
   "outputs": [],
   "source": []
  },
  {
   "cell_type": "markdown",
   "id": "41db43e9",
   "metadata": {},
   "source": [
    "# drop table using pp utils"
   ]
  },
  {
   "cell_type": "code",
   "execution_count": null,
   "id": "17e768fa",
   "metadata": {},
   "outputs": [],
   "source": [
    "call pp_monitor.drop_table('pp_scratch_risk.guxia_payfast_v2_capture');"
   ]
  },
  {
   "cell_type": "code",
   "execution_count": null,
   "id": "65e830b1",
   "metadata": {},
   "outputs": [],
   "source": []
  },
  {
   "cell_type": "markdown",
   "id": "61497700",
   "metadata": {},
   "source": [
    "# display table storage size"
   ]
  },
  {
   "cell_type": "code",
   "execution_count": null,
   "id": "cddd8e86",
   "metadata": {},
   "outputs": [],
   "source": [
    "SELECT\n",
    "    A.DatabaseName\n",
    "    , A.tablename\n",
    "    , CreateTimeStamp\n",
    "    , CAST(SUM(CURRENTPERM) AS DECIMAL(18,2))/(1024*1024*1024) (TITLE 'Used(GB)')\n",
    "\n",
    "FROM dbc.tablesize A, DBC.TABLES B\n",
    "WHERE\n",
    "\n",
    "    A.TABLENAME=B.TABLENAME\n",
    "    AND A.DatabaseName = B.DatabaseName\n",
    "    AND A.DatabaseName = 'PP_OAP_GUXIA_T'\n",
    "\n",
    "GROUP BY 1,2,3\n",
    "ORDER BY 4 DESC;"
   ]
  },
  {
   "cell_type": "code",
   "execution_count": null,
   "id": "7670354b",
   "metadata": {},
   "outputs": [],
   "source": []
  },
  {
   "cell_type": "code",
   "execution_count": null,
   "id": "7eb66c03",
   "metadata": {},
   "outputs": [],
   "source": []
  },
  {
   "cell_type": "markdown",
   "id": "a7135b34",
   "metadata": {},
   "source": [
    "# convert timestamp to date in timezone"
   ]
  },
  {
   "cell_type": "code",
   "execution_count": null,
   "id": "43f44011",
   "metadata": {},
   "outputs": [],
   "source": [
    "cast(timestamp to date at time zone -8)"
   ]
  },
  {
   "cell_type": "code",
   "execution_count": null,
   "id": "67026282",
   "metadata": {},
   "outputs": [],
   "source": []
  },
  {
   "cell_type": "markdown",
   "id": "2cf5d495",
   "metadata": {},
   "source": [
    "# convert integer to timestamp"
   ]
  },
  {
   "cell_type": "code",
   "execution_count": null,
   "id": "f9431651",
   "metadata": {},
   "outputs": [],
   "source": [
    "to_timestamp(integer_col)"
   ]
  }
 ],
 "metadata": {
  "kernelspec": {
   "display_name": "Python 3 (ipykernel)",
   "language": "python",
   "name": "python3"
  },
  "language_info": {
   "codemirror_mode": {
    "name": "ipython",
    "version": 3
   },
   "file_extension": ".py",
   "mimetype": "text/x-python",
   "name": "python",
   "nbconvert_exporter": "python",
   "pygments_lexer": "ipython3",
   "version": "3.9.5"
  }
 },
 "nbformat": 4,
 "nbformat_minor": 5
}
