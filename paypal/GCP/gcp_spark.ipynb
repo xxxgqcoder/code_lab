{
 "cells": [
  {
   "cell_type": "markdown",
   "id": "09469b97",
   "metadata": {},
   "source": [
    "reference:\n",
    "- https://github.paypal.com/guazhu/NotebooksSharing/blob/master/notebooks/Dataproc_pyspark.ipynbm\n",
    "\n",
    "note:\n",
    "- run in pp notebook with pyspark kernel\n",
    "- not tested in cosmos notebook environemt"
   ]
  },
  {
   "cell_type": "markdown",
   "id": "d5d99a47",
   "metadata": {},
   "source": [
    "# create a cluster in cmd"
   ]
  },
  {
   "cell_type": "markdown",
   "id": "44b4de1a",
   "metadata": {},
   "source": [
    "## create cluster using a template"
   ]
  },
  {
   "cell_type": "code",
   "execution_count": null,
   "id": "78b27425",
   "metadata": {
    "execution": {
     "iopub.execute_input": "2023-07-13T14:04:49.062526Z",
     "iopub.status.busy": "2023-07-13T14:04:49.062069Z"
    },
    "scrolled": true
   },
   "outputs": [
    {
     "name": "stdout",
     "output_type": "stream",
     "text": [
      "Starting Spark application\n"
     ]
    }
   ],
   "source": [
    "%%configuration --project ccg24-hrzana-gds-focus --dataproc -fa https://artifactory.paypalcorp.com/artifactory/big-data-platform/misc/bsi/2.6.0-SNAPSHOT/notebook_create_cluster_template.json --args cluster_name=guxia-bsi,project_id=ccg24-hrzana-gds-focus,cluster_size=small\n",
    "{\n",
    "    \"computeCommonConfig\": {\n",
    "        \"metadata\": {\n",
    "            \"PIP_PACKAGES\": \"pandas==0.23.0 scipy==1.1.0\", \n",
    "            \"CONDA_PACKAGES\": \"tensorflow\"\n",
    "        }\n",
    "    }\n",
    "}"
   ]
  },
  {
   "cell_type": "markdown",
   "id": "9238de9e",
   "metadata": {},
   "source": [
    "## create cluster using manual config"
   ]
  },
  {
   "cell_type": "code",
   "execution_count": 1,
   "id": "c34e0b0e",
   "metadata": {
    "scrolled": true,
    "tags": []
   },
   "outputs": [
    {
     "name": "stdout",
     "output_type": "stream",
     "text": [
      "Creating cluster with configuration:\n",
      "{\n",
      "    \"image\": \"1.4\",\n",
      "    \"lifecycleConfig\": {\n",
      "        \"maxTtl\": \"1d0h0m\",\n",
      "        \"idleDeleteTtl\": \"1d0h0m\"\n",
      "    },\n",
      "    \"name\": \"guxia-gcp-test2\",\n",
      "    \"secondaryWorkers\": {\n",
      "        \"type\": \"n1-highmem-8\",\n",
      "        \"disk\": {\n",
      "            \"sizeInGb\": 256,\n",
      "            \"DiskType\": \"pd-standard\",\n",
      "            \"numLocalSsds\": 0\n",
      "        }\n",
      "    },\n",
      "    \"software\": {\n",
      "        \"properties\": {\n",
      "            \"dataproc:dataproc.conscrypt.provider.enable\": \"false\"\n",
      "        }\n",
      "    },\n",
      "    \"workers\": {\n",
      "        \"type\": \"n1-highmem-8\",\n",
      "        \"numInstances\": 8,\n",
      "        \"disk\": {\n",
      "            \"sizeInGb\": 256,\n",
      "            \"DiskType\": \"pd-standard\",\n",
      "            \"numLocalSsds\": 1\n",
      "        }\n",
      "    },\n",
      "    \"master\": {\n",
      "        \"type\": \"n1-standard-16\"\n",
      "    },\n",
      "    \"computeCommonConfig\": {\n",
      "        \"metadata\": {\n",
      "            \"PIP_PACKAGES\": \"pandas==0.24.2 scipy==1.1.0\",\n",
      "            \"CONDA_PACKAGES\": \"tensorflow\"\n",
      "        }\n",
      "    }\n",
      "}\n",
      "Creating cluster guxia-gcp-test2\n",
      "Cluster guxia-gcp-test2 status is CREATING\n",
      "Cluster guxia-gcp-test2 is Created\n",
      "Now cluster guxia-gcp-test2 in project ccg24-hrzana-gds-focus will be used to start session.\n",
      "Livy endpoint is: https://ejuznupzmngddjpryzxspcj7im-dot-us-west4.dataproc.googleusercontent.com/livy/v1"
     ]
    }
   ],
   "source": [
    "%%configuration --project ccg24-hrzana-gds-focus --dataproc\n",
    "{\n",
    "    \"name\": \"guxia-gcp-test2\",\n",
    "    \"image\": \"1.4\",\n",
    "    \"software\": {\n",
    "        \"properties\": {\n",
    "            \"dataproc:dataproc.conscrypt.provider.enable\": \"false\"\n",
    "        }\n",
    "    },\n",
    "    \"lifecycleConfig\": {\n",
    "        \"idleDeleteTtl\": \"1d0h0m\",\n",
    "        \"maxTtl\": \"1d0h0m\"\n",
    "    },\n",
    "    \"computeCommonConfig\": {\n",
    "        \"metadata\": {\n",
    "            \"PIP_PACKAGES\": \"pandas==0.24.2 scipy==1.1.0\",\n",
    "            \"CONDA_PACKAGES\": \"tensorflow\"\n",
    "        }\n",
    "    },\n",
    "    \"master\": {\n",
    "        \"type\": \"n1-standard-16\"\n",
    "    },\n",
    "    \"workers\": {\n",
    "        \"disk\": {\n",
    "            \"DiskType\": \"pd-standard\",\n",
    "            \"numLocalSsds\": 1,\n",
    "            \"sizeInGb\": 256\n",
    "        },\n",
    "        \"type\": \"n1-highmem-8\",\n",
    "        \"numInstances\": 8\n",
    "    },\n",
    "    \"secondaryWorkers\": {\n",
    "        \"type\": \"n1-highmem-8\",\n",
    "        \"disk\": {\n",
    "            \"DiskType\": \"pd-standard\",\n",
    "            \"numLocalSsds\": 0,\n",
    "            \"sizeInGb\": 256\n",
    "        }\n",
    "    }\n",
    "}"
   ]
  },
  {
   "cell_type": "markdown",
   "id": "3f3b4754-f95a-4676-b2a9-28985f8417cb",
   "metadata": {
    "tags": []
   },
   "source": [
    "## connecting existing cluster"
   ]
  },
  {
   "cell_type": "code",
   "execution_count": null,
   "id": "8ccaf6bc-5135-4321-bef7-f822c016199c",
   "metadata": {},
   "outputs": [],
   "source": [
    "%cluster --dataproc --name guxia-6 --project ccg24-hrzana-gds-focus"
   ]
  },
  {
   "cell_type": "markdown",
   "id": "b2242466-e96d-4c04-9040-d9af1ed443d9",
   "metadata": {
    "execution": {
     "iopub.execute_input": "2023-07-13T13:50:06.114756Z",
     "iopub.status.busy": "2023-07-13T13:50:06.114408Z",
     "iopub.status.idle": "2023-07-13T13:50:06.863402Z",
     "shell.execute_reply": "2023-07-13T13:50:06.862222Z",
     "shell.execute_reply.started": "2023-07-13T13:50:06.114707Z"
    }
   },
   "source": [
    "## add jar to excution path"
   ]
  },
  {
   "cell_type": "code",
   "execution_count": 3,
   "id": "0fe64180",
   "metadata": {
    "scrolled": true,
    "tags": []
   },
   "outputs": [
    {
     "data": {
      "text/html": [
       "Current session configs: <tt>{'kind': 'pyspark', 'conf': {'spark.driver.extraClassPath': 'spark-bigquery-latest.jar', 'spark.executor.extraClassPath': 'spark-bigquery-latest.jar', 'spark.jars': 'gs://spark-lib/bigquery/spark-bigquery-latest.jar'}}</tt><br>"
      ],
      "text/plain": [
       "<IPython.core.display.HTML object>"
      ]
     },
     "metadata": {},
     "output_type": "display_data"
    },
    {
     "data": {
      "text/html": [
       "No active sessions."
      ],
      "text/plain": [
       "<IPython.core.display.HTML object>"
      ]
     },
     "metadata": {},
     "output_type": "display_data"
    }
   ],
   "source": [
    "%%configure -f\n",
    "{\n",
    "    \"conf\": {\n",
    "        \"spark.jars\":\"gs://spark-lib/bigquery/spark-bigquery-latest.jar\",\n",
    "        \"spark.driver.extraClassPath\":\"spark-bigquery-latest.jar\",\n",
    "        \"spark.executor.extraClassPath\":\"spark-bigquery-latest.jar\"\n",
    "    }\n",
    "}"
   ]
  },
  {
   "cell_type": "markdown",
   "id": "a7f8f10e-9283-4c74-a773-1a827be427d1",
   "metadata": {},
   "source": [
    "## get a spark session"
   ]
  },
  {
   "cell_type": "code",
   "execution_count": 4,
   "id": "a3d43811",
   "metadata": {
    "tags": []
   },
   "outputs": [
    {
     "name": "stdout",
     "output_type": "stream",
     "text": [
      "Starting Spark application\n"
     ]
    },
    {
     "data": {
      "text/html": [
       "<table>\n",
       "<tr><th>ID</th><th>YARN Application ID</th><th>Kind</th><th>State</th><th>Spark UI</th><th>Driver log</th><th>Current session?</th></tr><tr><td>0</td><td>application_1689258897166_0001</td><td>pyspark</td><td>idle</td><td><a target=\"_blank\" href=\"http://guxia-gcp-test2-m.us-west4-a.c.ccg24-hrzana-gds-focus.internal:8088/proxy/application_1689258897166_0001/\">Link</a></td><td><a target=\"_blank\" href=\"http://guxia-gcp-test2-w-4:8042/node/containerlogs/container_e01_1689258897166_0001_01_000001/livy\">Link</a></td><td>✔</td></tr></table>"
      ],
      "text/plain": [
       "<IPython.core.display.HTML object>"
      ]
     },
     "metadata": {},
     "output_type": "display_data"
    },
    {
     "name": "stdout",
     "output_type": "stream",
     "text": [
      "SparkSession available as 'spark'.\n",
      "<pyspark.sql.session.SparkSession object at 0x7fc34c18bcc0>"
     ]
    }
   ],
   "source": [
    "\n",
    "\n",
    "spark"
   ]
  },
  {
   "cell_type": "code",
   "execution_count": null,
   "id": "3a16fa7a",
   "metadata": {},
   "outputs": [],
   "source": []
  },
  {
   "cell_type": "code",
   "execution_count": null,
   "id": "1fb80b04",
   "metadata": {},
   "outputs": [],
   "source": []
  },
  {
   "cell_type": "code",
   "execution_count": null,
   "id": "c620384a",
   "metadata": {},
   "outputs": [],
   "source": []
  },
  {
   "cell_type": "markdown",
   "id": "60c12d32",
   "metadata": {
    "execution": {
     "iopub.execute_input": "2023-07-13T13:50:06.865844Z",
     "iopub.status.busy": "2023-07-13T13:50:06.865370Z",
     "iopub.status.idle": "2023-07-13T13:50:07.565318Z",
     "shell.execute_reply": "2023-07-13T13:50:07.563742Z",
     "shell.execute_reply.started": "2023-07-13T13:50:06.865786Z"
    }
   },
   "source": [
    "# spark common usage"
   ]
  },
  {
   "cell_type": "code",
   "execution_count": 9,
   "id": "864d79a1",
   "metadata": {
    "execution": {
     "iopub.execute_input": "2023-07-13T13:51:41.639765Z",
     "iopub.status.busy": "2023-07-13T13:51:41.639518Z",
     "iopub.status.idle": "2023-07-13T13:51:44.599303Z",
     "shell.execute_reply": "2023-07-13T13:51:44.597688Z",
     "shell.execute_reply.started": "2023-07-13T13:51:41.639731Z"
    }
   },
   "outputs": [
    {
     "name": "stdout",
     "output_type": "stream",
     "text": [
      "+--------+--------------------+-----------+\n",
      "|database|           tableName|isTemporary|\n",
      "+--------+--------------------+-----------+\n",
      "|     edw| account_action_view|      false|\n",
      "|     edw|       account_party|      false|\n",
      "|     edw| account_party_daily|      false|\n",
      "|     edw|account_party_inc...|      false|\n",
      "|     edw|account_party_mon...|      false|\n",
      "|     edw|account_partyincr...|      false|\n",
      "|     edw|account_partysnp_...|      false|\n",
      "|     edw|account_property_...|      false|\n",
      "|     edw|account_property_...|      false|\n",
      "|     edw|account_property_...|      false|\n",
      "+--------+--------------------+-----------+\n",
      "only showing top 10 rows"
     ]
    }
   ],
   "source": [
    "# run spark sql\n",
    "\n",
    "spark.sql(\"show tables from edw\").show(10)"
   ]
  },
  {
   "cell_type": "code",
   "execution_count": null,
   "id": "57904f86",
   "metadata": {},
   "outputs": [],
   "source": []
  },
  {
   "cell_type": "code",
   "execution_count": null,
   "id": "e06dc1e3",
   "metadata": {},
   "outputs": [],
   "source": []
  },
  {
   "cell_type": "code",
   "execution_count": null,
   "id": "828bb166",
   "metadata": {},
   "outputs": [],
   "source": []
  },
  {
   "cell_type": "code",
   "execution_count": 8,
   "id": "cf9eb99d",
   "metadata": {
    "execution": {
     "iopub.execute_input": "2023-07-13T13:51:25.285327Z",
     "iopub.status.busy": "2023-07-13T13:51:25.284827Z",
     "iopub.status.idle": "2023-07-13T13:51:41.638112Z",
     "shell.execute_reply": "2023-07-13T13:51:41.636941Z",
     "shell.execute_reply.started": "2023-07-13T13:51:25.285261Z"
    }
   },
   "outputs": [
    {
     "name": "stdout",
     "output_type": "stream",
     "text": [
      "+-------------------+--------------------+----------------------+--------+-------------------+\n",
      "|     account_number|wtransaction_base_id|wtransaction_parent_id|  flags1|date_event_recorded|\n",
      "+-------------------+--------------------+----------------------+--------+-------------------+\n",
      "|1778524597166961830|   20748132657939060|                     0|38141952|2021-08-31 19:30:00|\n",
      "|1996916945488670630|   20748129476052161|     20745937334752552| 4325376|2021-08-31 19:30:01|\n",
      "|1509486644028769886|   20747933563951222|                     0|37748736|2021-08-31 19:30:02|\n",
      "|1454599185646625822|   20748132657941739|                     0| 4456448|2021-08-31 19:30:03|\n",
      "|1771413506920420502|   20747933564032936|     20748132657051097|38141952|2021-08-31 19:30:05|\n",
      "|2020741488575112110|   20748107094280069|                     0| 4587520|2021-08-31 19:30:06|\n",
      "|1790208466044208718|   20748132658031956|     20748136819653854|37879808|2021-08-31 19:30:07|\n",
      "|1978179424939842062|   20748132658039004|                     0|33816576|2021-08-31 19:30:09|\n",
      "|1863638028056583302|   20748125531926021|     20748137009521532| 4325376|2021-08-31 19:30:10|\n",
      "|2236073478273929270|   20748125531933456|     20748129476086994| 4194304|2021-08-31 19:30:11|\n",
      "+-------------------+--------------------+----------------------+--------+-------------------+"
     ]
    }
   ],
   "source": [
    "# run sql to query table\n",
    "\n",
    "spark.sql(\"\"\"\n",
    "            select\n",
    "                account_number,\n",
    "                wtransaction_base_id,\n",
    "                wtransaction_parent_id,\n",
    "                flags1,date_event_recorded \n",
    "            from edw.idi_txn_event_sender_increment \n",
    "            where dt='2021-09-01' \n",
    "            limit 10\"\"\")\\\n",
    "        .show()"
   ]
  },
  {
   "cell_type": "code",
   "execution_count": 32,
   "id": "02476df0",
   "metadata": {
    "execution": {
     "iopub.execute_input": "2023-07-13T14:02:34.344271Z",
     "iopub.status.busy": "2023-07-13T14:02:34.343899Z",
     "iopub.status.idle": "2023-07-13T14:02:37.287950Z",
     "shell.execute_reply": "2023-07-13T14:02:37.286345Z",
     "shell.execute_reply.started": "2023-07-13T14:02:34.344225Z"
    }
   },
   "outputs": [
    {
     "name": "stdout",
     "output_type": "stream",
     "text": [
      "+--------------------+-------------+-------+\n",
      "|            col_name|    data_type|comment|\n",
      "+--------------------+-------------+-------+\n",
      "|                  id|decimal(18,0)|   null|\n",
      "|      account_number|decimal(38,0)|   null|\n",
      "|wtransaction_base_id|decimal(38,0)|   null|\n",
      "|event_sequence_nu...|decimal(18,0)|   null|\n",
      "|wtransaction_shar...|decimal(38,0)|   null|\n",
      "|wtransaction_pare...|decimal(38,0)|   null|\n",
      "|         activity_id|       string|   null|\n",
      "|time_event_published|       bigint|   null|\n",
      "| date_event_recorded|       string|   null|\n",
      "|            event_dt|       string|   null|\n",
      "+--------------------+-------------+-------+\n",
      "only showing top 10 rows"
     ]
    }
   ],
   "source": [
    "# run some hive query\n",
    "\n",
    "df = spark.sql(\"\"\"describe table extended\n",
    "                edw.idi_txn_event_sender_increment\n",
    "                \"\"\")\n",
    "\n",
    "df.show(10)"
   ]
  },
  {
   "cell_type": "code",
   "execution_count": 31,
   "id": "a8a67a2d",
   "metadata": {
    "execution": {
     "iopub.execute_input": "2023-07-13T14:02:30.025700Z",
     "iopub.status.busy": "2023-07-13T14:02:30.025116Z",
     "iopub.status.idle": "2023-07-13T14:02:30.789265Z",
     "shell.execute_reply": "2023-07-13T14:02:30.788152Z",
     "shell.execute_reply.started": "2023-07-13T14:02:30.025653Z"
    }
   },
   "outputs": [
    {
     "name": "stdout",
     "output_type": "stream",
     "text": [
      "Row(data_type='gs://pypl-bkt-prd-row-std-edw/sys/pp_dt/SD/mozart/idi_txn_event_sender/sequence/incremental')"
     ]
    }
   ],
   "source": [
    "for r in df.where(\"col_name = 'Location'\").select('data_type').take(1):\n",
    "    print(r)"
   ]
  },
  {
   "cell_type": "code",
   "execution_count": null,
   "id": "324cbe72",
   "metadata": {},
   "outputs": [],
   "source": []
  },
  {
   "cell_type": "markdown",
   "id": "587c682a",
   "metadata": {},
   "source": [
    "# query BQ"
   ]
  },
  {
   "cell_type": "code",
   "execution_count": 14,
   "id": "4d10e527",
   "metadata": {
    "execution": {
     "iopub.execute_input": "2023-07-13T13:56:22.903585Z",
     "iopub.status.busy": "2023-07-13T13:56:22.903157Z",
     "iopub.status.idle": "2023-07-13T13:56:23.639052Z",
     "shell.execute_reply": "2023-07-13T13:56:23.637487Z",
     "shell.execute_reply.started": "2023-07-13T13:56:22.903535Z"
    }
   },
   "outputs": [],
   "source": [
    "# config spark\n",
    "\n",
    "spark.conf.set(\"viewsEnabled\",\"true\")\n",
    "spark.conf.set(\"materializationProject\",\"pypl-bods\")\n",
    "spark.conf.set(\"materializationDataset\",\"rsh_row_gds_focus\")\n",
    "spark.conf.set(\"temporaryGcsBucket\", \"pypl-bkt-rsh-row-std-gds-focus\")"
   ]
  },
  {
   "cell_type": "code",
   "execution_count": 19,
   "id": "8d9a88d2",
   "metadata": {
    "execution": {
     "iopub.execute_input": "2023-07-13T13:59:37.444635Z",
     "iopub.status.busy": "2023-07-13T13:59:37.444306Z",
     "iopub.status.idle": "2023-07-13T13:59:40.388792Z",
     "shell.execute_reply": "2023-07-13T13:59:40.387684Z",
     "shell.execute_reply.started": "2023-07-13T13:59:37.444589Z"
    }
   },
   "outputs": [
    {
     "name": "stdout",
     "output_type": "stream",
     "text": [
      "+--------------------+-------------------+-------------------+--------------+\n",
      "|            trans_id|            sndr_id|            rcvr_id|pmt_start_date|\n",
      "+--------------------+-------------------+-------------------+--------------+\n",
      "|-183797408602.000...|1915844909242874861|1414419792023701308|    2023-07-01|\n",
      "|-183797408991.000...|1264487720233957504|1487837148248857168|    2023-07-01|\n",
      "|-183797408850.000...|2046163580981915878|1592617174854680508|    2023-07-01|\n",
      "|-183797396659.000...|1306152733027564313|1944253031083811403|    2023-07-01|\n",
      "|-183797407246.000...|2093441894510465126|1944253031083811403|    2023-07-01|\n",
      "|-183797377128.000...|1954517115921914226|1944253031083811403|    2023-07-01|\n",
      "|-183797406314.000...|1586208010482336692|1944253031083811403|    2023-07-01|\n",
      "|-183797408862.000...|2021937567426120519|2121522853507690020|    2023-07-01|\n",
      "|-183797408941.000...|1422677759774730357|2252292727476257096|    2023-07-01|\n",
      "|-183797408588.000...|1792819530557327422|2260763317790745551|    2023-07-01|\n",
      "+--------------------+-------------------+-------------------+--------------+"
     ]
    }
   ],
   "source": [
    "# query BQ uds\n",
    "\n",
    "sql = \"\"\"\n",
    "select\n",
    "    trans_id\n",
    "    , sndr_id \n",
    "    , rcvr_id \n",
    "    , pmt_start_date\n",
    "from pypl-edw.pp_risk_ops_views.unified_dataset_v4 \n",
    "where\n",
    "    pmt_start_date between '2023-07-01' and '2023-07-01'\n",
    "limit 10\n",
    "\"\"\"\n",
    "\n",
    "df = spark.read.format(\"bigquery\").option(\"query\", sql).load()\n",
    "\n",
    "df.show()"
   ]
  },
  {
   "cell_type": "code",
   "execution_count": 20,
   "id": "2e314920",
   "metadata": {
    "execution": {
     "iopub.execute_input": "2023-07-13T13:59:40.428680Z",
     "iopub.status.busy": "2023-07-13T13:59:40.428415Z",
     "iopub.status.idle": "2023-07-13T13:59:41.181516Z",
     "shell.execute_reply": "2023-07-13T13:59:41.180292Z",
     "shell.execute_reply.started": "2023-07-13T13:59:40.428642Z"
    }
   },
   "outputs": [
    {
     "name": "stdout",
     "output_type": "stream",
     "text": [
      "root\n",
      " |-- trans_id: bignumeric (nullable = true)\n",
      " |-- sndr_id: string (nullable = true)\n",
      " |-- rcvr_id: string (nullable = true)\n",
      " |-- pmt_start_date: date (nullable = true)"
     ]
    }
   ],
   "source": [
    "df.printSchema()"
   ]
  },
  {
   "cell_type": "code",
   "execution_count": null,
   "id": "ecaac82c",
   "metadata": {},
   "outputs": [],
   "source": []
  },
  {
   "cell_type": "markdown",
   "id": "9a9fd865",
   "metadata": {},
   "source": [
    "# load file"
   ]
  },
  {
   "cell_type": "code",
   "execution_count": 5,
   "id": "2eebb73e",
   "metadata": {
    "scrolled": true
   },
   "outputs": [],
   "source": [
    "parquet_data_dir = 'gs://pypl-bkt-rsh-row-std-gds-focus/user/guxia/file_center/cbp_madmen/parquet_20230101_20230131'"
   ]
  },
  {
   "cell_type": "code",
   "execution_count": 6,
   "id": "c56f61d3",
   "metadata": {},
   "outputs": [],
   "source": [
    "df = spark.read.parquet(parquet_data_dir)"
   ]
  },
  {
   "cell_type": "code",
   "execution_count": 16,
   "id": "b0691a22",
   "metadata": {
    "scrolled": true
   },
   "outputs": [
    {
     "name": "stdout",
     "output_type": "stream",
     "text": [
      "StructField(vm_var_sfv3_ip_num_dist_acct_add_device,StringType,true)\n",
      "StructField(vt_amt_pct_growth_2m,StringType,true)\n",
      "StructField(wasn_br_gm,StringType,true)\n",
      "StructField(wasn_pmts_gm,StringType,true)\n",
      "StructField(weekOfYear,StringType,true)\n",
      "StructField(xb_amt_ind_rate,StringType,true)\n",
      "StructField(zip_sf_gloss_rate_12m,StringType,true)\n",
      "StructField(zip_urt_rate_12m,StringType,true)\n",
      "StructField(zip_urt_rate_3m,StringType,true)\n",
      "StructField(zip_users_12m,StringType,true)"
     ]
    }
   ],
   "source": [
    "for c in df.schema[-10:]:\n",
    "    print(c)"
   ]
  },
  {
   "cell_type": "code",
   "execution_count": null,
   "id": "3f20402b",
   "metadata": {},
   "outputs": [],
   "source": [
    "for c in df.columns[-10:]:\n",
    "    print(c)"
   ]
  },
  {
   "cell_type": "code",
   "execution_count": null,
   "id": "b6ed6baa",
   "metadata": {},
   "outputs": [],
   "source": []
  },
  {
   "cell_type": "code",
   "execution_count": null,
   "id": "2340e95a",
   "metadata": {},
   "outputs": [],
   "source": []
  },
  {
   "cell_type": "code",
   "execution_count": null,
   "id": "1ae89c35",
   "metadata": {},
   "outputs": [],
   "source": []
  }
 ],
 "metadata": {
  "kernelspec": {
   "display_name": "Python 3 (ipykernel)",
   "language": "python",
   "name": "python3"
  },
  "language_info": {
   "codemirror_mode": {
    "name": "ipython",
    "version": 3
   },
   "file_extension": ".py",
   "mimetype": "text/x-python",
   "name": "python",
   "nbconvert_exporter": "python",
   "pygments_lexer": "ipython3",
   "version": "3.11.4"
  },
  "toc-autonumbering": true
 },
 "nbformat": 4,
 "nbformat_minor": 5
}
