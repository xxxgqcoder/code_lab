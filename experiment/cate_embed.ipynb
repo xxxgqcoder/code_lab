{
 "cells": [
  {
   "cell_type": "markdown",
   "id": "b731a095-58de-43cd-8719-c5a730370d90",
   "metadata": {},
   "source": [
    "# category feature embedding expt"
   ]
  },
  {
   "cell_type": "code",
   "execution_count": 2,
   "id": "0aa8c72e-d65c-4d97-a345-7fbd66763695",
   "metadata": {},
   "outputs": [],
   "source": [
    "from collections import namedtuple\n",
    "import numpy as np\n",
    "import tensorflow as tf"
   ]
  },
  {
   "cell_type": "code",
   "execution_count": 3,
   "id": "135122b9-d9b8-433d-a562-4eebdc881389",
   "metadata": {},
   "outputs": [],
   "source": [
    "VarMeta = namedtuple('VarMeta', ['name', 'catalog', 'dist_num'])"
   ]
  },
  {
   "cell_type": "code",
   "execution_count": 4,
   "id": "7346b1c2-3797-4e7f-acdd-071b30616779",
   "metadata": {},
   "outputs": [],
   "source": [
    "var_metas = {\n",
    "    'var1': VarMeta(name='var1', catalog='N', dist_num=None),\n",
    "    'var2': VarMeta(name='var2', catalog='N', dist_num=None),\n",
    "    'var3': VarMeta(name='var3', catalog='C', dist_num=10),\n",
    "    'var4': VarMeta(name='var4', catalog='N', dist_num=None),\n",
    "    'var5': VarMeta(name='var5', catalog='C', dist_num=10),\n",
    "}"
   ]
  },
  {
   "cell_type": "code",
   "execution_count": 5,
   "id": "7712ac18-b1b2-4f90-a8db-41224641b5ed",
   "metadata": {},
   "outputs": [],
   "source": [
    "features = sorted([v for v in var_metas])"
   ]
  },
  {
   "cell_type": "code",
   "execution_count": null,
   "id": "773d3266-96fb-4215-b545-c9dfd786d586",
   "metadata": {},
   "outputs": [],
   "source": []
  },
  {
   "cell_type": "code",
   "execution_count": 6,
   "id": "c5c1f3b6-d1e9-4f48-b5b6-faf24dbd7ec9",
   "metadata": {},
   "outputs": [],
   "source": [
    "class CategoryEmbeddingLayer(tf.keras.layers.Layer):\n",
    "    def __init__(self, var_metas, features, embed_dim=10):\n",
    "        super(CategoryEmbeddingLayer, self).__init__()\n",
    "        self.var_metas = var_metas\n",
    "        self.features = features\n",
    "        self.embed_dim = embed_dim\n",
    "        \n",
    "        self.numerical_features = [v for v in features if var_metas[v].catalog == 'N']\n",
    "        self.category_features = [v for v in features if var_metas[v].catalog == 'C']\n",
    "    \n",
    "    def call(self, feature_vec):\n",
    "        print(f'input feature_vec shape: {feature_vec.shape}')\n",
    "        \n",
    "        numerical_num = len(self.numerical_features)\n",
    "        category_num = len(self.category_features)\n",
    "        \n",
    "        mask = [self.var_metas[v].catalog=='N' for v in self.features]\n",
    "        print(f'numerical mask: {mask}')\n",
    "        numerical_vec = tf.boolean_mask(feature_vec, mask, axis=1)\n",
    "        numerical_vec = tf.cast(numerical_vec, dtype=tf.float64)\n",
    "        numerical_vec = tf.ensure_shape(numerical_vec, (None, numerical_num))\n",
    "        print(f'input numerical_vec shape: {numerical_vec.shape}')\n",
    "\n",
    "        mask = [self.var_metas[v].catalog=='C' for v in self.features]\n",
    "        print(f'cateogry mask: {mask}')\n",
    "        category_idx = tf.boolean_mask(feature_vec, mask, axis=1)\n",
    "        category_idx = tf.cast(category_idx, dtype=tf.int32)\n",
    "        category_idx = tf.ensure_shape(category_idx, (None, category_num))\n",
    "        print(f'input category_idx shape: {category_idx.shape}')       \n",
    "        category_embeds = self.cate_embedding(category_idx)\n",
    "        \n",
    "        if len(numerical_vec.shape.as_list()) == 1:\n",
    "            numerical_vec = tf.expand_dims(numerical_vec, axis=0)\n",
    "    \n",
    "        print(f'numberical vector shape: {numerical_vec.shape}, dtype: {numerical_vec.dtype}')\n",
    "        print(f'category embedding shape: {category_embeds.shape}, dtype: {category_embeds.dtype}')\n",
    "        combo_vec = tf.concat([numerical_vec, category_embeds], axis=1)\n",
    "        print(f'concated feature vector, shape: {combo_vec.shape}')\n",
    "        \n",
    "        return combo_vec\n",
    "\n",
    "    \n",
    "    def cate_embedding(self, category_idx):\n",
    "        embeds = []\n",
    "        for i, v in enumerate(self.category_features):\n",
    "            cate_idx = tf.gather(category_idx, i, axis=1)\n",
    "            tf.Assert(tf.less_equal(tf.squeeze(cate_idx), self.var_metas[v].dist_num - 1),\n",
    "                      [cate_idx, self.var_metas[v].dist_num])\n",
    "            \n",
    "            embed = tf.keras.layers.Embedding(input_dim=self.var_metas[v].dist_num,\n",
    "                                              output_dim=self.embed_dim)(cate_idx)\n",
    "            print(f'orgin embed shape: {embed.shape}')\n",
    "            if len(embed.shape.as_list()) == 1:\n",
    "                embed = tf.expand_dims(embed, axis=0)\n",
    "            embeds.append(embed)\n",
    "\n",
    "        category_embeds = tf.cast(tf.concat(embeds, axis=-1), dtype=tf.float64)\n",
    "        return category_embeds"
   ]
  },
  {
   "cell_type": "code",
   "execution_count": null,
   "id": "2ba5c0fe-bc1b-49ac-bce0-f05e68c1f820",
   "metadata": {},
   "outputs": [],
   "source": []
  },
  {
   "cell_type": "code",
   "execution_count": null,
   "id": "924967ec-6649-4ce6-a9b0-83e8aac5250e",
   "metadata": {},
   "outputs": [],
   "source": [
    "\n",
    "model = tf.keras.Sequential()\n",
    "\n",
    "model.add(tf.keras.layers.InputLayer(name='inputs', input_shape=(len(features),)))\n",
    "model.add(CategoryEmbeddingLayer(var_metas=var_metas, features=features))\n",
    "model.add(tf.keras.layers.Dense(23))\n",
    "model.compile(tf.optimizers.RMSprop(0.001), loss='mse')"
   ]
  },
  {
   "cell_type": "code",
   "execution_count": null,
   "id": "94453ea5-0515-47f6-92bc-644dc4c4cb70",
   "metadata": {},
   "outputs": [],
   "source": []
  },
  {
   "cell_type": "code",
   "execution_count": null,
   "id": "1bef48f6-8cf7-4131-bac2-eaade80bbfb8",
   "metadata": {},
   "outputs": [],
   "source": [
    "model.summary()\n",
    "\n"
   ]
  },
  {
   "cell_type": "code",
   "execution_count": null,
   "id": "c8e9337b-8096-496a-a9ed-c6caa31130f6",
   "metadata": {},
   "outputs": [],
   "source": []
  },
  {
   "cell_type": "code",
   "execution_count": null,
   "id": "78bac0f1-8ab5-4e63-b072-6c6ed76e8f38",
   "metadata": {},
   "outputs": [],
   "source": []
  },
  {
   "cell_type": "code",
   "execution_count": null,
   "id": "64b4f297-5739-44d8-8f55-4c346f866bc0",
   "metadata": {},
   "outputs": [],
   "source": []
  },
  {
   "cell_type": "code",
   "execution_count": 7,
   "id": "24336a36-3e1f-4130-885d-d8fa14086ec3",
   "metadata": {},
   "outputs": [
    {
     "name": "stdout",
     "output_type": "stream",
     "text": [
      "input feature_vec shape: (1, 5)\n",
      "numerical mask: [True, True, False, True, False]\n",
      "input numerical_vec shape: (1, 3)\n",
      "cateogry mask: [False, False, True, False, True]\n",
      "input category_idx shape: (1, 2)\n",
      "orgin embed shape: (1, 10)\n",
      "orgin embed shape: (1, 10)\n",
      "numberical vector shape: (1, 3), dtype: <dtype: 'float64'>\n",
      "category embedding shape: (1, 20), dtype: <dtype: 'float64'>\n",
      "concated feature vector, shape: (1, 23)\n"
     ]
    },
    {
     "name": "stderr",
     "output_type": "stream",
     "text": [
      "2023-02-18 14:47:34.140757: I tensorflow/core/platform/cpu_feature_guard.cc:193] This TensorFlow binary is optimized with oneAPI Deep Neural Network Library (oneDNN) to use the following CPU instructions in performance-critical operations:  AVX2 FMA\n",
      "To enable them in other operations, rebuild TensorFlow with the appropriate compiler flags.\n"
     ]
    }
   ],
   "source": [
    "feature_vec = np.random.randn(len(features))\n",
    "\n",
    "for i, f in enumerate(features):\n",
    "    if var_metas[f].catalog == 'N':\n",
    "        continue\n",
    "    feature_vec[i] += i \n",
    "\n",
    "feature_vec = tf.convert_to_tensor(feature_vec, dtype=tf.float64)\n",
    "\n",
    "layer = CategoryEmbeddingLayer(var_metas=var_metas, features=features)\n",
    "\n",
    "ret = layer(tf.expand_dims(feature_vec, axis=0))"
   ]
  },
  {
   "cell_type": "code",
   "execution_count": null,
   "id": "64a14691-7556-4d2f-a96e-834b0bd549b4",
   "metadata": {},
   "outputs": [],
   "source": []
  },
  {
   "cell_type": "code",
   "execution_count": null,
   "id": "e7b85f91-1874-418f-8d29-62b924b85b9c",
   "metadata": {},
   "outputs": [],
   "source": []
  }
 ],
 "metadata": {
  "kernelspec": {
   "display_name": "Python 3 (ipykernel)",
   "language": "python",
   "name": "python3"
  },
  "language_info": {
   "codemirror_mode": {
    "name": "ipython",
    "version": 3
   },
   "file_extension": ".py",
   "mimetype": "text/x-python",
   "name": "python",
   "nbconvert_exporter": "python",
   "pygments_lexer": "ipython3",
   "version": "3.8.5"
  }
 },
 "nbformat": 4,
 "nbformat_minor": 5
}
